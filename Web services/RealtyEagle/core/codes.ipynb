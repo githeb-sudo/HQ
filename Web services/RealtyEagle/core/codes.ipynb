{
  "nbformat": 4,
  "nbformat_minor": 0,
  "metadata": {
    "colab": {
      "name": "Azurreo.ipynb",
      "provenance": [],
      "collapsed_sections": []
    },
    "kernelspec": {
      "name": "python3",
      "display_name": "Python 3"
    },
    "language_info": {
      "name": "python"
    }
  },
  "cells": [
    {
      "cell_type": "code",
      "metadata": {
        "id": "Zagl_3Q2zISp"
      },
      "source": [
        "%%sh\n",
        "pip install selenium \n",
        "pip install webdriver-manager\n",
        "pip install cloudscraper"
      ],
      "execution_count": null,
      "outputs": []
    },
    {
      "cell_type": "code",
      "metadata": {
        "id": "KKqXhm-8pUNQ"
      },
      "source": [
        "import html5lib, lxml, requests , re, cloudscraper, os, csv, time, sys, random\n",
        "from bs4 import BeautifulSoup as bs\n",
        "import numpy as np\n",
        "import pandas as pd\n",
        "from time import sleep\n",
        "from selenium import webdriver\n",
        "from selenium.webdriver.common.keys import Keys"
      ],
      "execution_count": null,
      "outputs": []
    },
    {
      "cell_type": "code",
      "metadata": {
        "id": "7ETIQtCbz-Z0"
      },
      "source": [
        "\n",
        "from webdriver_manager.chrome import ChromeDriverManager\n",
        "from time import sleep\n",
        "\n",
        "url = \"https://www.logic-immo.com/vente-immobilier-0,1_0/options/groupprptypesids=1\"\n",
        "\n",
        "driver = webdriver.Chrome(ChromeDriverManager().install())\n",
        "driver.get(url)\n",
        "sleep(20)\n",
        "p_element = driver.find_element_by_id(id_=\"add-to-selection\")\n",
        "print(p_element)\n",
        "\n",
        "scraper = cloudscraper.create_scraper()\n",
        "source= scraper.get(url).text\n",
        "\n",
        "#source=requests.get(\"https://scrapeme.live/shop/\").text"
      ],
      "execution_count": null,
      "outputs": []
    },
    {
      "cell_type": "code",
      "metadata": {
        "id": "Du_mse4tycaF"
      },
      "source": [
        "random_url = f\"https://www.logic-immo.com/vente-immobilier-0,{random.randint(1,23)}_0/options/groupprptypesids={random.randint(1,23)}/page={random.randint(1,23)}\"\n",
        "requests.get(random_url).text\n",
        "\n",
        "scraper = cloudscraper.create_scraper()\n",
        "scraper.get(random_url).text"
      ],
      "execution_count": null,
      "outputs": []
    },
    {
      "cell_type": "code",
      "metadata": {
        "id": "w_akR3qIJPnv"
      },
      "source": [
        "extacted_data='extacted_data.csv'\n",
        "header=np.where(os.path.exists(extacted_data),0,1)\n",
        "with open(extacted_data, 'a', encoding='UTF8', newline='') as f:\n",
        "    writer = csv.writer(f)\n",
        "\n",
        "    # Other available data: energy_letter, client_type, client_id, position, media\n",
        "    #writer.writerow(['list_name','position','price','estate_type','distribution_type','space','id','id_solo','client_id','photos_nb','estate_postalcode','client_postalcode','country','client_type','parent_site','floor_nb','nb_rooms','nb_bedrooms','energy_letter','product_status','media','product_type']) if header else None\n",
        "    writer.writerow(['price','estate_type','distribution_type','space','id_solo','photos_nb','floor_nb','nb_rooms','nb_bedrooms','estate_postalcode','url2post','region']) if header else None\n",
        "    hourlylimit_supervisor=0\n",
        "    for code_region in range(5,24):\n",
        "        page=0\n",
        "        time.sleep(10)\n",
        "        \n",
        "        annonces=[-1] \n",
        "        while(annonces!=[]):\n",
        "\n",
        "            # to avoid being blocked and having to solve captcha            \n",
        "            # if (hourlylimit_supervisor>390):\n",
        "            #   hourlylimit_supervisor=0\n",
        "            #   sleep(7200)\n",
        "\n",
        "\n",
        "            # random clicks to avoid a detection of a crawling pattern\n",
        "            \n",
        "\n",
        "            random_url = f\"https://www.logic-immo.com/vente-immobilier-0,{random.randint(1,23)}_0/options/groupprptypesids={random.randint(1,23)}/page={random.randint(1,23)}\"\n",
        "            requests.get(random_url).text\n",
        "\n",
        "            # to be gentle with the site and to emulate a human behavior\n",
        "            time.sleep(15) \n",
        "\n",
        "            page+=1\n",
        "            url = f\"https://www.logic-immo.com/vente-immobilier-0,{code_region}_0/options/groupprptypesids=1/page={page}\"\n",
        "            scraper = cloudscraper.create_scraper()\n",
        "            source= scraper.get(url).text\n",
        "\n",
        "            soup=bs(source,'lxml')\n",
        "            annonces=soup.find_all(\"a\", class_=\"add-to-selection\")\n",
        "\n",
        "            for annonce in annonces:    \n",
        "\n",
        "                hourlylimit_supervisor+=1\n",
        "\n",
        "                target_field=str(annonce).split(\"{\")[3]\n",
        "                target_data=re.findall(r':([0-9]+)', target_field)\n",
        "                target_data.pop(0)                  #remove position\n",
        "                target_data.pop()                   #remove media\n",
        "                if (len(target_data)<9):            # -1 if floor_nb is not defined\n",
        "                    target_data.insert(6,-1) \n",
        "                elif (len(target_data)>9):         \n",
        "                    target_data.pop()\n",
        "\n",
        "                target_data+=re.findall(r'.*estate_postalcode.:\\'([\\d]+)', target_field) # Preserve the estate_postalcode\n",
        "                \n",
        "                id=target_field[target_field.find(\"id\")+5:target_field.find(\"id_\")-3]\n",
        "                url2post=\"https://www.logic-immo.com/detail-vente-\"+id+\".htm\"\n",
        "                target_data.append(url2post)\n",
        "                target_data.append(code_region)\n",
        "                writer.writerow(target_data)\n"
      ],
      "execution_count": null,
      "outputs": []
    },
    {
      "cell_type": "code",
      "metadata": {
        "id": "H3OFs2STay1r"
      },
      "source": [
        "\"\"\"\n",
        "Variables: proposed_price(), apport_complementaire\n",
        "Input: duree_2possession\n",
        "From databases: id, price, surface, prix_2ref_moyen_m2,val_loc_indicative_m2, url2post,estate_postalcode\n",
        "\n",
        "other existing information \n",
        "        # estate_type\n",
        "        # distribution_type: 1 location, 2 vente\n",
        "        # photos_nb\n",
        "        # floor_nb\n",
        "        # nb_rooms\n",
        "        # nb_bedrooms\n",
        "\n",
        "Might be useful if found: \n",
        "        # historique/ the amount deemed necessary for repairs\n",
        "        # Economy/ Market outlook on real estate\n",
        "        # Future estimations of demographics, Government Policies\n",
        "\n",
        "\"\"\"\n",
        "\n",
        "\n",
        "duree_pret_en_Mois=180\n",
        "interets=1.03\n",
        "interets_mensuel=interets/1200\n",
        "assurance_Pret=0.273\n",
        "caution_PPD,levee_PPD=2500,2500\n",
        "penalités_RA=0.03\n",
        "\n",
        "annuite=interets_mensuel/(1-(1+interets_mensuel)**(-duree_pret_en_Mois))\n",
        "\n",
        "\n",
        "frais_dagence=10000\n",
        "pourcentage_commission=0.0799\n",
        "charge=75\n",
        "taux_fonciere=33.3\n",
        "\n",
        "taux_occupation=0.8\n",
        "\n",
        "class Bien():\n",
        "    def __init__(self,apport_complementaire,price,surface,estate_postalcode,url2post,prix_2ref_moyen_m2,val_loc_indicative_m2):\n",
        "\n",
        "        self.price=price\n",
        "        self.surface=surface\n",
        "        self.estate_postalcode=estate_postalcode\n",
        "        self.url2post=url2post\n",
        "\n",
        "        self.apport_complementaire=apport_complementaire\n",
        "\n",
        "        self.prix_2ref_moyen_m2=int(prix_2ref_moyen_m2)\n",
        "        self.val_loc_indicative_m2=val_loc_indicative_m2\n",
        "\n",
        "    market_value=lambda self:self.prix_2ref_moyen_m2*self.surface \n",
        "    worth_it=lambda self:self.market_value()>0.9*self.price  #True                            # when acquiring more accurate gov data self.market_value()>0.9*self.price \n",
        "\n",
        "    proposed_price=lambda self:  self.market_value()*0.9 #self.price*0.9          # when acquiring more accurate gov data self.market_value()*0.9\n",
        "\n",
        "    get_apport_aubanque=lambda self:0.2*self.proposed_price()+self.apport_complementaire\n",
        "    #+pourcentage_commission*(self.proposed_price()-frais_dagence)\n",
        "\n",
        "    get_emprunte=lambda self:self.proposed_price()-self.get_apport_aubanque()\n",
        "    get_price_per_m2=lambda self:self.price/self.surface\n",
        "    get_prix_propose_par_m2=lambda self:self.proposed_price()/self.surface\n",
        "    get_mensualites_pret=lambda self:self.get_emprunte()*annuite\n",
        "    get_mensualites_assu=lambda self:self.get_emprunte()*assurance_Pret/1200\n",
        "\n",
        "    get_loyer_bas=lambda self:self.surface*self.val_loc_indicative_m2+0.6*charge\n",
        "    get_loyer_haut=lambda self:self.get_loyer_bas()+0.4*charge+taux_fonciere\n",
        "\n",
        "    \n",
        "    \n",
        "    def residuel(self,duree_2possession):\n",
        "        return self.residuel(duree_2possession-1)*(interets_mensuel+1)-annuite*self.get_emprunte() if duree_2possession>=1 else self.get_emprunte()\n",
        "\n",
        "    get_capital_rembourse=lambda self,duree_2possession:self.get_emprunte()-self.residuel(duree_2possession)\n",
        "\n",
        "    get_plus_value=lambda self:0.2*self.proposed_price()\n",
        "    \"\"\"\n",
        "    Assiette pour l'impôt sur le revenu 0% pour une detention de moins de 6 ans, \n",
        "                                        6% pour une detention de la 6e à la 21e année,(pour chaque annee apres la 6e)   \n",
        "                                        4% pour la 22e année\n",
        "                                        Exonération au delà de la 22e année\n",
        "\n",
        "    \"\"\"\n",
        "    abattement=lambda self,detention_enannee: self.get_plus_value()*np.where(detention_enannee<6,0,np.where(detention_enannee<=21,6,4))*(detention_enannee-6+1)/100     \n",
        "    get_impots_plus_value=lambda self,duree_2possession:( self.get_plus_value()-self.abattement(np.floor(duree_2possession/12)))*19/100 if duree_2possession<264 else 0 # Exonération au delà de la 22e année de detention\n",
        "\n",
        "    get_frais_notaire=lambda self:(self.proposed_price()-frais_dagence)*pourcentage_commission # l'historique est indisponible pour le moment pour un np.where(historique==\"Ancien\",0.0799,0.02)\n",
        "   \n",
        "   \n",
        "\n",
        "    get_revenu_aumois_i=lambda self,duree_2possession:taux_occupation*duree_2possession*self.get_loyer_bas()+(2-penalités_RA)*(self.get_emprunte()-self.residuel(duree_2possession))+self.get_plus_value()-self.get_impots_plus_value(duree_2possession)+duree_2possession*(self.get_mensualites_pret()-taux_fonciere-charge)-self.get_mensualites_assu()-self.get_frais_notaire()-frais_dagence-levee_PPD*2\n",
        "\n",
        "\n",
        "\n"
      ],
      "execution_count": null,
      "outputs": []
    },
    {
      "cell_type": "code",
      "metadata": {
        "id": "e97R_ph19GoX"
      },
      "source": [
        "import os,sys,shlex,subprocess,argparse,time,pandas\n",
        "from numpy.random import randint\n",
        "import numpy as np\n",
        "from socket import timeout\n",
        "\n",
        "# id_solo photos_nb floor_nb estate_postalcode url2post\n",
        "# values=2,[1],[1],1,0,8,None,120\n",
        "parameter_s_keys=[\"distribution_type\",\"region\",\"estate_type\",\"nb_rooms\",\"nb_bedrooms\",\"space\",\"price\",\"duree_2possession\"]\n",
        "parser = argparse.ArgumentParser()\n",
        "\n",
        "for i in range(len(parameter_s_keys)):\n",
        "    parser.add_argument('-'+parameter_s_keys[i])\n",
        "namespace = parser.parse_args()\n",
        "parameters=namespace.__dict__\n",
        "locals().update(parameters)\n",
        "\n",
        "#parameters.pop('x',\"\") x notrequired\n",
        "#check_all(parameters)\n",
        "\n",
        "scrapped_parameters=parameters\n",
        "scrapped_parameters.pop(\"duree_2possession\")\n",
        "operation=dict(zip(parameter_s_keys, [\"==\",\"in\",\"in\",\"==\",\"==\",\">=\",\">=\",\"==\"]))\n",
        "query='region>0'+\" \".join(\" and \"+key+\" \"+operation[key]+\" \"+str(value) for key,value in scrapped_parameters.items() if value!=None)\n",
        "data.query(query)\n"
      ],
      "execution_count": null,
      "outputs": []
    },
    {
      "cell_type": "code",
      "metadata": {
        "id": "7a1HVgzvZ_MB",
        "colab": {
          "base_uri": "https://localhost:8080/"
        },
        "outputId": "951e4c7c-9963-4d50-ef01-ca69b54fd319"
      },
      "source": [
        "#!!!!!!!!! Traitement des donnees dont le prix ref n'existe pas\n",
        "\n",
        "scrapped_data='scrapped_data.csv'\n",
        "#data=pd.read_csv(\"C:/Apache24/htdocs/EstatEagle/dataset/\"+scrapped_data)\n",
        "data=pd.read_csv(\"/content/\"+scrapped_data)\n",
        "data.columns\n",
        "\n",
        "parameter_s_keys=[\"distribution_type\",\"region\",\"estate_type\",\"nb_rooms\",\"nb_bedrooms\",\"space\",\"price\",\"duree_2possession\"]\n",
        "values=2,[1],[1],1,0,8,None,120\n",
        "parameters = dict(zip(parameter_s_keys, values))\n",
        "\n",
        "\n",
        "scrapped_parameters=parameters\n",
        "scrapped_parameters.pop(\"duree_2possession\")\n",
        "operation=dict(zip(parameter_s_keys, [\"==\",\"in\",\"in\",\"==\",\"==\",\">=\",\">=\",\"==\"]))\n",
        "query='region>0'+\" \".join(\" and \"+key+\" \"+operation[key]+\" \"+str(value) for key,value in scrapped_parameters.items() if value!=None)\n",
        "filtred=data.query(query)\n",
        "\n",
        "prix_moyen_2vente_m2='dvf-communes-2019.csv'\n",
        "#data_ref=pd.read_csv(\"C:/Apache24/htdocs/EstatEagle/dataset/\"+prix_moyen_2vente_m2)\n",
        "data_ref=pd.read_csv(os.getcwd()+'/'+prix_moyen_2vente_m2)\n",
        "\n",
        "lines=data_ref['ID;INSEE_COM;INSEE_DEP;INSEE_REG;CODE_EPCI;NOM_COM_M;POPULATION;Nb_Ventes;PrixMoyen_M2']\n",
        "\n",
        "info={}\n",
        "for i in lines:\n",
        "  prix=i[i.rfind(\";\")+1:]\n",
        "  info[i[18:23]]=int(prix) if (prix!='NA') else 0\n",
        "\n",
        "\n",
        "filtred['prix_2ref_moyen_m2']=[info.get(str(i),0) for i in filtred['estate_postalcode']]\n",
        "\n",
        "#filtred['market_price']=[np.where(int(info.get(str(i),'0'))*j  for i,j in zip(filtred['estate_postalcode'],filtred['space']) ]\n",
        "#second_query='market_price >+0.9*price'\n",
        "#second_filtred=filtred.query(second_query)\n"
      ],
      "execution_count": null,
      "outputs": [
        {
          "output_type": "stream",
          "name": "stderr",
          "text": [
            "/usr/local/lib/python3.7/dist-packages/ipykernel_launcher.py:31: SettingWithCopyWarning: \n",
            "A value is trying to be set on a copy of a slice from a DataFrame.\n",
            "Try using .loc[row_indexer,col_indexer] = value instead\n",
            "\n",
            "See the caveats in the documentation: https://pandas.pydata.org/pandas-docs/stable/user_guide/indexing.html#returning-a-view-versus-a-copy\n"
          ]
        }
      ]
    },
    {
      "cell_type": "code",
      "metadata": {
        "id": "y1EJAgRQUmKM"
      },
      "source": [
        "### to test \n",
        "distribution_type,region,estate_type,nb_rooms,nb_bedrooms,surface,price,duree_2possession=2,1,1,1,0,8,None,120"
      ],
      "execution_count": null,
      "outputs": []
    },
    {
      "cell_type": "code",
      "metadata": {
        "colab": {
          "base_uri": "https://localhost:8080/"
        },
        "id": "dz7cxaNSbUyX",
        "outputId": "eb4391d4-ecbd-4354-d39a-8fcbf551e87e"
      },
      "source": [
        "\n",
        "\n",
        "\"\"\"\n",
        "Bien inputs: \n",
        "        market_value,apport_complementaire,price,surface,estate_postalcode,url2post,prix_2ref_moyen_m2,val_loc_indicative_m2\n",
        "\n",
        "UI exec passed parameters: \n",
        "        distribution_type,region,estate_type,nb_rooms,nb_bedrooms,space,price,duree_2possession\n",
        "\n",
        "dataframe columns:(scrapped_data.csv + dvf-communes-2019) filtred.iterrows()\n",
        "        still exist:\n",
        "        ####################################price                                                             \n",
        "        estate_type                                                           \n",
        "        distribution_type                                                    \n",
        "        ####################################space                                                                 \n",
        "        id_solo                                                        \n",
        "        photos_nb                                                            \n",
        "        floor_nb                                                              \n",
        "        nb_rooms                                                              \n",
        "        nb_bedrooms                                                           \n",
        "        estate_postalcode                                                 \n",
        "        ####################################url2post              \n",
        "        region                                                                \n",
        "        ####################################prix_2ref_moyen_m2\n",
        "\"\"\"\n",
        "def final():\n",
        "  for i in filtred.iterrows():\n",
        "      yield (Bien(40000 ,i[1][0],i[1][3],i[1][9],i[1][10],i[1][12],22)).get_(duree_2possession), (Bien(40000 ,i[1][0],i[1][3],i[1][9],i[1][10],i[1][12],22)).worth_it()\n",
        "\n",
        "filtred['gain']=[i[0] for i in final()]\n",
        "filtred['worthit']=[i[1] for i in final()]"
      ],
      "execution_count": null,
      "outputs": [
        {
          "output_type": "stream",
          "name": "stderr",
          "text": [
            "/usr/local/lib/python3.7/dist-packages/ipykernel_launcher.py:30: SettingWithCopyWarning: \n",
            "A value is trying to be set on a copy of a slice from a DataFrame.\n",
            "Try using .loc[row_indexer,col_indexer] = value instead\n",
            "\n",
            "See the caveats in the documentation: https://pandas.pydata.org/pandas-docs/stable/user_guide/indexing.html#returning-a-view-versus-a-copy\n",
            "/usr/local/lib/python3.7/dist-packages/ipykernel_launcher.py:31: SettingWithCopyWarning: \n",
            "A value is trying to be set on a copy of a slice from a DataFrame.\n",
            "Try using .loc[row_indexer,col_indexer] = value instead\n",
            "\n",
            "See the caveats in the documentation: https://pandas.pydata.org/pandas-docs/stable/user_guide/indexing.html#returning-a-view-versus-a-copy\n"
          ]
        },
        {
          "output_type": "execute_result",
          "data": {
            "text/plain": [
              "1      False\n",
              "3      False\n",
              "4      False\n",
              "5      False\n",
              "7      False\n",
              "       ...  \n",
              "319    False\n",
              "338    False\n",
              "342    False\n",
              "380    False\n",
              "396    False\n",
              "Name: worthit, Length: 68, dtype: bool"
            ]
          },
          "metadata": {},
          "execution_count": 143
        }
      ]
    }
  ]
}