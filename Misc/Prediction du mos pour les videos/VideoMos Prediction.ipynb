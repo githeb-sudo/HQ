{
 "cells": [
  {
   "cell_type": "markdown",
   "metadata": {},
   "source": [
    "https://scikit-learn.org/stable/modules/generated/sklearn.datasets.load_iris.html"
   ]
  },
  {
   "cell_type": "code",
   "execution_count": 51,
   "metadata": {},
   "outputs": [],
   "source": [
    "%matplotlib inline"
   ]
  },
  {
   "cell_type": "code",
   "execution_count": 60,
   "metadata": {
    "collapsed": true
   },
   "outputs": [
    {
     "ename": "IndentationError",
     "evalue": "expected an indented block (<ipython-input-60-dbcd94c9ec57>, line 6)",
     "output_type": "error",
     "traceback": [
      "\u001b[1;36m  File \u001b[1;32m\"<ipython-input-60-dbcd94c9ec57>\"\u001b[1;36m, line \u001b[1;32m6\u001b[0m\n\u001b[1;33m    lines = csv.reader(open('C:\\Users\\Kislay\\Desktop\\pima-indians-diabetes.data.csv'))\u001b[0m\n\u001b[1;37m        ^\u001b[0m\n\u001b[1;31mIndentationError\u001b[0m\u001b[1;31m:\u001b[0m expected an indented block\n"
     ]
    }
   ],
   "source": [
    "import csv\n",
    "import math\n",
    "import random\n",
    "\n",
    "def loadCsv(filename):\n",
    "lines = csv.reader(open(r'C:\\Users\\Kislay\\Desktop\\pima-indians-diabetes.data.csv')\n",
    ")\n",
    "dataset = list(lines)\n",
    "for i in range(len(dataset)):\n",
    "dataset[i] = [float(x) for x in dataset[i]]\n",
    "return dataset\n",
    "\n",
    "def splitDataset(dataset, splitRatio):\n",
    "trainSize = int(len(dataset) * splitRatio)\n",
    "trainSet = []\n",
    "copy = list(dataset)\n",
    "while len(trainSet) &amp;lt; trainSize:\n",
    "index = random.randrange(len(copy))\n",
    "trainSet.append(copy.pop(index))\n",
    "return [trainSet, copy]\n",
    "\n",
    "def separateByClass(dataset):\n",
    "separated = {}\n",
    "for i in range(len(dataset)):\n",
    "vector = dataset[i]\n",
    "if (vector[-1] not in separated):\n",
    "separated[vector[-1]] = []\n",
    "separated[vector[-1]].append(vector)\n",
    "return separated\n",
    "\n",
    "def mean(numbers):\n",
    "return sum(numbers)/float(len(numbers))\n",
    "\n",
    "def stdev(numbers):\n",
    "avg = mean(numbers)\n",
    "variance = sum([pow(x-avg,2) for x in numbers])/float(len(numbers)-1)\n",
    "return math.sqrt(variance)\n",
    "\n",
    "def summarize(dataset):\n",
    "summaries = [(mean(attribute), stdev(attribute)) for attribute in zip(*dataset)]\n",
    "del summaries[-1]\n",
    "return summaries\n",
    "\n",
    "def summarizeByClass(dataset):\n",
    "separated = separateByClass(dataset)\n",
    "summaries = {}\n",
    "for classValue, instances in separated.items():\n",
    "summaries[classValue] = summarize(instances)\n",
    "return summaries\n",
    "\n",
    "def calculateProbability(x, mean, stdev):\n",
    "exponent = math.exp(-(math.pow(x-mean,2)/(2*math.pow(stdev,2))))\n",
    "return (1/(math.sqrt(2*math.pi)*stdev))*exponent\n",
    "\n",
    "def calculateClassProbabilities(summaries, inputVector):\n",
    "probabilities = {}\n",
    "for classValue, classSummaries in summaries.items():\n",
    "probabilities[classValue] = 1\n",
    "for i in range(len(classSummaries)):\n",
    "mean, stdev = classSummaries[i]\n",
    "x = inputVector[i]\n",
    "probabilities[classValue] *= calculateProbability(x, mean, stdev)\n",
    "return probabilities\n",
    "\n",
    "def predict(summaries, inputVector):\n",
    "probabilities = calculateClassProbabilities(summaries, inputVector)\n",
    "bestLabel, bestProb = None, -1\n",
    "for classValue, probability in probabilities.items():\n",
    "if bestLabel is None or probability &amp;gt; bestProb:\n",
    "bestProb = probability\n",
    "bestLabel = classValue\n",
    "return bestLabel\n",
    "\n",
    "def getPredictions(summaries, testSet):\n",
    "predictions = []\n",
    "for i in range(len(testSet)):\n",
    "result = predict(summaries, testSet[i])\n",
    "predictions.append(result)\n",
    "return predictions\n",
    "\n",
    "def getAccuracy(testSet, predictions):\n",
    "correct = 0\n",
    "for x in range(len(testSet)):\n",
    "if testSet[x][-1] == predictions[x]:\n",
    "correct += 1\n",
    "return (correct/float(len(testSet)))*100.0\n",
    "\n",
    "def main():\n",
    "filename = 'pima-indians-diabetes.data.csv'\n",
    "splitRatio = 0.67\n",
    "dataset = loadCsv(filename)\n",
    "trainingSet, testSet = splitDataset(dataset, splitRatio)\n",
    "print('Split {0} rows into train = {1} and test = {2} rows'.format(len(dataset),len(trainingSet),len(testSet)))\n",
    "#prepare model\n",
    "summaries = summarizeByClass(trainingSet)\n",
    "#test model\n",
    "predictions = getPredictions(summaries, testSet)\n",
    "accuracy = getAccuracy(testSet, predictions)\n",
    "print('Accuracy: {0}%'.format(accuracy))\n",
    "main()"
   ]
  },
  {
   "cell_type": "code",
   "execution_count": 26,
   "metadata": {},
   "outputs": [
    {
     "name": "stdout",
     "output_type": "stream",
     "text": [
      "                       precision    recall  f1-score   support\n",
      "\n",
      "     Autos & Vehicles       0.00      0.00      0.00        55\n",
      "               Comedy       0.00      0.00      0.00        23\n",
      "            Education       0.00      0.00      0.00        32\n",
      "        Entertainment       0.00      0.00      0.00       150\n",
      "     Film & Animation       0.00      0.00      0.00        32\n",
      "               Gaming       0.30      1.00      0.46       338\n",
      "        Howto & Style       0.00      0.00      0.00        43\n",
      "                Music       0.00      0.00      0.00        94\n",
      "      News & Politics       0.00      0.00      0.00        49\n",
      "Nonprofits & Activism       0.00      0.00      0.00        13\n",
      "       People & Blogs       0.00      0.00      0.00       158\n",
      "       Pets & Animals       0.00      0.00      0.00         7\n",
      " Science & Technology       0.00      0.00      0.00        47\n",
      "                Shows       0.00      0.00      0.00         3\n",
      "               Sports       0.00      0.00      0.00        62\n",
      "      Travel & Events       0.00      0.00      0.00        19\n",
      "\n",
      "             accuracy                           0.30      1125\n",
      "            macro avg       0.02      0.06      0.03      1125\n",
      "         weighted avg       0.09      0.30      0.14      1125\n",
      "\n",
      "[[  0   0   0   0   0  55   0   0   0   0   0   0   0   0   0   0]\n",
      " [  0   0   0   0   0  23   0   0   0   0   0   0   0   0   0   0]\n",
      " [  0   0   0   0   0  32   0   0   0   0   0   0   0   0   0   0]\n",
      " [  0   0   0   0   0 150   0   0   0   0   0   0   0   0   0   0]\n",
      " [  0   0   0   0   0  32   0   0   0   0   0   0   0   0   0   0]\n",
      " [  0   0   0   0   0 338   0   0   0   0   0   0   0   0   0   0]\n",
      " [  0   0   0   0   0  43   0   0   0   0   0   0   0   0   0   0]\n",
      " [  0   0   0   0   0  94   0   0   0   0   0   0   0   0   0   0]\n",
      " [  0   0   0   0   0  49   0   0   0   0   0   0   0   0   0   0]\n",
      " [  0   0   0   0   0  13   0   0   0   0   0   0   0   0   0   0]\n",
      " [  0   0   0   0   0 158   0   0   0   0   0   0   0   0   0   0]\n",
      " [  0   0   0   0   0   7   0   0   0   0   0   0   0   0   0   0]\n",
      " [  0   0   0   0   0  47   0   0   0   0   0   0   0   0   0   0]\n",
      " [  0   0   0   0   0   3   0   0   0   0   0   0   0   0   0   0]\n",
      " [  0   0   0   0   0  62   0   0   0   0   0   0   0   0   0   0]\n",
      " [  0   0   0   0   0  19   0   0   0   0   0   0   0   0   0   0]]\n"
     ]
    },
    {
     "name": "stderr",
     "output_type": "stream",
     "text": [
      "c:\\users\\azzak\\appdata\\local\\programs\\python\\python37-32\\lib\\site-packages\\sklearn\\metrics\\classification.py:1437: UndefinedMetricWarning: Precision and F-score are ill-defined and being set to 0.0 in labels with no predicted samples.\n",
      "  'precision', 'predicted', average, warn_for)\n"
     ]
    }
   ],
   "source": [
    "\n",
    "from sklearn import metrics\n",
    "from sklearn.naive_bayes import MultinomialNB\n",
    "import pandas\n",
    "\n",
    "d= pandas.read_csv(open('C:/Users/iheeb/Desktop/zzzzz/cloud/325ue-u1z0e.csv'))\n",
    "\n",
    "model = MultinomialNB()\n",
    "model.fit(d[['sad','anger','duration','money','relig']], d['category_term'])\n",
    "expected = d['category_term']\n",
    "predicted = model.predict(d[['sad','anger','duration','money','relig']])\n",
    "print(metrics.classification_report(expected, predicted))\n",
    "print(metrics.confusion_matrix(expected, predicted))\n",
    "\n",
    "def predict(s,train=d[['sad','anger','duration','money','relig']],model=model):\n",
    "    p=model.predict(s)\n",
    "    return p\n"
   ]
  },
  {
   "cell_type": "code",
   "execution_count": 25,
   "metadata": {},
   "outputs": [
    {
     "name": "stdout",
     "output_type": "stream",
     "text": [
      "[0.4965593057641423, 0.4965593057641423, 0.4965593057641423, 0.4965593057641423, 0.4965593057641423, 0.4965593057641423, 0.4965593057641423, 0.4965593057641423, 0.4965593057641423, 0.4965593057641423, 0.4965593057641423, 0.4965593057641423, 0.4965593057641423, 0.4965593057641423, 0.4965593057641423, 0.4965593057641423, 0.4965593057641423, 0.4965593057641423, 0.4965593057641423, 0.4965593057641423, 0.4965593057641423, 0.4965593057641423, 0.4965593057641423, 0.4965593057641423, 0.4965593057641423, 0.4965593057641423, 0.4965593057641423, 0.33496097719861234, 0.4965593057641423, 0.4965593057641423, 0.4965593057641423, 0.33496097719861234, 0.4965593057641423, 0]\n"
     ]
    },
    {
     "data": {
      "text/plain": [
       "<matplotlib.collections.PathCollection at 0xeb3bfb0>"
      ]
     },
     "execution_count": 25,
     "metadata": {},
     "output_type": "execute_result"
    },
    {
     "data": {
      "image/png": "[encoded data removed]",
      "text/plain": [
       "<Figure size 432x288 with 1 Axes>"
      ]
     },
     "metadata": {
      "needs_background": "light"
     },
     "output_type": "display_data"
    }
   ],
   "source": [
    "p=predict(d[d.id>1000][['sad','anger','duration','money','relig']])\n",
    "\n",
    "category=['Music', 'Shows', 'Gaming', 'Sports', 'Trailers', 'Pets & Animals', 'Science & Technology', 'Travel & Events', 'Education', 'Entertainment', 'Autos & Vehicles', 'People & Blogs', 'Film & Animation', 'Howto & Style', 'News & Politics', 'Comedy', 'Nonprofits & Activism']\n",
    "mospred=[0]*len(p)\n",
    "l=[0]*len(category)\n",
    "m=[0]*len(category)\n",
    "a=d['averageViewDuration']\n",
    "b=d['duration']\n",
    "y=[c/d for c,d in zip(a,b)]\n",
    "x=d['category_term']\n",
    "for i in range (0,len(y)-1):\n",
    "    for j in range (0,len(category)-1):\n",
    "        if (x[i]==category[j]) :\n",
    "            l[j]=l[j]+y[i]\n",
    "            m[j]=m[j]+1\n",
    "for j in range (0,len(category)-1):\n",
    "    if (m[j]!=0):\n",
    "        l[j]=l[j]/m[j]\n",
    "\n",
    "for i in range (0,len(p)-1):\n",
    "    for j in range (0,len(category)-1):\n",
    "        if (p[i]==category[j]) :\n",
    "            mospred[i]=l[j]\n",
    "print(mospred)\n",
    "n=[i for i in range(1,len(p)+1)]\n",
    "import matplotlib.pylab\n",
    "matplotlib.pylab.scatter(n,p)"
   ]
  },
  {
   "cell_type": "code",
   "execution_count": null,
   "metadata": {},
   "outputs": [],
   "source": []
  }
 ],
 "metadata": {
  "kernelspec": {
   "display_name": "Python 3",
   "language": "python",
   "name": "python3"
  },
  "language_info": {
   "codemirror_mode": {
    "name": "ipython",
    "version": 3
   },
   "file_extension": ".py",
   "mimetype": "text/x-python",
   "name": "python",
   "nbconvert_exporter": "python",
   "pygments_lexer": "ipython3",
   "version": "3.7.4"
  }
 },
 "nbformat": 4,
 "nbformat_minor": 2
}
