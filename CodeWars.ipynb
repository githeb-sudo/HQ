{
  "nbformat": 4,
  "nbformat_minor": 0,
  "metadata": {
    "colab": {
      "name": "CodeWars.ipynb",
      "provenance": [],
      "collapsed_sections": [],
      "authorship_tag": "ABX9TyO0Sx2Yt8zVFyrJBbv+k50r",
      "include_colab_link": true
    },
    "kernelspec": {
      "display_name": "Python 3",
      "name": "python3"
    },
    "language_info": {
      "name": "python"
    }
  },
  "cells": [
    {
      "cell_type": "markdown",
      "metadata": {
        "id": "view-in-github",
        "colab_type": "text"
      },
      "source": [
        "<a href=\"https://colab.research.google.com/github/Iheeeb/iheb/blob/master/CodeWars.ipynb\" target=\"_parent\"><img src=\"https://colab.research.google.com/assets/colab-badge.svg\" alt=\"Open In Colab\"/></a>"
      ]
    },
    {
      "cell_type": "code",
      "metadata": {
        "id": "1KKkcen2uO_g"
      },
      "source": [
        "import subprocess,shlex,sys,glob,functools\n",
        "import numpy as np\n",
        "import matplotlib.pyplot as plt"
      ],
      "execution_count": null,
      "outputs": []
    },
    {
      "cell_type": "code",
      "metadata": {
        "id": "_HgV0FOdUhQS"
      },
      "source": [
        "import scipy.integrate \n",
        "import random\n",
        "import matplotlib.pylab as pylab"
      ],
      "execution_count": null,
      "outputs": []
    },
    {
      "cell_type": "code",
      "metadata": {
        "id": "agHHgLc5TE8S"
      },
      "source": [
        "normal=random.gauss(0,50)\n",
        "pl.hist(normal,bins=100,)"
      ],
      "execution_count": null,
      "outputs": []
    },
    {
      "cell_type": "code",
      "metadata": {
        "id": "Ge-xiZcb8H93"
      },
      "source": [
        "%load_ext google.colab.data_table\n",
        "%load_ext tensorboard"
      ],
      "execution_count": null,
      "outputs": []
    },
    {
      "cell_type": "code",
      "metadata": {
        "id": "TTeqQAOsEfuA"
      },
      "source": [
        "#@title Python test framework master { display-mode: \"form\" }\n",
        "#@title\n",
        "from __future__ import print_function\n",
        "def expect(passed=None, message=None, allow_raise=False):\n",
        "    if passed:\n",
        "        display('PASSED', 'Test Passed')\n",
        "    else:\n",
        "        message = message or \"Value is not what was expected\"\n",
        "        display('FAILED', message)\n",
        "        if allow_raise:\n",
        "            raise AssertException(message)\n",
        "\n",
        "class test():\n",
        "  class AssertException(Exception):\n",
        "      pass\n",
        "\n",
        "\n",
        "  def format_message(message):\n",
        "      return message.replace(\"\\n\", \"<:LF:>\")\n",
        "\n",
        "\n",
        "  def display(type, message, label=\"\", mode=\"\"):\n",
        "      print(\"\\n<{0}:{1}:{2}>{3}\".format(\n",
        "          type.upper(), mode.upper(), label, format_message(message)))\n",
        "\n",
        "\n",
        "  def assert_equals(actual, expected, message=None, allow_raise=False):\n",
        "      equals_msg = \"{0} should equal {1}\".format(repr(actual), repr(expected))\n",
        "      if message is None:\n",
        "          message = equals_msg\n",
        "      else:\n",
        "          message += \": \" + equals_msg\n",
        "      expect(actual == expected, message, allow_raise)\n",
        "\n",
        "\n",
        "  def assert_not_equals(actual, expected, message=None, allow_raise=False):\n",
        "      r_actual, r_expected = repr(actual), repr(expected)\n",
        "      equals_msg = \"{0} should not equal {1}\".format(r_actual, r_expected)\n",
        "      if message is None:\n",
        "          message = equals_msg\n",
        "      else:\n",
        "          message += \": \" + equals_msg\n",
        "\n",
        "      expect(not (actual == expected), message, allow_raise)\n",
        "\n",
        "\n",
        "  def expect_error(message, function, exception=Exception):\n",
        "      passed = False\n",
        "      try:\n",
        "          function()\n",
        "      except exception:\n",
        "          passed = True\n",
        "      except Exception as e:\n",
        "          message = \"{}: {} should be {}\".format(message or \"Unexpected exception\", repr(e), repr(exception))\n",
        "      expect(passed, message)\n",
        "\n",
        "\n",
        "  def expect_no_error(message, function, exception=BaseException):\n",
        "      try:\n",
        "          function()\n",
        "      except exception as e:\n",
        "          fail(\"{}: {}\".format(message or \"Unexpected exception\", repr(e)))\n",
        "          return\n",
        "      except:\n",
        "          pass\n",
        "      pass_()\n",
        "\n",
        "\n",
        "  def pass_(): expect(True)\n",
        "\n",
        "\n",
        "  def fail(message): expect(False, message)\n",
        "\n",
        "\n",
        "  def assert_approx_equals(\n",
        "          actual, expected, margin=1e-9, message=None, allow_raise=False):\n",
        "      msg = \"{0} should be close to {1} with absolute or relative margin of {2}\"\n",
        "      equals_msg = msg.format(repr(actual), repr(expected), repr(margin))\n",
        "      if message is None:\n",
        "          message = equals_msg\n",
        "      else:\n",
        "          message += \": \" + equals_msg\n",
        "      div = max(abs(actual), abs(expected), 1)\n",
        "      expect(abs((actual - expected) / div) < margin, message, allow_raise)\n",
        "\n",
        "\n",
        "  '''\n",
        "  Usage:\n",
        "  @describe('describe text')\n",
        "  def describe1():\n",
        "      @it('it text')\n",
        "      def it1():\n",
        "          # some test cases...\n",
        "  '''\n",
        "\n",
        "\n",
        "  def _timed_block_factory(opening_text):\n",
        "      from timeit import default_timer as timer\n",
        "      from traceback import format_exception\n",
        "      from sys import exc_info\n",
        "\n",
        "      def _timed_block_decorator(s, before=None, after=None):\n",
        "          display(opening_text, s)\n",
        "\n",
        "          def wrapper(func):\n",
        "              if callable(before):\n",
        "                  before()\n",
        "              time = timer()\n",
        "              try:\n",
        "                  func()\n",
        "              except AssertionError as e:\n",
        "                  display('FAILED', str(e))\n",
        "              except Exception:\n",
        "                  fail('Unexpected exception raised')\n",
        "                  tb_str = ''.join(format_exception(*exc_info()))\n",
        "                  display('ERROR', tb_str)\n",
        "              display('COMPLETEDIN', '{:.2f}'.format((timer() - time) * 1000))\n",
        "              if callable(after):\n",
        "                  after()\n",
        "          return wrapper\n",
        "      return _timed_block_decorator\n",
        "\n",
        "\n",
        "  describe = _timed_block_factory('DESCRIBE')\n",
        "  it = _timed_block_factory('IT')\n",
        "\n",
        "\n",
        "  '''\n",
        "  Timeout utility\n",
        "  Usage:\n",
        "  @timeout(sec)\n",
        "  def some_t\n",
        "\n",
        "      any code block...\n",
        "  Note: Timeout value can be a float.\n",
        "  '''\n",
        "\n",
        "\n",
        "  def timeout(sec):\n",
        "      def wrapper(func):\n",
        "          from multiprocessing import Process\n",
        "          msg = 'Should not throw any exceptions inside timeout'\n",
        "\n",
        "          def wrapped():\n",
        "              expect_no_error(msg, func)\n",
        "          process = Process(target=wrapped)\n",
        "          process.start()\n",
        "          process.join(sec)\n",
        "          if process.is_alive():\n",
        "              fail('Exceeded time limit of {:.3f} seconds'.format(sec))\n",
        "              process.terminate()\n",
        "              process.join()\n",
        "      return wrapper\n"
      ],
      "execution_count": null,
      "outputs": []
    },
    {
      "cell_type": "code",
      "metadata": {
        "id": "2SuZvJp0b9C1"
      },
      "source": [
        "import time\n",
        "def running_time(fun,*argv):\n",
        "  start_time = time.time()\n",
        "  print(fun(*argv),\"--- %s seconds ---\" % (time.time() - start_time))"
      ],
      "execution_count": null,
      "outputs": []
    },
    {
      "cell_type": "markdown",
      "metadata": {
        "id": "3GQu5tWnv0AS"
      },
      "source": [
        "# **Sort list without using list.sort**"
      ]
    },
    {
      "cell_type": "code",
      "metadata": {
        "id": "f59boWQtvwPn"
      },
      "source": [
        "def bubbleSort(t):\n",
        "    i,sorted=0,False\n",
        "    while (i<len(t)-1 and not sorted):\n",
        "        sorted,j=True,0\n",
        "        while (j<len(t)-i-1):\n",
        "            if (t[j]>t[j+1]):\n",
        "                t[j],t[j+1]=t[j+1],t[j]\n",
        "                sorted=False\n",
        "            j+=1\n",
        "        i+=1\n",
        "    return t\n",
        "####################################################################################################################################################################################################################################################\n",
        "def combSort(t):\n",
        "    gap,sorted=len(t)-1,False\n",
        "    while(not sorted):\n",
        "        gap=int(gap/1.3)\n",
        "        if(gap<=1):\n",
        "            gap,sorted=int(max(gap,1)),True\n",
        "        j=0\n",
        "        while(j<len(t)-gap):\n",
        "            if (t[j]>t[j+gap]):\n",
        "                t[j],t[j+gap]=t[j+gap],t[j]\n",
        "                sorted=False\n",
        "            j+=1\n",
        "    return t\n",
        "\n",
        "####################################################################################################################################################################################################################################################\n",
        "def partition(array, start, end):\n",
        "    pivot = array[start]\n",
        "    low = start + 1\n",
        "    high = end\n",
        "    while True:\n",
        "        while low <= high and array[high] >= pivot:\n",
        "            high = high - 1\n",
        "        while low <= high and array[low] <= pivot:\n",
        "            low = low + 1\n",
        "        if low <= high:\n",
        "            array[low], array[high] = array[high], array[low]\n",
        "        else:\n",
        "            break\n",
        "    array[start], array[high] = array[high], array[start]\n",
        "    return high\n",
        "def quick_sort(array, start, end):\n",
        "    if start >= end:\n",
        "        return\n",
        "    p = partition(array, start, end)\n",
        "    quick_sort(array, start, p-1)\n",
        "    quick_sort(array, p+1, end)"
      ],
      "execution_count": null,
      "outputs": []
    },
    {
      "cell_type": "markdown",
      "metadata": {
        "id": "YUUZZ_uHGZDR"
      },
      "source": [
        "**Replace With Alphabet Position**\n",
        "\n",
        "Given a string, replace every letter with its position in the alphabet. (ignore non alphabetic characters)"
      ]
    },
    {
      "cell_type": "code",
      "metadata": {
        "id": "4MRY9GTBxz40"
      },
      "source": [
        "# def alphabet_position1(text):\n",
        "#     print(functools.reduce(lambda x,y:x+' '+str(ord(y.lower())-96), list(text)))\n",
        "def alphabet_position(text):\n",
        "    text=text.lower()\n",
        "    if (len(text)>1):\n",
        "        return alphabet_position(text[:-1:])+' '+str(ord(text[-1])-96) if (text[-1]).isalpha() else alphabet_position(text[:-1:])\n",
        "    else :\n",
        "        return str(ord(text[-1])-96) if (text[-1]).isalpha() else ''"
      ],
      "execution_count": null,
      "outputs": []
    },
    {
      "cell_type": "code",
      "metadata": {
        "id": "Fh0_dXl3Ge6U"
      },
      "source": [
        "#@title Sample Tests { display-mode: \"form\" }\n",
        "from random import randint\n",
        "test.assert_equals(alphabet_position(\"The sunset sets at twelve o' clock.\"), \"20 8 5 19 21 14 19 5 20 19 5 20 19 1 20 20 23 5 12 22 5 15 3 12 15 3 11\")\n",
        "test.assert_equals(alphabet_position(\"The narwhal bacons at midnight.\"), \"20 8 5 14 1 18 23 8 1 12 2 1 3 15 14 19 1 20 13 9 4 14 9 7 8 20\")\n",
        "\n",
        "number_test = \"\"\n",
        "for item in range(10):\n",
        "    number_test += str(randint(1, 9))\n",
        "test.assert_equals(alphabet_position(number_test), \"\")"
      ],
      "execution_count": null,
      "outputs": []
    },
    {
      "cell_type": "markdown",
      "metadata": {
        "id": "oWHcAZjLkKwi"
      },
      "source": [
        "**Find The Parity Outlier**\n",
        "\n",
        "You are given an array (which will have a length of at least 3, but could be very large) containing integers. The array is either entirely comprised of odd integers or entirely comprised of even integers except for a single integer N. Write a method that takes the array as an argument and returns this \"outlier\" N."
      ]
    },
    {
      "cell_type": "code",
      "metadata": {
        "id": "klfh7Bbd9H5y"
      },
      "source": [
        "def find_outlier(integers):\n",
        "    mod2=lambda x:x%2\n",
        "    regular=np.where(mod2(integers[0])+mod2(integers[1])+mod2(integers[2])<2,0,1)\n",
        "    i=0\n",
        "    while ((integers[i])%2==regular):\n",
        "        i+=1\n",
        "    return integers[i]"
      ],
      "execution_count": null,
      "outputs": []
    },
    {
      "cell_type": "code",
      "metadata": {
        "id": "FJzsYlJOGgOo"
      },
      "source": [
        "#@title Sample Tests { display-mode: \"form\" }\n",
        "test.assert_equals(find_outlier([2, 4, 6, 8, 10, 3]), 3)\n",
        "test.assert_equals(find_outlier([2, 4, 0, 100, 4, 11, 2602, 36]), 11)\n",
        "test.assert_equals(find_outlier([160, 3, 1719, 19, 11, 13, -21]), 160)"
      ],
      "execution_count": null,
      "outputs": []
    },
    {
      "cell_type": "markdown",
      "metadata": {
        "id": "9qmut-i3OGek"
      },
      "source": [
        "**Pig Latin**\n",
        "\n",
        "Move the first letter of each word to the end of it, then add \"ay\" to the end of the word. Leave punctuation marks untouched."
      ]
    },
    {
      "cell_type": "code",
      "metadata": {
        "id": "MP4PR24Z1sXk"
      },
      "source": [
        "def pig_it(text):\n",
        "  return  \" \".join(i[1::]+i[0]+\"ay\" if i.isalpha() else i for i in list(text.split(' ')))  "
      ],
      "execution_count": null,
      "outputs": []
    },
    {
      "cell_type": "code",
      "metadata": {
        "id": "io-Wq8wUGhcX"
      },
      "source": [
        "#@title Sample Tests { display-mode: \"form\" }\n",
        "test.assert_equals(pig_it('Pig latin is cool'),'igPay atinlay siay oolcay')\n",
        "test.assert_equals(pig_it('This is my string'),'hisTay siay ymay tringsay')"
      ],
      "execution_count": null,
      "outputs": []
    },
    {
      "cell_type": "markdown",
      "metadata": {
        "id": "4DRfsC_m_D4A"
      },
      "source": [
        "**Is a number prime?**\n",
        "\n",
        "Define a function that takes one integer argument(positive or negative) and returns logical value true or false depending on if the integer is a prime."
      ]
    },
    {
      "cell_type": "code",
      "metadata": {
        "id": "jDeDWbpmXIBH"
      },
      "source": [
        "def is_prime(num):\n",
        "    if (num<2 or num%2==0):\n",
        "        return False or num==2\n",
        "    for i in range(3,np.int(np.sqrt(np.float(num)))+1,2): # Explicit float casting to handle large numbers \n",
        "        if (num%i==0):\n",
        "            return False\n",
        "    return True"
      ],
      "execution_count": null,
      "outputs": []
    },
    {
      "cell_type": "code",
      "metadata": {
        "colab": {
          "base_uri": "https://localhost:8080/"
        },
        "id": "DnLZyBhJNsTz",
        "outputId": "15cdd3b7-bdb1-4fe8-a08b-b36afa2de987"
      },
      "source": [
        "largeNotPrime=238962445015\n",
        "Product2LargePrime=8843789*1099859\n",
        "\n",
        "running_time(is_prime,largePrime)\n",
        "running_time(is_prime,largeNotPrime)\n",
        "running_time(is_prime,Product2LargePrime)"
      ],
      "execution_count": null,
      "outputs": [
        {
          "output_type": "stream",
          "text": [
            "True --- 0.041315555572509766 seconds ---\n",
            "False --- 3.8623809814453125e-05 seconds ---\n",
            "False --- 0.07434391975402832 seconds ---\n"
          ],
          "name": "stdout"
        }
      ]
    },
    {
      "cell_type": "code",
      "metadata": {
        "id": "Rj0wvO2eFu5V"
      },
      "source": [
        "import random\n",
        "\n",
        "def even_odd(n):\n",
        "    s, d = 0, n\n",
        "    while d % 2 == 0:\n",
        "          s += 1\n",
        "          d >>= 1\n",
        "    return s, d\n",
        "\n",
        "def Miller_Rabin(a, p):\n",
        "    s, d = even_odd(p-1)\n",
        "    a = pow(a, d, p)\n",
        "    if a == 1: return True\n",
        "    for i in range(s):\n",
        "        if a == p-1: return True\n",
        "        a = pow(a, 2, p)\n",
        "    return False\n",
        "\n",
        "def is_prime_Miller_Rabin(p):\n",
        "    if p == 2: return True\n",
        "    if p <= 1 or p % 2 == 0: return False\n",
        "    return all(Miller_Rabin(random.randint(2,p-1),p) for _ in range(40))\n",
        "is_prime_Miller_Rabin(7193460161740708249)"
      ],
      "execution_count": null,
      "outputs": []
    },
    {
      "cell_type": "code",
      "metadata": {
        "id": "s2XZMRjpD106"
      },
      "source": [
        "#@title Sample Tests { display-mode: \"form\" }\n",
        "@test.it(\"Basic tests\")\n",
        "def basic_tests():\n",
        "    test.assert_equals(is_prime(0),  False, \"0  is not prime\")\n",
        "    test.assert_equals(is_prime(1),  False, \"1  is not prime\")\n",
        "    test.assert_equals(is_prime(2),  True, \"2  is prime\")\n",
        "    test.assert_equals(is_prime(73), True, \"73 is prime\")\n",
        "    test.assert_equals(is_prime(75), False, \"75 is not prime\")\n",
        "    test.assert_equals(is_prime(-1), False, \"-1 is not prime\")\n",
        "\n",
        "\n",
        "@test.it(\"Test prime\")\n",
        "def test_prime():\n",
        "    test.assert_equals(is_prime(3),  True, \"3  is prime\");\n",
        "    test.assert_equals(is_prime(5),  True, \"5  is prime\");\n",
        "    test.assert_equals(is_prime(7),  True, \"7  is prime\");\n",
        "    test.assert_equals(is_prime(41), True, \"41 is prime\");\n",
        "    test.assert_equals(is_prime(5099), True, \"5099 is prime\");\n",
        "    \n",
        "@test.it(\"Test not prime\")\n",
        "def test_not_prime():\n",
        "    test.assert_equals(is_prime(4),  False, \"4  is not prime\");\n",
        "    test.assert_equals(is_prime(6),  False, \"6  is not prime\");\n",
        "    test.assert_equals(is_prime(8),  False, \"8  is not prime\");\n",
        "    test.assert_equals(is_prime(9), False, \"9 is not prime\");\n",
        "    test.assert_equals(is_prime(45), False, \"45 is not prime\");\n",
        "    test.assert_equals(is_prime(-5), False, \"-5 is not prime\");\n",
        "    test.assert_equals(is_prime(-8), False, \"-8 is not prime\");\n",
        "    test.assert_equals(is_prime(-41), False, \"-41 is not prime\");"
      ],
      "execution_count": null,
      "outputs": []
    },
    {
      "cell_type": "markdown",
      "metadata": {
        "id": "8g4nuRk6An-_"
      },
      "source": [
        "# **The GCF (Greatest Common Factor) of any two numbers**"
      ]
    },
    {
      "cell_type": "code",
      "metadata": {
        "id": "masWXSC3AkxN"
      },
      "source": [
        "def find_GCF(n1,n2):\n",
        "  return find_GCF(min(n1,n2),max(n1,n2)-min(n1,n2)) if n1!=n2 else n1\n",
        "def find_GCF(a, b):\n",
        "    return find_GCF(b,a%b) if b else a"
      ],
      "execution_count": null,
      "outputs": []
    },
    {
      "cell_type": "code",
      "metadata": {
        "cellView": "form",
        "id": "sDAMyF-7zfj1"
      },
      "source": [
        "#@title Sample Tests { vertical-output: true }\n",
        "test.assert_equals(find_GCF(2, 4), 2)\n",
        "test.assert_equals(find_GCF(8,20), 4);\n",
        "test.assert_equals(find_GCF(5,13), 1);\n",
        "test.assert_equals(find_GCF(100,100), 100);"
      ],
      "execution_count": null,
      "outputs": []
    },
    {
      "cell_type": "markdown",
      "metadata": {
        "id": "khqZg-Su2H4V"
      },
      "source": [
        "# **Get the numbers from given GCD sum**\n",
        "Given the sum and gcd of two numbers, return those two numbers in ascending order."
      ]
    },
    {
      "cell_type": "code",
      "metadata": {
        "id": "1E6oMA5g3BLj"
      },
      "source": [
        "def find_GCF(a, b):\n",
        "    return find_GCF(b,a%b) if b else a\n",
        "\n",
        "def solve(sum,gcf,index=0):\n",
        "    return solve(sum-1,gcf,index+1) if (find_GCF(sum,index)!=gcf and index<=sum) else ((index,sum) if index<=sum else -1)\n",
        "\n",
        "def solve1(sum,gcf):\n",
        "    i=1\n",
        "    while(find_GCF(sum-i,i)!=gcf and i<=sum/2):\n",
        "        i+=1\n",
        "    return (i,sum-i) if i<=sum/2 else -1\n",
        "\n"
      ],
      "execution_count": null,
      "outputs": []
    },
    {
      "cell_type": "code",
      "metadata": {
        "cellView": "form",
        "id": "ULuwCbdv2HQi"
      },
      "source": [
        "#@title Sample Tests { vertical-output: true }\n",
        "test.assert_equals(solve(6,3), (3,3))\n",
        "test.assert_equals(solve(8,2), (2,6))\n",
        "test.assert_equals(solve(10,3), -1)\n",
        "test.assert_equals(solve(12,4), (4,8))\n",
        "test.assert_equals(solve(12,5), -1)   "
      ],
      "execution_count": null,
      "outputs": []
    },
    {
      "cell_type": "markdown",
      "metadata": {
        "id": "3V1KqwiAJEDV"
      },
      "source": [
        "\n",
        "**Multiples of 3 or 5 below the number passed in**\n",
        "\n",
        "If the number is negative, return 0.\n",
        "If the number is a multiple of both 3 and 5, only count it once."
      ]
    },
    {
      "cell_type": "code",
      "metadata": {
        "id": "mP9r28LHI3xU"
      },
      "source": [
        "def solution(number):\n",
        "    return (int)(sum(np.concatenate((np.arange(3,number,3) , np.arange(5,number,5), -(np.arange(5,number,5)[2::3])),axis=0)))  if number>3 else 0\n",
        "def solution1(number):\n",
        "  return sum(x for x in range(number) if not (x%3 and x%5))"
      ],
      "execution_count": null,
      "outputs": []
    },
    {
      "cell_type": "code",
      "metadata": {
        "id": "ZimD9NAxJbDL"
      },
      "source": [
        "#@title Sample Tests { display-mode: \"form\" }\n",
        "\n",
        "test.assert_equals(solution(4), 3)\n",
        "\n",
        "\n",
        "test.assert_equals(solution(6), 8)\n",
        "\n",
        "\n",
        "test.assert_equals(solution(16), 60)\n",
        "\n",
        "\n",
        "test.assert_equals(solution(3), 0)\n",
        "\n",
        "\n",
        "test.assert_equals(solution(5), 3)\n",
        "\n",
        "\n",
        "test.assert_equals(solution(15), 45)\n",
        "\n",
        "\n",
        "test.assert_equals(solution(0), 0)\n",
        "\n",
        "\n",
        "test.assert_equals(solution(-1), 0)\n",
        "\n",
        "\n",
        "test.assert_equals(solution(10), 23)\n",
        "\n",
        "\n",
        "test.assert_equals(solution(20), 78)\n",
        "\n",
        "\n",
        "test.assert_equals(solution(200), 9168)\n"
      ],
      "execution_count": null,
      "outputs": []
    },
    {
      "cell_type": "markdown",
      "metadata": {
        "id": "yrlujhO01UxI"
      },
      "source": [
        "**Calculating with Functions**\n",
        "\n",
        "seven(times(five())) # must return 35"
      ]
    },
    {
      "cell_type": "code",
      "metadata": {
        "id": "9URUCZm3i-iu"
      },
      "source": [
        "identity=lambda a:a\n",
        "number= lambda i:lambda f=identity:f(i)\n",
        "zero, one, two, three, four, five, six, seven, eight, nine = map(number, range(10))\n",
        "plus = lambda x: lambda y: y + x\n",
        "minus = lambda x: lambda y: y - x\n",
        "times = lambda x: lambda y: y * x\n",
        "divided_by = lambda x: lambda y: y // x\n"
      ],
      "execution_count": null,
      "outputs": []
    },
    {
      "cell_type": "code",
      "metadata": {
        "id": "NCgLvwFRpwMn"
      },
      "source": [
        "#@title Sample Tests { vertical-output: true, display-mode: \"form\" }\n",
        "test.describe('Basic Tests')\n",
        "test.assert_equals(seven(times(five())), 35)\n",
        "test.assert_equals(four(plus(nine())), 13)\n",
        "test.assert_equals(eight(minus(three())), 5)\n",
        "test.assert_equals(six(divided_by(two())), 3)"
      ],
      "execution_count": null,
      "outputs": []
    },
    {
      "cell_type": "markdown",
      "metadata": {
        "id": "m3aPwMgHw6on"
      },
      "source": [
        "**Valid Braces**\n",
        "\n",
        "An input is a nonempty string, and it will only consist of parentheses, brackets and curly braces: ()[]{}\n",
        "\n",
        "A string of braces is considered valid if all braces are matched with the correct brace."
      ]
    },
    {
      "cell_type": "code",
      "metadata": {
        "colab": {
          "base_uri": "https://localhost:8080/",
          "height": 35
        },
        "id": "Mq9noUgow7CP",
        "outputId": "0873e2be-5f98-4ffb-d5f7-ad291cd41f92"
      },
      "source": [
        "# First solution\n",
        "def validBraces(string):\n",
        "    matched = {\"(\": \")\", \"[\": \"]\", \"{\": \"}\"}\n",
        "    closing=matched.values()\n",
        "    accumulated=string[0]\n",
        "    for i in string:\n",
        "      if ((i in closing) and matched[accumulated[-1]]!=curChr):\n",
        "\n",
        "\n",
        "    accumulated,current,length=string[0],1,len(string)\n",
        "    while (current<length):\n",
        "        curChr=string[current]\n",
        "        if :\n",
        "          return False\n",
        "        current+=1\n",
        "        if (accumulated==\"\" or matched[accumulated[-1]] in matched.values()):\n",
        "            accumulated+=curChr\n",
        "        else:\n",
        "            accumulated=accumulated[:-1]\n",
        "    return accumulated==\"\"\n",
        "# Second solution\n",
        "def validBraces1(string):\n",
        "    braces = {\"(\": \")\", \"[\": \"]\"}\n",
        "    stack = []\n",
        "    for character in string:\n",
        "        if character in braces.keys():\n",
        "            stack.append(character)\n",
        "        else:\n",
        "            if len(stack) == 0 or bractextstack.pop()] != character:\n",
        "                return False\n",
        "    return len(stack) == 0 \n",
        "\"\"\"\n",
        "tree -> child or brother\n",
        "string walk\n",
        "math +-\n",
        "from inside 2,4,6\n",
        "\"\"\""
      ],
      "execution_count": null,
      "outputs": [
        {
          "output_type": "execute_result",
          "data": {
            "application/vnd.google.colaboratory.intrinsic+json": {
              "type": "string"
            },
            "text/plain": [
              "'\\ntree -> child or brother\\nstring walk\\nmath +-\\nfrom inside 2,4,6\\n'"
            ]
          },
          "metadata": {},
          "execution_count": 14
        }
      ]
    },
    {
      "cell_type": "code",
      "metadata": {
        "id": "jGbeiKPCbYwF"
      },
      "source": [
        "running_time(validBraces1,1000*'([])')\n",
        "running_time(validBraces,1000*'([])')"
      ],
      "execution_count": null,
      "outputs": []
    },
    {
      "cell_type": "code",
      "metadata": {
        "colab": {
          "base_uri": "https://localhost:8080/"
        },
        "id": "e80O2Sq-KvTI",
        "outputId": "39aeebf4-07fc-4955-8a47-a5b0c55da666"
      },
      "source": [
        "running_time(validBraces1,'([])')\n",
        "running_time(validBraces,'([])')\n",
        "\n",
        "running_time(validBraces1,')'+10000000000000*'([])')\n",
        "running_time(validBraces,')'+100*'([])')\n",
        "\n",
        "running_time(validBraces1,'[({})](][({})](][({})](]')\n",
        "running_time(validBraces,'[({})](][({})](][({})](]')"
      ],
      "execution_count": null,
      "outputs": [
        {
          "output_type": "stream",
          "text": [
            "True --- 1.1444091796875e-05 seconds ---\n",
            "True --- 1.0728836059570312e-05 seconds ---\n",
            "False --- 5.9604644775390625e-06 seconds ---\n",
            "False --- 0.0002105236053466797 seconds ---\n",
            "False --- 9.5367431640625e-06 seconds ---\n",
            "False --- 1.6927719116210938e-05 seconds ---\n"
          ],
          "name": "stdout"
        }
      ]
    },
    {
      "cell_type": "code",
      "metadata": {
        "id": "zxknvhU92xxf"
      },
      "source": [
        "#@title Sample Tests { vertical-output: true, display-mode: \"form\" }\n",
        "test.assert_equals(validBraces(\"()\"), True);\n",
        "test.assert_equals(validBraces(\"[(])\"), False);"
      ],
      "execution_count": null,
      "outputs": []
    },
    {
      "cell_type": "markdown",
      "metadata": {
        "id": "VIG3naXJmdTb"
      },
      "source": [
        "# **Count the number of Duplicates**\n",
        "\n",
        "A function that returns the count of distinct case-insensitive alphabetic characters and numeric digits that occur more than once in the input string. \n",
        "e.g. \"indivisibility\" -> 1 and \"Indivisibilities\" -> 2"
      ]
    },
    {
      "cell_type": "code",
      "metadata": {
        "id": "9eGWx5ZJ0Lwl"
      },
      "source": [
        "guard={'0': 0,'1': 0,'2': 0,'3': 0,'4': 0,'5': 0,'6': 0,'7': 0,'8': 0,'9': 0,'a': 0,'b': 0,'c': 0,'d': 0,'e': 0,'f': 0,'g': 0,'h': 0,'i': 0,'j': 0,'k': 0,'l': 0,'m': 0,'n': 0,'o': 0,'p': 0,'q': 0,'r': 0,'s': 0,'t': 0,'u': 0,'v': 0,'w': 0,'x': 0,'y': 0,'z': 0}\n",
        "def duplicate_count1(text):\n",
        "    return sum(1 for i in guard.keys() if text.lower().count(i)>1 )\n",
        "def duplicate_count(text):\n",
        "    for i in text.lower():\n",
        "        if (guard.get(i)==None):\n",
        "            pass\n",
        "        elif (guard[i]==1):\n",
        "            guard.pop(i) \n",
        "        else:\n",
        "            guard[i]+=1\n",
        "    return 36-len(guard)\n",
        "'''\n",
        "Two bits per letter to store its state\n",
        "count(i), ∀i€{A..Z}\n",
        "Dict(i:{0,1}), ∀i€{A..Z} --> Drop i when found for the second time: text with card(different letter) is high, and the letters are redundant\n",
        "Dict --> Add i when found, i€{A..Z}: text with card(different letter) is low\n",
        "'''"
      ],
      "execution_count": null,
      "outputs": []
    },
    {
      "cell_type": "code",
      "metadata": {
        "id": "5TWKPv_f0MA9"
      },
      "source": [
        "#@title Sample Tests { vertical-output: true, display-mode: \"form\" }\n",
        "@test.describe(\"Fixed Tests\")\n",
        "def fixed_tests():\n",
        "    @test.it(\"Basic Tests\")\n",
        "    def basic_tests():\n",
        "        test.assert_equals(duplicate_count(\"\"), 0)\n",
        "        test.assert_equals(duplicate_count(\"abcde\"), 0)\n",
        "        test.assert_equals(duplicate_count(\"abcdeaa\"), 1)\n",
        "        test.assert_equals(duplicate_count(\"abcdeaB\"), 2)\n",
        "        test.assert_equals(duplicate_count(\"Indivisibilities\"), 2)"
      ],
      "execution_count": null,
      "outputs": []
    },
    {
      "cell_type": "markdown",
      "metadata": {
        "id": "rolsF_Au0QE3"
      },
      "source": [
        "# **The observed PIN**\n",
        "\n",
        "Input: observed PIN with a length of 1 to 8 digits.\n",
        "\n",
        "Each of the digits could actually be another adjacent digit (horizontally or vertically, but not diagonally)\n",
        "\n",
        "Output: all possible PINs\n",
        "\n",
        "The keypad has the following layout:\n",
        "```\n",
        "┌───┬───┬───┐\n",
        "│ 1 │ 2 │ 3 │\n",
        "├───┼───┼───┤\n",
        "│ 4 │ 5 │ 6 │\n",
        "├───┼───┼───┤\n",
        "│ 7 │ 8 │ 9 │\n",
        "└───┼───┼───┘\n",
        "    │ 0 │\n",
        "    └───┘\n",
        "```\n"
      ]
    },
    {
      "cell_type": "code",
      "metadata": {
        "id": "X6F2_odtAAeL"
      },
      "source": [
        "variations={'0': ['0', '8'],'1': ['1', '2', '4'],'2': ['2', '1', '3', '5'],'3': ['3', '2', '6'],'4': ['4', '5', '1', '7'],'5': ['5', '4', '6', '2', '8'], '6': ['6', '5', '3', '9'],'7': ['7', '8', '4'],'8': ['8', '7', '9', '5', '0'],'9': ['9', '8', '6']}\n",
        "combine=lambda l1,l2:list((\" \".join(i+j for i in l1 for j in l2)).split(\" \"))\n",
        "def get_pins(observed):\n",
        "    if(len(observed)==1):\n",
        "        return variations[(observed[0])]\n",
        "    else :\n",
        "        return combine(variations[(observed[0])],get_pins(observed[1:]))\n",
        "# def variations_generator(l):\n",
        "#     variations={\"0\":[\"0\",\"8\"]}\n",
        "#     for i in range(len(l)-1):\n",
        "#         for j in range(len(l[i])):\n",
        "#             values=[l[i][j]]\n",
        "#             if ((j-1)>=0):  \n",
        "#                 values.append(l[i][j-1])\n",
        "#             if (j<(len(l[i])-1)):  \n",
        "#                 values.append(l[i][j+1])\n",
        "#             if ((i-1)>=0 and j<len(l[i-1])):  \n",
        "#                 values.append(l[i-1][j])\n",
        "#             if ((i+1)<len(l) and j<len(l[i+1]) and l[i+1][j]!=None):  \n",
        "#                 values.append(l[i+1][j])     \n",
        "#             variations.update({l[i][j]:values})\n",
        "#     return variations\n",
        "# l=[[\"1\",\"2\",\"3\"],[\"4\",\"5\",\"6\"],[\"7\",\"8\",\"9\"],[None,\"0\"]]\n",
        "# variations=variations_generator(l) "
      ],
      "execution_count": null,
      "outputs": []
    },
    {
      "cell_type": "code",
      "metadata": {
        "id": "vQzmg4PG_jgP"
      },
      "source": [
        "from itertools import product\n",
        "\n",
        "ADJACENTS = ('08', '124', '2135', '326', '4157', '52468', '6359', '748', '85790', '968')\n",
        "\n",
        "def get_pins(observed):\n",
        "    return [''.join(p) for p in product(*(ADJACENTS[int(d)] for d in observed))]"
      ],
      "execution_count": null,
      "outputs": []
    },
    {
      "cell_type": "code",
      "metadata": {
        "id": "P5lVVr6_04ip"
      },
      "source": [
        "#@title Sample Tests { vertical-output: true, display-mode: \"form\" }\n",
        "test.describe('example tests')\n",
        "expectations = [('8', ['5','7','8','9','0']),\n",
        "                ('11',[\"11\", \"22\", \"44\", \"12\", \"21\", \"14\", \"41\", \"24\", \"42\"]),\n",
        "                ('369', [\"339\",\"366\",\"399\",\"658\",\"636\",\"258\",\"268\",\"669\",\"668\",\"266\",\"369\",\"398\",\"256\",\"296\",\"259\",\"368\",\"638\",\"396\",\"238\",\"356\",\"659\",\"639\",\"666\",\"359\",\"336\",\"299\",\"338\",\"696\",\"269\",\"358\",\"656\",\"698\",\"699\",\"298\",\"236\",\"239\"])]\n",
        "\n",
        "for tup in expectations:\n",
        "    test.assert_equals(sorted(get_pins(tup[0])), sorted(tup[1]), 'PIN: ' + tup[0])"
      ],
      "execution_count": null,
      "outputs": []
    },
    {
      "cell_type": "markdown",
      "metadata": {
        "id": "_T1S4k2m6uOn"
      },
      "source": [
        "\n",
        "# **Pick peaks**\n",
        "A function that returns the positions and the values of the \"peaks\" (or local maxima) of a numeric array. {pos: [], peaks: []}\n",
        "\n",
        "The first and last elements of the array will not be considered as peaks \n",
        "\n",
        "In case of a plateau-peak, only return the position and value of the beginning of the plateau."
      ]
    },
    {
      "cell_type": "code",
      "metadata": {
        "id": "Ts86FC7-6v_s"
      },
      "source": [
        "def pick_peaks(arr):\n",
        "    peaks={'pos': [], 'peaks': []}\n",
        "    i=1\n",
        "    while (i<len(arr)-1):\n",
        "        startingIndex=i\n",
        "        while (i<len(arr)-2 and arr[i]==arr[i+1]):i+=1\n",
        "        if (arr[i]>arr[startingIndex-1] and arr[i]>arr[i+1]) :\n",
        "            (peaks['pos']).append(startingIndex)\n",
        "            (peaks['peaks']).append(arr[startingIndex])\n",
        "        i+=1\n",
        "    return peaks\n",
        "\n"
      ],
      "execution_count": null,
      "outputs": []
    },
    {
      "cell_type": "code",
      "metadata": {
        "id": "toCivwww78DB"
      },
      "source": [
        "#@title Sample Tests { vertical-output: true, display-mode: \"form\" }\n",
        "test.assert_equals(pick_peaks([1,2,3,6,4,1,2,3,2,1]), {\"pos\":[3,7], \"peaks\":[6,3]})\n",
        "test.assert_equals(pick_peaks([3,2,3,6,4,1,2,3,2,1,2,3]), {\"pos\":[3,7], \"peaks\":[6,3]})\n",
        "test.assert_equals(pick_peaks([3,2,3,6,4,1,2,3,2,1,2,2,2,1]), {\"pos\":[3,7,10], \"peaks\":[6,3,2]})\n",
        "test.assert_equals(pick_peaks([2,1,3,1,2,2,2,2,1]), {\"pos\":[2,4], \"peaks\":[3,2]})\n",
        "test.assert_equals(pick_peaks([2,1,3,1,2,2,2,2]), {\"pos\":[2], \"peaks\":[3]})\n",
        "test.assert_equals(pick_peaks([2,1,3,2,2,2,2,5,6]), {\"pos\":[2], \"peaks\":[3]})\n",
        "test.assert_equals(pick_peaks([2,1,3,2,2,2,2,1]), {\"pos\":[2], \"peaks\":[3]})\n",
        "test.assert_equals(pick_peaks([1,2,5,4,3,2,3,6,4,1,2,3,3,4,5,3,2,1,2,3,5,5,4,3]), {\"pos\":[2,7,14,20], \"peaks\":[5,6,5,5]})\n",
        "test.assert_equals(pick_peaks([]),{\"pos\":[],\"peaks\":[]})\n",
        "test.assert_equals(pick_peaks([1,1,1,1]),{\"pos\":[],\"peaks\":[]})"
      ],
      "execution_count": null,
      "outputs": []
    },
    {
      "cell_type": "markdown",
      "metadata": {
        "id": "Co-9IW_uqydG"
      },
      "source": [
        "# **A Chain adding function**\n",
        "\n",
        "A function that will add numbers together when called in succession\n",
        "\n",
        "add(1)(2)(3)(4)(5); // 15"
      ]
    },
    {
      "cell_type": "code",
      "metadata": {
        "id": "TTzYO-EkYVn6"
      },
      "source": [
        "class add(int):\n",
        "    def __call__(self,n):\n",
        "        return add(self+n)\n",
        "# def add(x=0,cnt=0,opcnt=0):\n",
        "#       return lambda y: add(x+y,cnt+1) if cnt<opcnt else x"
      ],
      "execution_count": null,
      "outputs": []
    },
    {
      "cell_type": "code",
      "metadata": {
        "id": "j8ACIcAWbUGm"
      },
      "source": [
        "#@title Sample Tests { vertical-output: true, display-mode: \"form\" }\n",
        "test.assert_equals(add(1), 1)\n",
        "test.assert_equals(add(1)(2), 3)\n",
        "test.assert_equals(add(1)(2)(3), 6)"
      ],
      "execution_count": null,
      "outputs": []
    },
    {
      "cell_type": "markdown",
      "metadata": {
        "id": "7-98zag0Zicz"
      },
      "source": [
        "# **Pete, the baker**\n",
        "\n",
        "how many cakes could be baked with a certain recipe? \n",
        "Input: an object recipe and n object available ingredients"
      ]
    },
    {
      "cell_type": "code",
      "metadata": {
        "id": "ogKxSIRxZKdZ"
      },
      "source": [
        "def cakes(recipe, available):\n",
        "    return min (available.get(key,0) // value for key,value in recipe.items() )\n",
        "\n",
        "def cakes1(recipe, available):\n",
        "    if not ( recipe.keys() <= available.keys() ):\n",
        "        return 0\n",
        "    lastkey,lastvalue=recipe.popitem()\n",
        "    count=available[lastkey] // lastvalue \n",
        "    for key,value in recipe.items():\n",
        "        if ((available[key] / value) < count) : \n",
        "            count=(available[key] // value)\n",
        "    return count"
      ],
      "execution_count": null,
      "outputs": []
    },
    {
      "cell_type": "code",
      "metadata": {
        "id": "mLtSYvGbbccS"
      },
      "source": [
        "#@title Sample Tests { vertical-output: true, display-mode: \"form\" }\n",
        "\n",
        "recipe = {\"flour\": 500, \"sugar\": 200, \"eggs\": 1}\n",
        "available = {\"flour\": 1200, \"sugar\": 1200, \"eggs\": 5, \"milk\": 200}\n",
        "test.assert_equals(cakes(recipe, available), 2, 'example #1')\n",
        "\n",
        "recipe = {\"apples\": 3, \"flour\": 300, \"sugar\": 150, \"milk\": 100, \"oil\": 100}\n",
        "available = {\"sugar\": 500, \"flour\": 2000, \"milk\": 2000}\n",
        "test.assert_equals(cakes(recipe, available), 0, 'example #2')"
      ],
      "execution_count": null,
      "outputs": []
    },
    {
      "cell_type": "markdown",
      "metadata": {
        "id": "oM7I_B9C8ikQ"
      },
      "source": [
        "# **Pete, the baker (part 2)**\n",
        "Pete is now mixing the cake mixture. He also might have added some of the ingredients already, but something is missing. Can you help him to find out?\n",
        "Pete only wants to bake whole cakes. And ingredients, that were added once to the mixture, can't be removed from that.\n",
        "If Pete already added all ingredients for an integer amount of cakes, return an empty hash.\n",
        "If Pete didn't add any ingredients at all, you need to add all ingredients for exactly one cake."
      ]
    },
    {
      "cell_type": "code",
      "metadata": {
        "id": "XPRSAoOE8dQ_"
      },
      "source": [
        "# def get_missing_ingredients(recipe, added):\n",
        "#     m=max((added[i])//(recipe[i]) for i in added.keys())\n",
        "#     if m==0:\n",
        "#       m+=1 \n",
        "#     for i in recipe.keys() :\n",
        "#         if i in added.keys() :\n",
        "#             recipe.update({i:recipe[i]*((added[i])//(recipe[i])+1)-added[i]+(m-(added[i])//(recipe[i])-1)*recipe[i]})             \n",
        "#         else :\n",
        "#             recipe.update({i:m*recipe[i]})  \n",
        "#     return recipe"
      ],
      "execution_count": null,
      "outputs": []
    },
    {
      "cell_type": "code",
      "metadata": {
        "id": "ao8qunKl9zuK",
        "colab": {
          "base_uri": "https://localhost:8080/"
        },
        "outputId": "9b074e55-0c19-462b-ed98-65e11407eeed"
      },
      "source": [
        "recipe = {\"flour\": 200, \"eggs\": 1, \"sugar\": 100}\n",
        "added={\"flour\": 200, \"sugar\": 100}\n",
        "added={\"flour\": 100}\n",
        "get_missing_ingredients(recipe, added)"
      ],
      "execution_count": null,
      "outputs": [
        {
          "output_type": "execute_result",
          "data": {
            "text/plain": [
              "{'eggs': 1, 'flour': 100, 'sugar': 100}"
            ]
          },
          "metadata": {},
          "execution_count": 28
        }
      ]
    },
    {
      "cell_type": "markdown",
      "metadata": {
        "id": "fznt3XpGz4Vq"
      },
      "source": [
        "# **Roman Numerals Helper**\n",
        "\n",
        "Create a RomanNumerals class that can convert a roman numeral to and from an integer value\n",
        "\n",
        "I\t1\n",
        "IV 4\n",
        "V\t5\n",
        "X\t10\n",
        "L\t50\n",
        "C\t100\n",
        "D\t500\n",
        "M\t1000\n",
        "\n",
        "Modern Roman numerals are written by expressing each digit separately starting with the left most digit and skipping any digit with a value of zero. In Roman numerals 1990 is rendered: 1000=M, 900=CM, 90=XC; resulting in MCMXC. 2008 is written as 2000=MM, 8=VIII; or MMVIII. 1666 uses each Roman symbol in descending order: MDCLXVI\n"
      ]
    },
    {
      "cell_type": "code",
      "metadata": {
        "id": "5TlYwWzFz2tc"
      },
      "source": [
        "class RomanNumerals:\n",
        "\n",
        "    def to_roman(val):\n",
        "        return ''\n",
        "\n",
        "    def from_roman(roman_num):\n",
        "        return 0"
      ],
      "execution_count": null,
      "outputs": []
    },
    {
      "cell_type": "code",
      "metadata": {
        "id": "v4UxaKjY1L1r"
      },
      "source": [
        "conversionT={'I':1, 'V':5,'X':10, 'L':50, 'C':100, 'D':500, 'M':1000}\n",
        "class RomanNumerals:\n",
        "    def to_roman(val):\n",
        "        roman=''\n",
        "        for i in [1,10,100,1000] :\n",
        "            under_microscope=(val%(i*10))//i\n",
        "            if not under_microscope:\n",
        "              pass\n",
        "            elif under_microscope==4 or under_microscope==9:\n",
        "              roman+=conversionT[i]+conversionT[i*(under_microscope+1)]\n",
        "            else :\n",
        "              roman+=conversionT[i]*(under_microscope%5)+conversionT.get(conversionT[i],\"\")\n",
        "        return roman\n"
      ],
      "execution_count": null,
      "outputs": []
    },
    {
      "cell_type": "code",
      "metadata": {
        "id": "-IX8RWkz4SXz"
      },
      "source": [
        "https://www.codewars.com/kata/51b66044bce5799a7f000003/train/python"
      ],
      "execution_count": null,
      "outputs": []
    },
    {
      "cell_type": "markdown",
      "metadata": {
        "id": "J486U57qtz4x"
      },
      "source": [
        "# **Permutations**\n",
        "Create all permutations of an input string and remove duplicates, if present. "
      ]
    },
    {
      "cell_type": "code",
      "metadata": {
        "id": "3vzKfOFy2Pu5"
      },
      "source": [
        "duplicate ch\n",
        "  permutate\n",
        "\n",
        "aabcd abacd abcad abcda\n",
        "baacd bacad bacda \n",
        "bcaad bacda\n",
        "bcdaa\n",
        "c= count of a particular duplicates \n",
        "c * n-1! --> c! * n-c!   \n",
        "2 * n-1! --> n-2 * n-2! ----> 2*n-1/n-2\n",
        "\n",
        "\n",
        "pivot till last two -> permutation\n",
        "pivot last till top\n",
        "\n",
        "---\n",
        "choose one -> all possible "
      ],
      "execution_count": null,
      "outputs": []
    },
    {
      "cell_type": "code",
      "metadata": {
        "id": "-3za2ycIt0Nu"
      },
      "source": [
        "def permutations(string):\n",
        "  while i in string:\n",
        "    permutations(string[])\n",
        "\n",
        "    for i,ch in enumerate (string):\n",
        "        s=string.pop(i)\n",
        "        string[:j]+i+string[j]\n",
        "        l.append(i)\n",
        "  permutations(string[:-i])"
      ],
      "execution_count": null,
      "outputs": []
    },
    {
      "cell_type": "code",
      "metadata": {
        "colab": {
          "base_uri": "https://localhost:8080/",
          "height": 182
        },
        "id": "8Kdw1MKPt0rM",
        "outputId": "bfa7cb6c-292b-4bdb-cd9b-3ab17ead0b3f"
      },
      "source": [
        ""
      ],
      "execution_count": null,
      "outputs": [
        {
          "output_type": "error",
          "ename": "AttributeError",
          "evalue": "ignored",
          "traceback": [
            "\u001b[0;31m---------------------------------------------------------------------------\u001b[0m",
            "\u001b[0;31mAttributeError\u001b[0m                            Traceback (most recent call last)",
            "\u001b[0;32m<ipython-input-5-1b10950154fb>\u001b[0m in \u001b[0;36m<module>\u001b[0;34m()\u001b[0m\n\u001b[1;32m      1\u001b[0m \u001b[0ma\u001b[0m\u001b[0;34m=\u001b[0m\u001b[0;34m\"acbcb\"\u001b[0m\u001b[0;34m\u001b[0m\u001b[0;34m\u001b[0m\u001b[0m\n\u001b[0;32m----> 2\u001b[0;31m \u001b[0ma\u001b[0m\u001b[0;34m.\u001b[0m\u001b[0mpop\u001b[0m\u001b[0;34m(\u001b[0m\u001b[0;36m2\u001b[0m\u001b[0;34m)\u001b[0m\u001b[0;34m\u001b[0m\u001b[0;34m\u001b[0m\u001b[0m\n\u001b[0m",
            "\u001b[0;31mAttributeError\u001b[0m: 'str' object has no attribute 'pop'"
          ]
        }
      ]
    },
    {
      "cell_type": "code",
      "metadata": {
        "id": "Ae4hYPrQbc1X"
      },
      "source": [
        "#@title Sample Tests { vertical-output: true, display-mode: \"form\" }\n",
        "test.assert_equals(sorted(permutations('a')), ['a']);\n",
        "test.assert_equals(sorted(permutations('ab')), ['ab', 'ba'])\n",
        "test.assert_equals(sorted(permutations('aabb')), ['aabb', 'abab', 'abba', 'baab', 'baba', 'bbaa'])"
      ],
      "execution_count": null,
      "outputs": []
    },
    {
      "cell_type": "markdown",
      "metadata": {
        "id": "7B4DeVS_fym5"
      },
      "source": [
        "# **Strip Comments**\n",
        "\n",
        "Complete the solution so that it strips all text that follows any of a set of comment markers passed in. Any whitespace at the end of the line should also be stripped out."
      ]
    },
    {
      "cell_type": "code",
      "metadata": {
        "id": "1qyoHpp5oEZQ"
      },
      "source": [
        "def solution(string,markers):\n",
        "    return \"\\n\".join((line[:min([line.find(i) for i in markers if line.find(i)>=0 ]+[len(line)])]).strip(' ')  for line in list(string.split('\\n')))\n",
        "\n",
        "# def solution(string,markers):\n",
        "#     ch,previous,nextstart=\"\",0,0\n",
        "#     markers=\"\".join(i*string.count(i) for i in markers)\n",
        "#     for i in markers:\n",
        "#           index=string.find(i,previous)\n",
        "#           ch+=(string[nextstart:index]).strip(\" \")\n",
        "#           nextstart=string.find(\"\\n\",index)\n",
        "#           previous=index+1\n",
        "#     return ch"
      ],
      "execution_count": null,
      "outputs": []
    },
    {
      "cell_type": "code",
      "metadata": {
        "id": "LxCKqRQUbc7E"
      },
      "source": [
        "#@title Sample Tests { vertical-output: true, display-mode: \"form\" }\n",
        "# -*- coding: utf-8 -*-\n",
        "test.assert_equals(solution(\"apples, pears # and bananas\\ngrapes\\nbananas !apples\", [\"#\", \"!\"]), \"apples, pears\\ngrapes\\nbananas\")\n",
        "test.assert_equals(solution(\"a #b\\nc\\nd $e f g\", [\"#\", \"$\"]), \"a\\nc\\nd\")"
      ],
      "execution_count": null,
      "outputs": []
    },
    {
      "cell_type": "markdown",
      "metadata": {
        "id": "hgGWkaGQMmPI"
      },
      "source": [
        "# **Web Scraping and IA for REALTY INVESTING** "
      ]
    },
    {
      "cell_type": "code",
      "metadata": {
        "id": "UFpaYRMrMiNv"
      },
      "source": [
        "# %%sh\n",
        "# pip install selenium \n",
        "# pip install webdriver-manager\n",
        "# pip install cloudscraper\n",
        "\n",
        "import html5lib, lxml, requests , re, cloudscraper, os, csv, time, sys, random\n",
        "from bs4 import BeautifulSoup as bs\n",
        "import numpy as np\n",
        "import pandas as pd\n",
        "from time import sleep\n",
        "from selenium import webdriver\n",
        "from selenium.webdriver.common.keys import Keys\n",
        "from webdriver_manager.chrome import ChromeDriverManager\n",
        "from time import sleep\n",
        "import os,sys,shlex,subprocess,argparse,time,pandas\n",
        "from numpy.random import randint\n",
        "from socket import timeout\n",
        "\n",
        "\n",
        "url = \"https://www.logic-immo.com/vente-immobilier-0,1_0/options/groupprptypesids=1\"\n",
        "\n",
        "driver = webdriver.Chrome(ChromeDriverManager().install())\n",
        "driver.get(url)\n",
        "sleep(20)\n",
        "p_element = driver.find_element_by_id(id_=\"add-to-selection\")\n",
        "print(p_element)\n",
        "\n",
        "scraper = cloudscraper.create_scraper()\n",
        "source= scraper.get(url).text\n",
        "\n",
        "#source=requests.get(\"https://scrapeme.live/shop/\").text\n",
        "\n",
        "extacted_data='extacted_data.csv'\n",
        "header=np.where(os.path.exists(extacted_data),0,1)\n",
        "with open(extacted_data, 'a', encoding='UTF8', newline='') as f:\n",
        "    writer = csv.writer(f)\n",
        "\n",
        "    # Other available data: energy_letter, client_type, client_id, position, media\n",
        "    #writer.writerow(['list_name','position','price','estate_type','distribution_type','space','id','id_solo','client_id','photos_nb','estate_postalcode','client_postalcode','country','client_type','parent_site','floor_nb','nb_rooms','nb_bedrooms','energy_letter','product_status','media','product_type']) if header else None\n",
        "    writer.writerow(['price','estate_type','distribution_type','space','id_solo','photos_nb','floor_nb','nb_rooms','nb_bedrooms','estate_postalcode','url2post','region']) if header else None\n",
        "    hourlylimit_supervisor=0\n",
        "    for code_region in range(5,24):\n",
        "        page=0\n",
        "        time.sleep(10)\n",
        "        \n",
        "        annonces=[-1] \n",
        "        while(annonces!=[]):\n",
        "\n",
        "            # to avoid being blocked and having to solve captcha            \n",
        "            # if (hourlylimit_supervisor>390):\n",
        "            #   hourlylimit_supervisor=0\n",
        "            #   sleep(7200)\n",
        "\n",
        "\n",
        "            # random clicks to avoid a detection of a crawling pattern\n",
        "            \n",
        "\n",
        "            random_url = f\"https://www.logic-immo.com/vente-immobilier-0,{random.randint(1,23)}_0/options/groupprptypesids={random.randint(1,23)}/page={random.randint(1,23)}\"\n",
        "            requests.get(random_url).text\n",
        "\n",
        "            # to be gentle with the site and to emulate a human behavior\n",
        "            time.sleep(15) \n",
        "\n",
        "            page+=1\n",
        "            url = f\"https://www.logic-immo.com/vente-immobilier-0,{code_region}_0/options/groupprptypesids=1/page={page}\"\n",
        "            scraper = cloudscraper.create_scraper()\n",
        "            source= scraper.get(url).text\n",
        "\n",
        "            soup=bs(source,'lxml')\n",
        "            annonces=soup.find_all(\"a\", class_=\"add-to-selection\")\n",
        "\n",
        "            for annonce in annonces:    \n",
        "\n",
        "                hourlylimit_supervisor+=1\n",
        "\n",
        "                target_field=str(annonce).split(\"{\")[3]\n",
        "                target_data=re.findall(r':([0-9]+)', target_field)\n",
        "                target_data.pop(0)                  #remove position\n",
        "                target_data.pop()                   #remove media\n",
        "                if (len(target_data)<9):            # -1 if floor_nb is not defined\n",
        "                    target_data.insert(6,-1) \n",
        "                elif (len(target_data)>9):         \n",
        "                    target_data.pop()\n",
        "\n",
        "                target_data+=re.findall(r'.*estate_postalcode.:\\'([\\d]+)', target_field) # Preserve the estate_postalcode\n",
        "                \n",
        "                id=target_field[target_field.find(\"id\")+5:target_field.find(\"id_\")-3]\n",
        "                url2post=\"https://www.logic-immo.com/detail-vente-\"+id+\".htm\"\n",
        "                target_data.append(url2post)\n",
        "                target_data.append(code_region)\n",
        "                writer.writerow(target_data)\n",
        "\n",
        "\"\"\"\n",
        "Variables: proposed_price(), apport_complementaire\n",
        "Input: duree_2possession\n",
        "From databases: id, price, surface, prix_2ref_moyen_m2,val_loc_indicative_m2, url2post,estate_postalcode\n",
        "\n",
        "other existing information \n",
        "        # estate_type\n",
        "        # distribution_type: 1 location, 2 vente\n",
        "        # photos_nb\n",
        "        # floor_nb\n",
        "        # nb_rooms\n",
        "        # nb_bedrooms\n",
        "\n",
        "Might be useful if found: \n",
        "        # historique/ the amount deemed necessary for repairs\n",
        "        # Economy/ Market outlook on real estate\n",
        "        # Future estimations of demographics, Government Policies\n",
        "\n",
        "\"\"\"\n",
        "\n",
        "\n",
        "duree_pret_en_Mois=180\n",
        "interets=1.03\n",
        "interets_mensuel=interets/1200\n",
        "assurance_Pret=0.273\n",
        "caution_PPD,levee_PPD=2500,2500\n",
        "penalités_RA=0.03\n",
        "\n",
        "annuite=interets_mensuel/(1-(1+interets_mensuel)**(-duree_pret_en_Mois))\n",
        "\n",
        "\n",
        "frais_dagence=10000\n",
        "pourcentage_commission=0.0799\n",
        "charge=75\n",
        "taux_fonciere=33.3\n",
        "\n",
        "taux_occupation=0.8\n",
        "\n",
        "class Bien():\n",
        "    def __init__(self,apport_complementaire,price,surface,estate_postalcode,url2post,prix_2ref_moyen_m2,val_loc_indicative_m2):\n",
        "\n",
        "        self.price=price\n",
        "        self.surface=surface\n",
        "        self.estate_postalcode=estate_postalcode\n",
        "        self.url2post=url2post\n",
        "\n",
        "        self.apport_complementaire=apport_complementaire\n",
        "\n",
        "        self.prix_2ref_moyen_m2=int(prix_2ref_moyen_m2)\n",
        "        self.val_loc_indicative_m2=val_loc_indicative_m2\n",
        "\n",
        "    market_value=lambda self:self.prix_2ref_moyen_m2*self.surface \n",
        "    worth_it=lambda self:self.market_value()>0.9*self.price  #True                            # when acquiring more accurate gov data self.market_value()>0.9*self.price \n",
        "\n",
        "    proposed_price=lambda self:  self.market_value()*0.9 #self.price*0.9          # when acquiring more accurate gov data self.market_value()*0.9\n",
        "\n",
        "    get_apport_aubanque=lambda self:0.2*self.proposed_price()+self.apport_complementaire\n",
        "    #+pourcentage_commission*(self.proposed_price()-frais_dagence)\n",
        "\n",
        "    get_emprunte=lambda self:self.proposed_price()-self.get_apport_aubanque()\n",
        "    get_price_per_m2=lambda self:self.price/self.surface\n",
        "    get_prix_propose_par_m2=lambda self:self.proposed_price()/self.surface\n",
        "    get_mensualites_pret=lambda self:self.get_emprunte()*annuite\n",
        "    get_mensualites_assu=lambda self:self.get_emprunte()*assurance_Pret/1200\n",
        "\n",
        "    get_loyer_bas=lambda self:self.surface*self.val_loc_indicative_m2+0.6*charge\n",
        "    get_loyer_haut=lambda self:self.get_loyer_bas()+0.4*charge+taux_fonciere\n",
        "\n",
        "    \n",
        "    \n",
        "    def residuel(self,duree_2possession):\n",
        "        return self.residuel(duree_2possession-1)*(interets_mensuel+1)-annuite*self.get_emprunte() if duree_2possession>=1 else self.get_emprunte()\n",
        "\n",
        "    get_capital_rembourse=lambda self,duree_2possession:self.get_emprunte()-self.residuel(duree_2possession)\n",
        "\n",
        "    get_plus_value=lambda self:0.2*self.proposed_price()\n",
        "    \"\"\"\n",
        "    Assiette pour l'impôt sur le revenu 0% pour une detention de moins de 6 ans, \n",
        "                                        6% pour une detention de la 6e à la 21e année,(pour chaque annee apres la 6e)   \n",
        "                                        4% pour la 22e année\n",
        "                                        Exonération au delà de la 22e année\n",
        "\n",
        "    \"\"\"\n",
        "    abattement=lambda self,detention_enannee: self.get_plus_value()*np.where(detention_enannee<6,0,np.where(detention_enannee<=21,6,4))*(detention_enannee-6+1)/100     \n",
        "    get_impots_plus_value=lambda self,duree_2possession:( self.get_plus_value()-self.abattement(np.floor(duree_2possession/12)))*19/100 if duree_2possession<264 else 0 # Exonération au delà de la 22e année de detention\n",
        "\n",
        "    get_frais_notaire=lambda self:(self.proposed_price()-frais_dagence)*pourcentage_commission # l'historique est indisponible pour le moment pour un np.where(historique==\"Ancien\",0.0799,0.02)\n",
        "   \n",
        "   \n",
        "\n",
        "    get_revenu_aumois_i=lambda self,duree_2possession:taux_occupation*duree_2possession*self.get_loyer_bas()+(2-penalités_RA)*(self.get_emprunte()-self.residuel(duree_2possession))+self.get_plus_value()-self.get_impots_plus_value(duree_2possession)+duree_2possession*(self.get_mensualites_pret()-taux_fonciere-charge)-self.get_mensualites_assu()-self.get_frais_notaire()-frais_dagence-levee_PPD*2\n",
        "\n",
        "\n",
        "\n",
        "# parser = argparse.ArgumentParser()\n",
        "# for i in range(len(parameter_s_keys)):\n",
        "#     parser.add_argument('-'+parameter_s_keys[i])\n",
        "# namespace = parser.parse_args()\n",
        "# parameters=namespace.__dict__\n",
        "# locals().update(parameters)\n",
        "#parameters.pop('x',\"\") x notrequired\n",
        "#check_all(parameters)\n",
        "\n",
        "scrapped_data='scrapped_data.csv'\n",
        "#data=pd.read_csv(\"C:/Apache24/htdocs/EstatEagle/dataset/\"+scrapped_data)\n",
        "data=pd.read_csv(\"/content/\"+scrapped_data)\n",
        "data.columns\n",
        "\n",
        "parameter_s_keys=[\"distribution_type\",\"region\",\"estate_type\",\"nb_rooms\",\"nb_bedrooms\",\"space\",\"price\",\"duree_2possession\"]\n",
        "values=2,[1],[1],1,0,8,None,120\n",
        "parameters = dict(zip(parameter_s_keys, values))\n",
        "\n",
        "\n",
        "scrapped_parameters=parameters\n",
        "scrapped_parameters.pop(\"duree_2possession\")\n",
        "operation=dict(zip(parameter_s_keys, [\"==\",\"in\",\"in\",\"==\",\"==\",\">=\",\">=\",\"==\"]))\n",
        "query='region>0'+\" \".join(\" and \"+key+\" \"+operation[key]+\" \"+str(value) for key,value in scrapped_parameters.items() if value!=None)\n",
        "filtred=data.query(query)\n",
        "\n",
        "prix_moyen_2vente_m2='dvf-communes-2019.csv'\n",
        "#data_ref=pd.read_csv(\"C:/Apache24/htdocs/EstatEagle/dataset/\"+prix_moyen_2vente_m2)\n",
        "data_ref=pd.read_csv(os.getcwd()+'/'+prix_moyen_2vente_m2)\n",
        "\n",
        "lines=data_ref['ID;INSEE_COM;INSEE_DEP;INSEE_REG;CODE_EPCI;NOM_COM_M;POPULATION;Nb_Ventes;PrixMoyen_M2']\n",
        "\n",
        "info={}\n",
        "for i in lines:\n",
        "  prix=i[i.rfind(\";\")+1:]\n",
        "  info[i[18:23]]=int(prix) if (prix!='NA') else 0\n",
        "\n",
        "\n",
        "filtred['prix_2ref_moyen_m2']=[info.get(str(i),0) for i in filtred['estate_postalcode']]\n",
        "\n",
        "#filtred['market_price']=[np.where(int(info.get(str(i),'0'))*j  for i,j in zip(filtred['estate_postalcode'],filtred['space']) ]\n",
        "#second_query='market_price >+0.9*price'\n",
        "#second_filtred=filtred.query(second_query)\n",
        "\n",
        "### to test \n",
        "distribution_type,region,estate_type,nb_rooms,nb_bedrooms,surface,price,duree_2possession=2,1,1,1,0,8,None,120\n",
        "\n",
        "\n",
        "\n",
        "\n",
        "\"\"\"\n",
        "Bien inputs: \n",
        "        market_value,apport_complementaire,price,surface,estate_postalcode,url2post,prix_2ref_moyen_m2,val_loc_indicative_m2\n",
        "\n",
        "UI exec passed parameters: \n",
        "        distribution_type,region,estate_type,nb_rooms,nb_bedrooms,space,price,duree_2possession\n",
        "\n",
        "dataframe columns:(scrapped_data.csv + dvf-communes-2019) filtred.iterrows()\n",
        "        still exist:\n",
        "        ####################################price                                                             \n",
        "        estate_type                                                           \n",
        "        distribution_type                                                    \n",
        "        ####################################space                                                                 \n",
        "        id_solo                                                        \n",
        "        photos_nb                                                            \n",
        "        floor_nb                                                              \n",
        "        nb_rooms                                                              \n",
        "        nb_bedrooms                                                           \n",
        "        estate_postalcode                                                 \n",
        "        ####################################url2post              \n",
        "        region                                                                \n",
        "        ####################################prix_2ref_moyen_m2\n",
        "\"\"\"\n",
        "def final():\n",
        "  for i in filtred.iterrows():\n",
        "      yield (Bien(40000 ,i[1][0],i[1][3],i[1][9],i[1][10],i[1][12],22)).get_(duree_2possession), (Bien(40000 ,i[1][0],i[1][3],i[1][9],i[1][10],i[1][12],22)).worth_it()\n",
        "\n",
        "filtred['gain']=[i[0] for i in final()]\n",
        "filtred['worthit']=[i[1] for i in final()]"
      ],
      "execution_count": null,
      "outputs": []
    },
    {
      "cell_type": "code",
      "metadata": {
        "id": "1VfexPuGbc-W"
      },
      "source": [
        "#@title Sample Tests { vertical-output: true, display-mode: \"form\" }\n"
      ],
      "execution_count": null,
      "outputs": []
    },
    {
      "cell_type": "code",
      "metadata": {
        "id": "C9U6F1o6bdIw"
      },
      "source": [
        "#@title Sample Tests { vertical-output: true, display-mode: \"form\" }\n"
      ],
      "execution_count": null,
      "outputs": []
    },
    {
      "cell_type": "code",
      "metadata": {
        "id": "5yMGk2bxbdcp"
      },
      "source": [
        "#@title Sample Tests { vertical-output: true, display-mode: \"form\" }\n"
      ],
      "execution_count": null,
      "outputs": []
    }
  ]
}