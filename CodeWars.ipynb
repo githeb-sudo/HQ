{
  "nbformat": 4,
  "nbformat_minor": 0,
  "metadata": {
    "colab": {
      "name": "CodeWars.ipynb",
      "provenance": [],
      "collapsed_sections": [],
      "include_colab_link": true
    },
    "kernelspec": {
      "display_name": "Python 3",
      "name": "python3"
    },
    "language_info": {
      "name": "python"
    }
  },
  "cells": [
    {
      "cell_type": "markdown",
      "metadata": {
        "id": "view-in-github",
        "colab_type": "text"
      },
      "source": [
        "<a href=\"https://colab.research.google.com/github/IheebM/HQ/blob/master/CodeWars.ipynb\" target=\"_parent\"><img src=\"https://colab.research.google.com/assets/colab-badge.svg\" alt=\"Open In Colab\"/></a>"
      ]
    },
    {
      "cell_type": "code",
      "metadata": {
        "id": "1KKkcen2uO_g"
      },
      "source": [
        "import subprocess,shlex,sys,glob,functools,math,re,os,random\n",
        "import numpy as np\n",
        "import matplotlib.pyplot as plt\n",
        "import pandas as pd\n",
        "import scipy.integrate \n",
        "import matplotlib.pylab as pylab\n",
        "import sklearn.preprocessing as skp\n",
        "import IPython"
      ],
      "execution_count": 1,
      "outputs": []
    },
    {
      "cell_type": "code",
      "metadata": {
        "id": "Ge-xiZcb8H93"
      },
      "source": [
        "%load_ext google.colab.data_table\n",
        "%load_ext tensorboard"
      ],
      "execution_count": 2,
      "outputs": []
    },
    {
      "cell_type": "code",
      "metadata": {
        "id": "TTeqQAOsEfuA"
      },
      "source": [
        "#@title Python test framework master { display-mode: \"form\" }\n",
        "\n",
        "from __future__ import print_function\n",
        "def expect(passed=None, message=None, allow_raise=False):\n",
        "    if passed:\n",
        "        display('PASSED', 'Test Passed')\n",
        "    else:\n",
        "        message = message or \"Value is not what was expected\"\n",
        "        display('FAILED', message)\n",
        "        if allow_raise:\n",
        "            raise AssertException(message)\n",
        "\n",
        "class test():\n",
        "  class AssertException(Exception):\n",
        "      pass\n",
        "\n",
        "\n",
        "  def format_message(message):\n",
        "      return message.replace(\"\\n\", \"<:LF:>\")\n",
        "\n",
        "\n",
        "  def display(type, message, label=\"\", mode=\"\"):\n",
        "      print(\"\\n<{0}:{1}:{2}>{3}\".format(\n",
        "          type.upper(), mode.upper(), label, format_message(message)))\n",
        "\n",
        "\n",
        "  def assert_equals(actual, expected, message=None, allow_raise=False):\n",
        "      equals_msg = \"{0} should equal {1}\".format(repr(actual), repr(expected))\n",
        "      if message is None:\n",
        "          message = equals_msg\n",
        "      else:\n",
        "          message += \": \" + equals_msg\n",
        "      expect(actual == expected, message, allow_raise)\n",
        "\n",
        "\n",
        "  def assert_not_equals(actual, expected, message=None, allow_raise=False):\n",
        "      r_actual, r_expected = repr(actual), repr(expected)\n",
        "      equals_msg = \"{0} should not equal {1}\".format(r_actual, r_expected)\n",
        "      if message is None:\n",
        "          message = equals_msg\n",
        "      else:\n",
        "          message += \": \" + equals_msg\n",
        "\n",
        "      expect(not (actual == expected), message, allow_raise)\n",
        "\n",
        "\n",
        "  def expect_error(message, function, exception=Exception):\n",
        "      passed = False\n",
        "      try:\n",
        "          function()\n",
        "      except exception:\n",
        "          passed = True\n",
        "      except Exception as e:\n",
        "          message = \"{}: {} should be {}\".format(message or \"Unexpected exception\", repr(e), repr(exception))\n",
        "      expect(passed, message)\n",
        "\n",
        "\n",
        "  def expect_no_error(message, function, exception=BaseException):\n",
        "      try:\n",
        "          function()\n",
        "      except exception as e:\n",
        "          fail(\"{}: {}\".format(message or \"Unexpected exception\", repr(e)))\n",
        "          return\n",
        "      except:\n",
        "          pass\n",
        "      pass_()\n",
        "\n",
        "\n",
        "  def pass_(): expect(True)\n",
        "\n",
        "\n",
        "  def fail(message): expect(False, message)\n",
        "\n",
        "\n",
        "  def assert_approx_equals(\n",
        "          actual, expected, margin=1e-9, message=None, allow_raise=False):\n",
        "      msg = \"{0} should be close to {1} with absolute or relative margin of {2}\"\n",
        "      equals_msg = msg.format(repr(actual), repr(expected), repr(margin))\n",
        "      if message is None:\n",
        "          message = equals_msg\n",
        "      else:\n",
        "          message += \": \" + equals_msg\n",
        "      div = max(abs(actual), abs(expected), 1)\n",
        "      expect(abs((actual - expected) / div) < margin, message, allow_raise)\n",
        "\n",
        "\n",
        "  '''\n",
        "  Usage:\n",
        "  @describe('describe text')\n",
        "  def describe1():\n",
        "      @it('it text')\n",
        "      def it1():\n",
        "          # some test cases...\n",
        "  '''\n",
        "\n",
        "\n",
        "  def _timed_block_factory(opening_text):\n",
        "      from timeit import default_timer as timer\n",
        "      from traceback import format_exception\n",
        "      from sys import exc_info\n",
        "\n",
        "      def _timed_block_decorator(s, before=None, after=None):\n",
        "          display(opening_text, s)\n",
        "\n",
        "          def wrapper(func):\n",
        "              if callable(before):\n",
        "                  before()\n",
        "              time = timer()\n",
        "              try:\n",
        "                  func()\n",
        "              except AssertionError as e:\n",
        "                  display('FAILED', str(e))\n",
        "              except Exception:\n",
        "                  fail('Unexpected exception raised')\n",
        "                  tb_str = ''.join(format_exception(*exc_info()))\n",
        "                  display('ERROR', tb_str)\n",
        "              display('COMPLETEDIN', '{:.2f}'.format((timer() - time) * 1000))\n",
        "              if callable(after):\n",
        "                  after()\n",
        "          return wrapper\n",
        "      return _timed_block_decorator\n",
        "\n",
        "\n",
        "  describe = _timed_block_factory('DESCRIBE')\n",
        "  it = _timed_block_factory('IT')\n",
        "\n",
        "\n",
        "  '''\n",
        "  Timeout utility\n",
        "  Usage:\n",
        "  @timeout(sec)\n",
        "  def some_t\n",
        "\n",
        "      any code block...\n",
        "  Note: Timeout value can be a float.\n",
        "  '''\n",
        "\n",
        "\n",
        "  def timeout(sec):\n",
        "      def wrapper(func):\n",
        "          from multiprocessing import Process\n",
        "          msg = 'Should not throw any exceptions inside timeout'\n",
        "\n",
        "          def wrapped():\n",
        "              expect_no_error(msg, func)\n",
        "          process = Process(target=wrapped)\n",
        "          process.start()\n",
        "          process.join(sec)\n",
        "          if process.is_alive():\n",
        "              fail('Exceeded time limit of {:.3f} seconds'.format(sec))\n",
        "              process.terminate()\n",
        "              process.join()\n",
        "      return wrapper\n"
      ],
      "execution_count": 3,
      "outputs": []
    },
    {
      "cell_type": "code",
      "metadata": {
        "id": "2SuZvJp0b9C1"
      },
      "source": [
        "import time\n",
        "def running_time(fun,*argv):\n",
        "  start_time = time.time()\n",
        "  print(fun(*argv),\"--- %s seconds ---\" % (time.time() - start_time))"
      ],
      "execution_count": 4,
      "outputs": []
    },
    {
      "cell_type": "code",
      "source": [
        "#@title STOP COLAB FROM DISCONNECTING\n",
        "\n",
        "import IPython\n",
        "js_code = '''\n",
        "setInterval(document.querySelector(\"colab-connect-button\").click()\n",
        ",60000)'''\n",
        "display(IPython.display.Javascript(js_code))\n",
        "# function KeepClicking(){\n",
        "# console.log(\"Clicking\");\n",
        "# document.querySelector(\"colab-connect-button\").click()\n",
        "# }\n",
        "# setInterval(document.querySelector(\"colab-connect-button\").click()\n",
        "# ,60000)"
      ],
      "metadata": {
        "id": "yMli0vjlu2U2",
        "colab": {
          "base_uri": "https://localhost:8080/",
          "height": 17
        },
        "cellView": "form",
        "outputId": "a538e032-3031-40f6-8b38-ec9e45b9a6d0"
      },
      "execution_count": 5,
      "outputs": [
        {
          "output_type": "display_data",
          "data": {
            "application/javascript": [
              "\n",
              "setInterval(document.querySelector(\"colab-connect-button\").click()\n",
              ",60000)"
            ],
            "text/plain": [
              "<IPython.core.display.Javascript object>"
            ]
          },
          "metadata": {}
        }
      ]
    },
    {
      "cell_type": "markdown",
      "source": [
        "# **QM simulations**"
      ],
      "metadata": {
        "id": "8lsNqtLuCvdZ"
      }
    },
    {
      "cell_type": "code",
      "source": [
        ""
      ],
      "metadata": {
        "id": "0Gex0CvIHVv7"
      },
      "execution_count": null,
      "outputs": []
    },
    {
      "cell_type": "markdown",
      "source": [
        "Bound states solutions for a finite square well potential\n",
        "\n",
        "V(x)=-V0 if |x|<a, else 0 \n",
        "\n",
        "V0,a>0\n"
      ],
      "metadata": {
        "id": "vEomq15_DFBR"
      }
    },
    {
      "cell_type": "code",
      "source": [
        "#@title Bound states solutions for a finite square well potential\n",
        "\n",
        "# v0=int(input(\"V0=\"))\n",
        "# a=int(input(\"a=\"))\n",
        "v0 = 130  #@param {type: \"slider\", min: 0, max: 1000}\n",
        "#E = 164  #@param {type: \"slider\", min: 100, max: 100}\n",
        "a = 19  #@param {type: \"slider\", min: 0, max: 200}\n",
        "E=-v0/2\n",
        "\n",
        "scale=34\n",
        "h_=6.62*10**(-34+scale)\n",
        "m=1.67*10**(-27+scale)\n",
        "k=np.sqrt(2*m*E)/h_\n",
        "l=np.sqrt(2*m*(E+v0))/h_\n",
        "z=l*a\n",
        "z0=np.sqrt(2*m*v0*a**2/h_**2)\n",
        "f=lambda x:np.sqrt(z0**2/x**2-1)*10E-6\n",
        "\n",
        "\n",
        "x=np.arange(0,4*math.pi,math.pi/4000)\n",
        "plt.xlabel(\"l/k\")\n",
        "plt.xlim(0,4*np.pi)\n",
        "plt.ylim(0,20)\n",
        "\n",
        "plt.plot(x,np.tan(x),\"b\")\n",
        "plt.plot(x,-1/np.tan(x),\"r\")\n",
        "plt.plot(x,f(x),\"y\")"
      ],
      "metadata": {
        "colab": {
          "base_uri": "https://localhost:8080/",
          "height": 375
        },
        "id": "Js072Zl6CuZr",
        "outputId": "8a934c68-f341-461f-b38a-ce30c1c815b8",
        "cellView": "form"
      },
      "execution_count": null,
      "outputs": [
        {
          "output_type": "stream",
          "name": "stderr",
          "text": [
            "/usr/local/lib/python3.7/dist-packages/ipykernel_launcher.py:13: RuntimeWarning: invalid value encountered in sqrt\n",
            "  del sys.path[0]\n",
            "/usr/local/lib/python3.7/dist-packages/ipykernel_launcher.py:26: RuntimeWarning: divide by zero encountered in true_divide\n",
            "/usr/local/lib/python3.7/dist-packages/ipykernel_launcher.py:17: RuntimeWarning: divide by zero encountered in true_divide\n"
          ]
        },
        {
          "output_type": "execute_result",
          "data": {
            "text/plain": [
              "[<matplotlib.lines.Line2D at 0x7f504409c310>]"
            ]
          },
          "metadata": {},
          "execution_count": 66
        },
        {
          "output_type": "display_data",
          "data": {
            "image/png": "[encoded data removed]",
            "text/plain": [
              "<Figure size 432x288 with 1 Axes>"
            ]
          },
          "metadata": {
            "needs_background": "light"
          }
        }
      ]
    },
    {
      "cell_type": "code",
      "source": [
        "#@title Binding Variable: Mass number, atomic number, isotope name, mass [MeV/c^2], binding energy [MeV] and binding energy per nucleus [MeV]\n",
        "#@markdown Required for the code below\n",
        "!wget -q https://download936.mediafire.com/zom8zf67bbog/8ov8gh3xxpptsie/nubase.txt\n",
        "\n",
        "with open(\"nubase.txt\") as nubase:\n",
        "  binding=nubase.readlines()\n",
        "binding=binding[0]\n"
      ],
      "metadata": {
        "id": "iKHRrvf_nbvn",
        "cellView": "form"
      },
      "execution_count": null,
      "outputs": []
    },
    {
      "cell_type": "code",
      "source": [
        "#@title Nuclear Liquid Drop Model Predictions vs experiments\n",
        "import warnings\n",
        "warnings.filterwarnings('ignore')\n",
        "display(IPython.display.HTML('<img src=\"https://upload.wikimedia.org/wikipedia/commons/thumb/5/53/Binding_energy_curve_-_common_isotopes.svg/500px-Binding_energy_curve_-_common_isotopes.svg.png\">'))\n",
        "#@markdown Binding energy function of the Nuclear Mass Number  A\n",
        "Z=list(np.arange(0,220,1))\n",
        "A=list(map(lambda x:1.61*(x**1.1),Z))  # Curve fitting of the N/Z graph\n",
        "volume,surface,coulomb,asymmetric,pairing=15.67,17.23,0.714,23,11.2\n",
        "def BE_perNucleon(A,Z):\n",
        "  return volume,surface*A**(-1/3),Z*(Z-1)/A**(4/3)*coulomb,asymmetric*((A-2*Z)**2)/A**2,((A-Z)%2+Z%2-1)*pairing*((A)**(-3/2))\n",
        "\n",
        "E_volume,E_surface,E_coulomb,E_asymmetric,E_pairing=np.transpose(list(map(BE_perNucleon,A,Z)))\n",
        "\n",
        "plt.plot(A,E_volume,\"b-.\",label=\"Volume BE\")\n",
        "plt.plot(A,E_surface,\"b-\",label=\"Surface Energy\")\n",
        "plt.plot(A,E_coulomb,'b--',label=\"Coulomb Energy\")\n",
        "plt.plot(A,list(map(lambda v,s,c:v-s-c,E_volume,E_surface,E_coulomb)),'k-',label=\"Liquid Drop Model Avg Binding Energy Per Nucleon\")\n",
        "plt.plot(A,list(map(lambda v,s,c,a,p:v-s-c-a-p,E_volume,E_surface,E_coulomb,E_asymmetric,E_pairing)),'m-',label=\"Semi-empirical Binding energy model\")\n",
        "\n",
        "\n",
        "plt.legend(loc=\"upper left\")\n",
        "\n",
        "plt.title(\"Nuclear Avg Binding Energy Per Nucleon Predictions\")\n",
        "plt.xlabel(\"Nuclear Mass Number, A\")\n",
        "plt.ylabel(\"Binding energy per Nucleon en MeV\")\n",
        "plt.xlim(0,256)\n",
        "plt.ylim(0,25)\n",
        "\n",
        "plt.show()\n",
        "\n",
        "\n",
        "######################################################################\n",
        "#@markdown Binding energy function of the number of neutrons N and the Atomic Number Z \n",
        "# Lambda version bindingEnergy All possible Configurations\n",
        "N=list(np.arange(0,220,1))*220\n",
        "Z=[j for j in range(220) for i in range(220)]\n",
        "volume,surface,coulomb,asymmetric,pairing=15.67,17.23,0.714,23,11.2\n",
        "liquid_drop=lambda N_list,Z_list: [volume*(N+Z)-surface*((N+Z)**(2/3))-coulomb*Z*(Z-1)/((N+Z)**(1/3))-asymmetric*((N-Z)**2)/(N+Z)-(N%2+Z%2-1)*pairing*((N+Z)**(-1/2)) for N,Z in zip(N_list,Z_list)]\n",
        "\n",
        "# helper functions to bindingEnergy, stable elements \n",
        "def zMinimum(A):\n",
        "\treturn round(A / (0.5 * 0.711 / 23.7 * A ** (2 / 3) + 2))\n",
        "def pair(Z, N):\n",
        "\tzParity = Z % 2\n",
        "\tnParity = N % 2\n",
        "\tif zParity == 0 and nParity == 0:\n",
        "\t\treturn 1\n",
        "\telif zParity != 0 and nParity != 0:\n",
        "\t\treturn -1\n",
        "\telse:\n",
        "\t\treturn 0\n",
        "# __main__ function\n",
        "def bindingEnergy(A):\n",
        "  Z = zMinimum(A)\n",
        "  N = A - Z\n",
        "  volume = 15.75 * A\n",
        "  surface = -17.8 * A ** (2 / 3)\n",
        "  coulomb = -0.711 * Z ** 2 / A ** (1 / 3)\n",
        "  asymmetric = -23.7 * (A - 2 * Z) ** 2 / A\n",
        "  pairing = 11.18 * pair(Z, N) / A ** 0.5\n",
        "  return volume + surface + coulomb + asymmetric + pairing\n",
        "\n",
        "plt.xlim(0,150)\n",
        "plt.ylim(0,150)\n",
        "\n",
        "plt.subplot(2,2,1)\n",
        "plt.scatter(N,Z,c=[bindingEnergy(n+z) for n,z in zip(N,Z)])\n",
        "plt.xlabel(\"Nuclear Mass Number, A\")\n",
        "plt.ylabel(\"Atomic Number, Z\")\n",
        "plt.title(\"Nuclear LDM Predictions\")\n",
        "\n",
        "plt.subplot(2,2,2)\n",
        "plt.scatter(N,Z,c=liquid_drop(N,Z))\n",
        "plt.title(\"Nuclear LDM Predictions, All config\")\n",
        "\n",
        "n_exp,p_exp,bindindEnergy_exp,bindindEnergypernucleon_exp=[],[],[],[]\n",
        "\n",
        "for i in binding.split(\"\\n\") : \n",
        "  j=i.split(\" \")\n",
        "  n_exp.append(int(j[0])-int(j[1]))\n",
        "  p_exp.append(int(j[1]))\n",
        "  bindindEnergy_exp.append(float(j[4]))\n",
        "  bindindEnergypernucleon_exp.append(float(j[5]))\n",
        "\n",
        "plt.subplot(2,2,3)\n",
        "plt.scatter(n_exp,p_exp,c=bindindEnergy_exp)\n",
        "plt.title(\"Nuclear LDM Experiment results\")\n",
        "\n",
        "plt.subplot(2,2,4)\n",
        "plt.scatter(n_exp,p_exp,c=bindindEnergypernucleon_exp)\n",
        "plt.title(\"BE per Nucleon Experiment results\")\n",
        "\n",
        "plt.tight_layout(pad=3.1)\n",
        "plt.colorbar()\n",
        "plt.show()\n",
        "\n",
        "A=list(np.arange(0,220,1))\n",
        "plt.plot(list(map(lambda a:a/(2+0.0156*a**(2/3)),A)),list(map(lambda a:a-a/(2+0.0156*a**(2/3)),A)),label=\"NZ Graph, Maximizing BE\")\n",
        "plt.plot(A,A,label=\"N=Z graph\")\n",
        "plt.figlegend(loc='upper left')\n",
        "plt.xlim(0,150)\n",
        "plt.ylim(0,150)\n",
        "plt.ylabel(\"Number of neutons, N\")\n",
        "plt.xlabel(\"Atomic Number, Z\")\n"
      ],
      "metadata": {
        "colab": {
          "base_uri": "https://localhost:8080/",
          "height": 1000
        },
        "id": "IZ0JsIkSjsHP",
        "outputId": "7c50cba2-2ff4-4b4d-a654-1a270e323531",
        "cellView": "form"
      },
      "execution_count": null,
      "outputs": [
        {
          "output_type": "display_data",
          "data": {
            "text/html": [
              "<img src=\"https://upload.wikimedia.org/wikipedia/commons/thumb/5/53/Binding_energy_curve_-_common_isotopes.svg/500px-Binding_energy_curve_-_common_isotopes.svg.png\">"
            ],
            "text/plain": [
              "<IPython.core.display.HTML object>"
            ]
          },
          "metadata": {}
        },
        {
          "output_type": "display_data",
          "data": {
            "image/png": "[encoded data removed]",
            "text/plain": [
              "<Figure size 432x288 with 1 Axes>"
            ]
          },
          "metadata": {
            "needs_background": "light"
          }
        },
        {
          "output_type": "display_data",
          "data": {
            "image/png": "[encoded data removed]",
            "text/plain": [
              "<Figure size 432x288 with 5 Axes>"
            ]
          },
          "metadata": {
            "needs_background": "light"
          }
        },
        {
          "output_type": "execute_result",
          "data": {
            "text/plain": [
              "Text(0.5, 0, 'Atomic Number, Z')"
            ]
          },
          "metadata": {},
          "execution_count": 33
        },
        {
          "output_type": "display_data",
          "data": {
            "image/png": "[encoded data removed]",
            "text/plain": [
              "<Figure size 432x288 with 1 Axes>"
            ]
          },
          "metadata": {
            "needs_background": "light"
          }
        }
      ]
    },
    {
      "cell_type": "markdown",
      "source": [
        "# not finished"
      ],
      "metadata": {
        "id": "na1A4L5GOa80"
      }
    },
    {
      "cell_type": "code",
      "source": [
        "#@title RELATIVISTIC VELOCITY ADDITION\n",
        "Rocket_velocity = 22  #@param {type: \"slider\", min: 0, max: 100}\n",
        "Projectile_velocity=47    #@param {type: \"slider\", min: 0, max: 100}\n",
        "c=1    # Speed of light\n",
        "Projectile_velocity/=100*c\n",
        "Rocket_velocity/=100*c\n",
        "\n",
        "Gamma=1/np.sqrt(1-Rocket_velocity**2)\n",
        "\n",
        "\n",
        "# **Rocket Frame**\n",
        "V_Rocket1=0\n",
        "V_projectile1=lambda velocity:[i for i in velocity ]\n",
        "# **Ground Frame**\n",
        "V_Rocket=Rocket_velocity\n",
        "V_projectile=lambda velocity:[Rocket_velocity+i for i in velocity]\n",
        "\n",
        "x=np.arange(0,0.999,0.001)\n",
        "\n",
        "plt.suptitle(\"RELATIVISTIC VELOCITY ADDITION\")\n",
        "\n",
        "plt.subplot(2,1,1)\n",
        "plt.xlim(0,1)\n",
        "plt.ylim(0,2)\n",
        "plt.scatter(x,V_projectile1(x),color='k')\n",
        "\n",
        "plt.subplot(2,1,2)\n",
        "plt.xlim(0,1)\n",
        "plt.ylim(0,2)\n",
        "plt.scatter(x,V_projectile(x),color='g')\n",
        "\n",
        "plt.xlabel(\"Velocity of the projectile in the Rocket Frame v1/c\")\n",
        "plt.ylabel(\"Velocity of the projectile in the ground Frame v1/c\")\n",
        "\n",
        "\n",
        "\n"
      ],
      "metadata": {
        "id": "NTNPo7TNsMdG",
        "cellView": "form",
        "colab": {
          "base_uri": "https://localhost:8080/",
          "height": 370
        },
        "outputId": "025b4898-750d-4cdb-d263-23b4ff1489e1"
      },
      "execution_count": null,
      "outputs": [
        {
          "output_type": "execute_result",
          "data": {
            "text/plain": [
              "Text(0, 0.5, 'Velocity of the projectile in the ground Frame v1/c')"
            ]
          },
          "metadata": {},
          "execution_count": 42
        },
        {
          "output_type": "display_data",
          "data": {
            "image/png": "[encoded data removed]",
            "text/plain": [
              "<Figure size 432x288 with 2 Axes>"
            ]
          },
          "metadata": {
            "needs_background": "light"
          }
        }
      ]
    },
    {
      "cell_type": "code",
      "source": [
        "#@title Asynchronous clocks illustration\n",
        "Train_speed = 25  #@param {type: \"slider\", min: 0, max: 100}\n",
        "c=1\n",
        "Train_speed/=100*c\n",
        "\n",
        "train_length=1\n",
        "train_height=10\n",
        "limit= lambda x,time: x+2*Train_speed*time\n",
        "\n",
        "#Events As Seen From Train\n",
        "train_from_inside=lambda train_height,train_width:list(np.arange(-train_length/2,train_length/2,train_length/100))*train_height\n",
        "#Events As Seen From Ground\n",
        "train_from_ground=lambda train_height,train_width,t:list(np.arange(-train_length/2+Train_speed*t,train_length/2+Train_speed*t,train_length/100))*train_height\n",
        "\n",
        "train=[j/10  for j in range(train_height) for i in range(100)]\n",
        "\n",
        "plt.suptitle(\"Asynchronous clocks illustration\")\n",
        "\n",
        "plt.subplot(2,3,1)\n",
        "plt.scatter(train_from_inside(train_height,train_length),train,color='k')\n",
        "plt.xlim(-limit(2,0),limit(2,0))\n",
        "plt.ylim(-limit(2,0),limit(2,0))\n",
        "\n",
        "plt.subplot(2,3,2)\n",
        "plt.scatter(train_from_inside(train_height,train_length),train,color='k')\n",
        "plt.xlim(-limit(2,0),limit(2,0))\n",
        "plt.ylim(-limit(2,0),limit(2,0))\n",
        "\n",
        "plt.subplot(2,3,3)\n",
        "plt.scatter(train_from_inside(train_height,train_length),train,color='k')\n",
        "plt.xlim(-limit(2,0),limit(2,0))\n",
        "plt.ylim(-limit(2,0),limit(2,0))\n",
        "\n",
        "plt.subplot(2,3,4)\n",
        "plt.scatter(train_from_ground(train_height,train_length,0.1),train,color='g')\n",
        "plt.xlim(-limit(4,0),limit(4,0))\n",
        "plt.ylim(-limit(2,0),limit(2,0))\n",
        "\n",
        "plt.subplot(2,3,5)\n",
        "plt.scatter(train_from_ground(train_height,train_length,1),train,color='g')\n",
        "plt.xlim(-limit(4,0),limit(4,0))\n",
        "plt.ylim(-limit(2,0),limit(2,0))\n",
        "\n",
        "plt.subplot(2,3,6)\n",
        "plt.scatter(train_from_ground(train_height,train_length,10),train,color='g')\n",
        "plt.xlim(-limit(4,0),limit(4,0))\n",
        "plt.ylim(-limit(2,0),limit(2,0))\n",
        "\n",
        "plt.xlabel(\"Velocity of the projectile in the Rocket Frame v1/c\")\n",
        "plt.ylabel(\"Velocity of the projectile in the ground Frame v1/c\",labelpad=250)\n"
      ],
      "metadata": {
        "cellView": "form",
        "id": "qyGtb5t79Ow1",
        "colab": {
          "base_uri": "https://localhost:8080/",
          "height": 370
        },
        "outputId": "12cc5a8f-6d8a-46f0-96de-350ab87b9b36"
      },
      "execution_count": null,
      "outputs": [
        {
          "output_type": "execute_result",
          "data": {
            "text/plain": [
              "Text(0, 0.5, 'Velocity of the projectile in the ground Frame v1/c')"
            ]
          },
          "metadata": {},
          "execution_count": 27
        },
        {
          "output_type": "display_data",
          "data": {
            "image/png": "[encoded data removed]",
            "text/plain": [
              "<Figure size 432x288 with 6 Axes>"
            ]
          },
          "metadata": {
            "needs_background": "light"
          }
        }
      ]
    },
    {
      "cell_type": "markdown",
      "metadata": {
        "id": "3GQu5tWnv0AS"
      },
      "source": [
        "# **Sort list without using list.sort**"
      ]
    },
    {
      "cell_type": "code",
      "metadata": {
        "id": "f59boWQtvwPn"
      },
      "source": [
        "def bubbleSort(t):\n",
        "    i,sorted=0,False\n",
        "    while (i<len(t)-1 and not sorted):\n",
        "        sorted,j=True,0\n",
        "        while (j<len(t)-i-1):\n",
        "            if (t[j]>t[j+1]):\n",
        "                t[j],t[j+1]=t[j+1],t[j]\n",
        "                sorted=False\n",
        "            j+=1\n",
        "        i+=1\n",
        "    return t\n",
        "####################################################################################################################################################################################################################################################\n",
        "def combSort(t):\n",
        "    gap,sorted=len(t)-1,False\n",
        "    while(not sorted):\n",
        "        gap=int(gap/1.3)\n",
        "        if(gap<=1):\n",
        "            gap,sorted=int(max(gap,1)),True\n",
        "        j=0\n",
        "        while(j<len(t)-gap):\n",
        "            if (t[j]>t[j+gap]):\n",
        "                t[j],t[j+gap]=t[j+gap],t[j]\n",
        "                sorted=False\n",
        "            j+=1\n",
        "    return t\n",
        "\n",
        "####################################################################################################################################################################################################################################################\n",
        "def partition(array, start, end):\n",
        "    pivot = array[start]\n",
        "    low = start + 1\n",
        "    high = end\n",
        "    while True:\n",
        "        while low <= high and array[high] >= pivot:\n",
        "            high = high - 1\n",
        "        while low <= high and array[low] <= pivot:\n",
        "            low = low + 1\n",
        "        if low <= high:\n",
        "            array[low], array[high] = array[high], array[low]\n",
        "        else:\n",
        "            break\n",
        "    array[start], array[high] = array[high], array[start]\n",
        "    return high\n",
        "def quick_sort(array, start, end):\n",
        "    if start >= end:\n",
        "        return\n",
        "    p = partition(array, start, end)\n",
        "    quick_sort(array, start, p-1)\n",
        "    quick_sort(array, p+1, end)"
      ],
      "execution_count": null,
      "outputs": []
    },
    {
      "cell_type": "markdown",
      "metadata": {
        "id": "YUUZZ_uHGZDR"
      },
      "source": [
        "**Replace With Alphabet Position**\n",
        "\n",
        "Given a string, replace every letter with its position in the alphabet. (ignore non alphabetic characters)"
      ]
    },
    {
      "cell_type": "code",
      "metadata": {
        "id": "4MRY9GTBxz40"
      },
      "source": [
        "# def alphabet_position1(text):\n",
        "#     print(functools.reduce(lambda x,y:x+' '+str(ord(y.lower())-96), list(text)))\n",
        "def alphabet_position(text):\n",
        "    text=text.lower()\n",
        "    if (len(text)>1):\n",
        "        return alphabet_position(text[:-1:])+' '+str(ord(text[-1])-96) if (text[-1]).isalpha() else alphabet_position(text[:-1:])\n",
        "    else :\n",
        "        return str(ord(text[-1])-96) if (text[-1]).isalpha() else ''"
      ],
      "execution_count": null,
      "outputs": []
    },
    {
      "cell_type": "code",
      "metadata": {
        "id": "Fh0_dXl3Ge6U"
      },
      "source": [
        "#@title Sample Tests { display-mode: \"form\" }\n",
        "from random import randint\n",
        "test.assert_equals(alphabet_position(\"The sunset sets at twelve o' clock.\"), \"20 8 5 19 21 14 19 5 20 19 5 20 19 1 20 20 23 5 12 22 5 15 3 12 15 3 11\")\n",
        "test.assert_equals(alphabet_position(\"The narwhal bacons at midnight.\"), \"20 8 5 14 1 18 23 8 1 12 2 1 3 15 14 19 1 20 13 9 4 14 9 7 8 20\")\n",
        "\n",
        "number_test = \"\"\n",
        "for item in range(10):\n",
        "    number_test += str(randint(1, 9))\n",
        "test.assert_equals(alphabet_position(number_test), \"\")"
      ],
      "execution_count": null,
      "outputs": []
    },
    {
      "cell_type": "markdown",
      "metadata": {
        "id": "oWHcAZjLkKwi"
      },
      "source": [
        "**Find The Parity Outlier**\n",
        "\n",
        "You are given an array (which will have a length of at least 3, but could be very large) containing integers. The array is either entirely comprised of odd integers or entirely comprised of even integers except for a single integer N. Write a method that takes the array as an argument and returns this \"outlier\" N."
      ]
    },
    {
      "cell_type": "code",
      "metadata": {
        "id": "klfh7Bbd9H5y"
      },
      "source": [
        "#@title\n",
        "def find_outlier(integers):\n",
        "    mod2=lambda x:x%2\n",
        "    regular=np.where(mod2(integers[0])+mod2(integers[1])+mod2(integers[2])<2,0,1)\n",
        "    i=0\n",
        "    while ((integers[i])%2==regular):\n",
        "        i+=1\n",
        "    return integers[i]"
      ],
      "execution_count": null,
      "outputs": []
    },
    {
      "cell_type": "code",
      "metadata": {
        "id": "FJzsYlJOGgOo"
      },
      "source": [
        "#@title Sample Tests { display-mode: \"form\" }\n",
        "test.assert_equals(find_outlier([2, 4, 6, 8, 10, 3]), 3)\n",
        "test.assert_equals(find_outlier([2, 4, 0, 100, 4, 11, 2602, 36]), 11)\n",
        "test.assert_equals(find_outlier([160, 3, 1719, 19, 11, 13, -21]), 160)"
      ],
      "execution_count": null,
      "outputs": []
    },
    {
      "cell_type": "markdown",
      "metadata": {
        "id": "9qmut-i3OGek"
      },
      "source": [
        "**Pig Latin**\n",
        "\n",
        "Move the first letter of each word to the end of it, then add \"ay\" to the end of the word. Leave punctuation marks untouched."
      ]
    },
    {
      "cell_type": "code",
      "metadata": {
        "id": "MP4PR24Z1sXk"
      },
      "source": [
        "def pig_it(text):\n",
        "  return  \" \".join(i[1::]+i[0]+\"ay\" if i.isalpha() else i for i in list(text.split(' ')))  "
      ],
      "execution_count": null,
      "outputs": []
    },
    {
      "cell_type": "code",
      "metadata": {
        "id": "io-Wq8wUGhcX"
      },
      "source": [
        "#@title Sample Tests { display-mode: \"form\" }\n",
        "test.assert_equals(pig_it('Pig latin is cool'),'igPay atinlay siay oolcay')\n",
        "test.assert_equals(pig_it('This is my string'),'hisTay siay ymay tringsay')"
      ],
      "execution_count": null,
      "outputs": []
    },
    {
      "cell_type": "markdown",
      "metadata": {
        "id": "4DRfsC_m_D4A"
      },
      "source": [
        "**Is a number prime?**\n",
        "\n",
        "Define a function that takes one integer argument(positive or negative) and returns logical value true or false depending on if the integer is a prime."
      ]
    },
    {
      "cell_type": "code",
      "metadata": {
        "id": "jDeDWbpmXIBH"
      },
      "source": [
        "def is_prime(num):\n",
        "    if (num<2 or num%2==0):\n",
        "        return False or num==2\n",
        "    for i in range(3,np.int(np.sqrt(np.float(num)))+1,2): # Explicit float casting to handle large numbers \n",
        "        if (num%i==0):\n",
        "            return False\n",
        "    return True"
      ],
      "execution_count": null,
      "outputs": []
    },
    {
      "cell_type": "code",
      "metadata": {
        "colab": {
          "base_uri": "https://localhost:8080/"
        },
        "id": "DnLZyBhJNsTz",
        "outputId": "15cdd3b7-bdb1-4fe8-a08b-b36afa2de987"
      },
      "source": [
        "#@title\n",
        "largeNotPrime=238962445015\n",
        "Product2LargePrime=8843789*1099859\n",
        "\n",
        "running_time(is_prime,largePrime)\n",
        "running_time(is_prime,largeNotPrime)\n",
        "running_time(is_prime,Product2LargePrime)"
      ],
      "execution_count": null,
      "outputs": [
        {
          "output_type": "stream",
          "text": [
            "True --- 0.041315555572509766 seconds ---\n",
            "False --- 3.8623809814453125e-05 seconds ---\n",
            "False --- 0.07434391975402832 seconds ---\n"
          ],
          "name": "stdout"
        }
      ]
    },
    {
      "cell_type": "code",
      "metadata": {
        "id": "Rj0wvO2eFu5V"
      },
      "source": [
        "import random\n",
        "\n",
        "def even_odd(n):\n",
        "    s, d = 0, n\n",
        "    while d % 2 == 0:\n",
        "          s += 1\n",
        "          d >>= 1\n",
        "    return s, d\n",
        "\n",
        "def Miller_Rabin(a, p):\n",
        "    s, d = even_odd(p-1)\n",
        "    a = pow(a, d, p)\n",
        "    if a == 1: return True\n",
        "    for i in range(s):\n",
        "        if a == p-1: return True\n",
        "        a = pow(a, 2, p)\n",
        "    return False\n",
        "\n",
        "def is_prime_Miller_Rabin(p):\n",
        "    if p == 2: return True\n",
        "    if p <= 1 or p % 2 == 0: return False\n",
        "    return all(Miller_Rabin(random.randint(2,p-1),p) for _ in range(40))\n",
        "is_prime_Miller_Rabin(7193460161740708249)"
      ],
      "execution_count": null,
      "outputs": []
    },
    {
      "cell_type": "code",
      "metadata": {
        "id": "s2XZMRjpD106"
      },
      "source": [
        "#@title Sample Tests { display-mode: \"form\" }\n",
        "@test.it(\"Basic tests\")\n",
        "def basic_tests():\n",
        "    test.assert_equals(is_prime(0),  False, \"0  is not prime\")\n",
        "    test.assert_equals(is_prime(1),  False, \"1  is not prime\")\n",
        "    test.assert_equals(is_prime(2),  True, \"2  is prime\")\n",
        "    test.assert_equals(is_prime(73), True, \"73 is prime\")\n",
        "    test.assert_equals(is_prime(75), False, \"75 is not prime\")\n",
        "    test.assert_equals(is_prime(-1), False, \"-1 is not prime\")\n",
        "\n",
        "\n",
        "@test.it(\"Test prime\")\n",
        "def test_prime():\n",
        "    test.assert_equals(is_prime(3),  True, \"3  is prime\");\n",
        "    test.assert_equals(is_prime(5),  True, \"5  is prime\");\n",
        "    test.assert_equals(is_prime(7),  True, \"7  is prime\");\n",
        "    test.assert_equals(is_prime(41), True, \"41 is prime\");\n",
        "    test.assert_equals(is_prime(5099), True, \"5099 is prime\");\n",
        "    \n",
        "@test.it(\"Test not prime\")\n",
        "def test_not_prime():\n",
        "    test.assert_equals(is_prime(4),  False, \"4  is not prime\");\n",
        "    test.assert_equals(is_prime(6),  False, \"6  is not prime\");\n",
        "    test.assert_equals(is_prime(8),  False, \"8  is not prime\");\n",
        "    test.assert_equals(is_prime(9), False, \"9 is not prime\");\n",
        "    test.assert_equals(is_prime(45), False, \"45 is not prime\");\n",
        "    test.assert_equals(is_prime(-5), False, \"-5 is not prime\");\n",
        "    test.assert_equals(is_prime(-8), False, \"-8 is not prime\");\n",
        "    test.assert_equals(is_prime(-41), False, \"-41 is not prime\");"
      ],
      "execution_count": null,
      "outputs": []
    },
    {
      "cell_type": "markdown",
      "metadata": {
        "id": "8g4nuRk6An-_"
      },
      "source": [
        "# **The GCF (Greatest Common Factor) of any two numbers**"
      ]
    },
    {
      "cell_type": "code",
      "metadata": {
        "id": "masWXSC3AkxN"
      },
      "source": [
        "def find_GCF(n1,n2):\n",
        "  return find_GCF(min(n1,n2),max(n1,n2)-min(n1,n2)) if n1!=n2 else n1\n",
        "def find_GCF(a, b):\n",
        "    return find_GCF(b,a%b) if b else a"
      ],
      "execution_count": null,
      "outputs": []
    },
    {
      "cell_type": "code",
      "metadata": {
        "cellView": "form",
        "id": "sDAMyF-7zfj1"
      },
      "source": [
        "#@title Sample Tests { vertical-output: true }\n",
        "test.assert_equals(find_GCF(2, 4), 2)\n",
        "test.assert_equals(find_GCF(8,20), 4);\n",
        "test.assert_equals(find_GCF(5,13), 1);\n",
        "test.assert_equals(find_GCF(100,100), 100);"
      ],
      "execution_count": null,
      "outputs": []
    },
    {
      "cell_type": "markdown",
      "metadata": {
        "id": "khqZg-Su2H4V"
      },
      "source": [
        "# **Get the numbers from given GCD sum**\n",
        "Given the sum and gcd of two numbers, return those two numbers in ascending order."
      ]
    },
    {
      "cell_type": "code",
      "metadata": {
        "id": "1E6oMA5g3BLj"
      },
      "source": [
        "def find_GCF(a, b):\n",
        "    return find_GCF(b,a%b) if b else a\n",
        "\n",
        "def solve(sum,gcf,index=0):\n",
        "    return solve(sum-1,gcf,index+1) if (find_GCF(sum,index)!=gcf and index<=sum) else ((index,sum) if index<=sum else -1)\n",
        "\n",
        "def solve1(sum,gcf):\n",
        "    i=1\n",
        "    while(find_GCF(sum-i,i)!=gcf and i<=sum/2):\n",
        "        i+=1\n",
        "    return (i,sum-i) if i<=sum/2 else -1\n",
        "\n"
      ],
      "execution_count": null,
      "outputs": []
    },
    {
      "cell_type": "code",
      "metadata": {
        "cellView": "form",
        "id": "ULuwCbdv2HQi"
      },
      "source": [
        "#@title Sample Tests { vertical-output: true }\n",
        "test.assert_equals(solve(6,3), (3,3))\n",
        "test.assert_equals(solve(8,2), (2,6))\n",
        "test.assert_equals(solve(10,3), -1)\n",
        "test.assert_equals(solve(12,4), (4,8))\n",
        "test.assert_equals(solve(12,5), -1)   "
      ],
      "execution_count": null,
      "outputs": []
    },
    {
      "cell_type": "markdown",
      "metadata": {
        "id": "3V1KqwiAJEDV"
      },
      "source": [
        "\n",
        "**Multiples of 3 or 5 below the number passed in**\n",
        "\n",
        "If the number is negative, return 0.\n",
        "If the number is a multiple of both 3 and 5, only count it once."
      ]
    },
    {
      "cell_type": "code",
      "metadata": {
        "id": "mP9r28LHI3xU"
      },
      "source": [
        "def solution(number):\n",
        "    return (int)(sum(np.concatenate((np.arange(3,number,3) , np.arange(5,number,5), -(np.arange(5,number,5)[2::3])),axis=0)))  if number>3 else 0\n",
        "def solution1(number):\n",
        "  return sum(x for x in range(number) if not (x%3 and x%5))"
      ],
      "execution_count": null,
      "outputs": []
    },
    {
      "cell_type": "code",
      "metadata": {
        "id": "ZimD9NAxJbDL"
      },
      "source": [
        "#@title Sample Tests { display-mode: \"form\" }\n",
        "\n",
        "test.assert_equals(solution(4), 3)\n",
        "\n",
        "\n",
        "test.assert_equals(solution(6), 8)\n",
        "\n",
        "\n",
        "test.assert_equals(solution(16), 60)\n",
        "\n",
        "\n",
        "test.assert_equals(solution(3), 0)\n",
        "\n",
        "\n",
        "test.assert_equals(solution(5), 3)\n",
        "\n",
        "\n",
        "test.assert_equals(solution(15), 45)\n",
        "\n",
        "\n",
        "test.assert_equals(solution(0), 0)\n",
        "\n",
        "\n",
        "test.assert_equals(solution(-1), 0)\n",
        "\n",
        "\n",
        "test.assert_equals(solution(10), 23)\n",
        "\n",
        "\n",
        "test.assert_equals(solution(20), 78)\n",
        "\n",
        "\n",
        "test.assert_equals(solution(200), 9168)\n"
      ],
      "execution_count": null,
      "outputs": []
    },
    {
      "cell_type": "markdown",
      "metadata": {
        "id": "yrlujhO01UxI"
      },
      "source": [
        "# **Calculating with Functions**\n",
        "\n",
        "seven(times(five())) # must return 35"
      ]
    },
    {
      "cell_type": "code",
      "metadata": {
        "id": "9URUCZm3i-iu"
      },
      "source": [
        "identity=lambda a:a\n",
        "number= lambda i:lambda f=identity:f(i)\n",
        "zero, one, two, three, four, five, six, seven, eight, nine = map(number, range(10))\n",
        "plus = lambda x: lambda y: y + x\n",
        "minus = lambda x: lambda y: y - x\n",
        "times = lambda x: lambda y: y * x\n",
        "divided_by = lambda x: lambda y: y // x\n"
      ],
      "execution_count": null,
      "outputs": []
    },
    {
      "cell_type": "code",
      "metadata": {
        "id": "NCgLvwFRpwMn"
      },
      "source": [
        "#@title Sample Tests { vertical-output: true, display-mode: \"form\" }\n",
        "test.describe('Basic Tests')\n",
        "test.assert_equals(seven(times(five())), 35)\n",
        "test.assert_equals(four(plus(nine())), 13)\n",
        "test.assert_equals(eight(minus(three())), 5)\n",
        "test.assert_equals(six(divided_by(two())), 3)"
      ],
      "execution_count": null,
      "outputs": []
    },
    {
      "cell_type": "markdown",
      "metadata": {
        "id": "m3aPwMgHw6on"
      },
      "source": [
        "# **Valid Braces**\n",
        "\n",
        "An input is a nonempty string, and it will only consist of parentheses, brackets and curly braces: ()[]{}\n",
        "\n",
        "A string of braces is considered valid if all braces are matched with the correct brace."
      ]
    },
    {
      "cell_type": "code",
      "metadata": {
        "colab": {
          "base_uri": "https://localhost:8080/",
          "height": 35
        },
        "id": "Mq9noUgow7CP",
        "outputId": "0873e2be-5f98-4ffb-d5f7-ad291cd41f92"
      },
      "source": [
        "# First solution\n",
        "def validBraces(string):\n",
        "    matched = {\"(\": \")\", \"[\": \"]\", \"{\": \"}\"}\n",
        "    closing=matched.values()\n",
        "    accumulated=string[0]\n",
        "    for i in string:\n",
        "      if ((i in closing) and matched[accumulated[-1]]!=curChr):\n",
        "\n",
        "\n",
        "    accumulated,current,length=string[0],1,len(string)\n",
        "    while (current<length):\n",
        "        curChr=string[current]\n",
        "        if :\n",
        "          return False\n",
        "        current+=1\n",
        "        if (accumulated==\"\" or matched[accumulated[-1]] in matched.values()):\n",
        "            accumulated+=curChr\n",
        "        else:\n",
        "            accumulated=accumulated[:-1]\n",
        "    return accumulated==\"\"\n",
        "# Second solution\n",
        "def validBraces1(string):\n",
        "    braces = {\"(\": \")\", \"[\": \"]\"}\n",
        "    stack = []\n",
        "    for character in string:\n",
        "        if character in braces.keys():\n",
        "            stack.append(character)\n",
        "        else:\n",
        "            if len(stack) == 0 or bractextstack.pop()] != character:\n",
        "                return False\n",
        "    return len(stack) == 0 \n",
        "\"\"\"\n",
        "tree -> child or brother\n",
        "string walk\n",
        "math +-\n",
        "from inside 2,4,6\n",
        "\"\"\""
      ],
      "execution_count": null,
      "outputs": [
        {
          "output_type": "execute_result",
          "data": {
            "application/vnd.google.colaboratory.intrinsic+json": {
              "type": "string"
            },
            "text/plain": [
              "'\\ntree -> child or brother\\nstring walk\\nmath +-\\nfrom inside 2,4,6\\n'"
            ]
          },
          "metadata": {},
          "execution_count": 14
        }
      ]
    },
    {
      "cell_type": "code",
      "metadata": {
        "id": "jGbeiKPCbYwF"
      },
      "source": [
        "running_time(validBraces1,1000*'([])')\n",
        "running_time(validBraces,1000*'([])')"
      ],
      "execution_count": null,
      "outputs": []
    },
    {
      "cell_type": "code",
      "metadata": {
        "colab": {
          "base_uri": "https://localhost:8080/"
        },
        "id": "e80O2Sq-KvTI",
        "outputId": "39aeebf4-07fc-4955-8a47-a5b0c55da666"
      },
      "source": [
        "running_time(validBraces1,'([])')\n",
        "running_time(validBraces,'([])')\n",
        "\n",
        "running_time(validBraces1,')'+10000000000000*'([])')\n",
        "running_time(validBraces,')'+100*'([])')\n",
        "\n",
        "running_time(validBraces1,'[({})](][({})](][({})](]')\n",
        "running_time(validBraces,'[({})](][({})](][({})](]')"
      ],
      "execution_count": null,
      "outputs": [
        {
          "output_type": "stream",
          "text": [
            "True --- 1.1444091796875e-05 seconds ---\n",
            "True --- 1.0728836059570312e-05 seconds ---\n",
            "False --- 5.9604644775390625e-06 seconds ---\n",
            "False --- 0.0002105236053466797 seconds ---\n",
            "False --- 9.5367431640625e-06 seconds ---\n",
            "False --- 1.6927719116210938e-05 seconds ---\n"
          ],
          "name": "stdout"
        }
      ]
    },
    {
      "cell_type": "code",
      "metadata": {
        "id": "zxknvhU92xxf"
      },
      "source": [
        "#@title Sample Tests { vertical-output: true, display-mode: \"form\" }\n",
        "test.assert_equals(validBraces(\"()\"), True);\n",
        "test.assert_equals(validBraces(\"[(])\"), False);"
      ],
      "execution_count": null,
      "outputs": []
    },
    {
      "cell_type": "markdown",
      "metadata": {
        "id": "VIG3naXJmdTb"
      },
      "source": [
        "# **Count the number of Duplicates**\n",
        "\n",
        "A function that returns the count of distinct case-insensitive alphabetic characters and numeric digits that occur more than once in the input string. \n",
        "e.g. \"indivisibility\" -> 1 and \"Indivisibilities\" -> 2"
      ]
    },
    {
      "cell_type": "code",
      "metadata": {
        "id": "9eGWx5ZJ0Lwl"
      },
      "source": [
        "guard={'0': 0,'1': 0,'2': 0,'3': 0,'4': 0,'5': 0,'6': 0,'7': 0,'8': 0,'9': 0,'a': 0,'b': 0,'c': 0,'d': 0,'e': 0,'f': 0,'g': 0,'h': 0,'i': 0,'j': 0,'k': 0,'l': 0,'m': 0,'n': 0,'o': 0,'p': 0,'q': 0,'r': 0,'s': 0,'t': 0,'u': 0,'v': 0,'w': 0,'x': 0,'y': 0,'z': 0}\n",
        "def duplicate_count1(text):\n",
        "    return sum(1 for i in guard.keys() if text.lower().count(i)>1 )\n",
        "def duplicate_count(text):\n",
        "    for i in text.lower():\n",
        "        if (guard.get(i)==None):\n",
        "            pass\n",
        "        elif (guard[i]==1):\n",
        "            guard.pop(i) \n",
        "        else:\n",
        "            guard[i]+=1\n",
        "    return 36-len(guard)\n",
        "'''\n",
        "Two bits per letter to store its state\n",
        "count(i), ∀i€{A..Z}\n",
        "Dict(i:{0,1}), ∀i€{A..Z} --> Drop i when found for the second time: text with card(different letter) is high, and the letters are redundant\n",
        "Dict --> Add i when found, i€{A..Z}: text with card(different letter) is low\n",
        "'''"
      ],
      "execution_count": null,
      "outputs": []
    },
    {
      "cell_type": "code",
      "metadata": {
        "id": "5TWKPv_f0MA9"
      },
      "source": [
        "#@title Sample Tests { vertical-output: true, display-mode: \"form\" }\n",
        "@test.describe(\"Fixed Tests\")\n",
        "def fixed_tests():\n",
        "    @test.it(\"Basic Tests\")\n",
        "    def basic_tests():\n",
        "        test.assert_equals(duplicate_count(\"\"), 0)\n",
        "        test.assert_equals(duplicate_count(\"abcde\"), 0)\n",
        "        test.assert_equals(duplicate_count(\"abcdeaa\"), 1)\n",
        "        test.assert_equals(duplicate_count(\"abcdeaB\"), 2)\n",
        "        test.assert_equals(duplicate_count(\"Indivisibilities\"), 2)"
      ],
      "execution_count": null,
      "outputs": []
    },
    {
      "cell_type": "markdown",
      "source": [
        "# **Find the odd int**\n",
        "\n",
        "Given an array of integers, find the one that appears an odd number of times."
      ],
      "metadata": {
        "id": "pLGTRyc8DX9l"
      }
    },
    {
      "cell_type": "code",
      "source": [
        "import numpy as np\n",
        "def find_it(seq):\n",
        "    return next(i  for i in seq if seq.count(i)%2==1)"
      ],
      "metadata": {
        "id": "iCMPoIw8DL6X"
      },
      "execution_count": null,
      "outputs": []
    },
    {
      "cell_type": "code",
      "source": [
        "#@title Sample Tests { vertical-output: true, display-mode: \"form\" }\n",
        "\n",
        "\n",
        "@test.describe(\"Sample tests\")\n",
        "def sample_tests():\n",
        "    \n",
        "    @test.it(\"find_it([20,1,-1,2,-2,3,3,5,5,1,2,4,20,4,-1,-2,5]) should return 5 (because it appears 3 times)\")\n",
        "    def _():\n",
        "        test.assert_equals(find_it([20,1,-1,2,-2,3,3,5,5,1,2,4,20,4,-1,-2,5]), 5)\n",
        "        \n",
        "    @test.it(\"find_it([1,1,2,-2,5,2,4,4,-1,-2,5]) should return -1 (because it appears 1 time)\")\n",
        "    def _():\n",
        "        test.assert_equals(find_it([1,1,2,-2,5,2,4,4,-1,-2,5]), -1);\n",
        "        \n",
        "    @test.it(\"find_it([20,1,1,2,2,3,3,5,5,4,20,4,5]) should return 5 (because it appears 3 times)\")\n",
        "    def _():\n",
        "        test.assert_equals(find_it([20,1,1,2,2,3,3,5,5,4,20,4,5]), 5);\n",
        "        \n",
        "    @test.it(\"find_it([10]) should return 10 (because it appears 1 time)\")\n",
        "    def _():\n",
        "        test.assert_equals(find_it([10]), 10);\n",
        "\n",
        "    @test.it(\"find_it([10, 10, 10]) should return 10 (because it appears 3 times)\")\n",
        "    def _():\n",
        "        test.assert_equals(find_it([10, 10, 10]), 10);        \n",
        "        \n",
        "    @test.it(\"find_it([1,1,1,1,1,1,10,1,1,1,1]) should return 10 (because it appears 1 time)\")\n",
        "    def _():\n",
        "        test.assert_equals(find_it([1,1,1,1,1,1,10,1,1,1,1]), 10);\n",
        "\n",
        "    @test.it(\"find_it([5,4,3,2,1,5,4,3,2,10,10]) should return 1 (because it appears 1 time)\")\n",
        "    def _():\n",
        "        test.assert_equals(find_it([5,4,3,2,1,5,4,3,2,10,10]), 1);"
      ],
      "metadata": {
        "id": "1nSGgy8CDQgF"
      },
      "execution_count": null,
      "outputs": []
    },
    {
      "cell_type": "markdown",
      "source": [
        "# **JavaScript Array Filter**"
      ],
      "metadata": {
        "id": "jUYjvr3gGghT"
      }
    },
    {
      "cell_type": "code",
      "source": [
        "def get_even_numbers(arr):\n",
        "    return [i for i in arr if i%2==0]\n",
        "\n",
        "def get_even_numbers(arr):\n",
        "    return list(filter(lambda x:(x+1)%2,arr))"
      ],
      "metadata": {
        "id": "NQ8mzVzdGZqM"
      },
      "execution_count": null,
      "outputs": []
    },
    {
      "cell_type": "code",
      "source": [
        "#@title Sample Tests { vertical-output: true, display-mode: \"form\" }\n",
        "@test.describe(\"Fixed Tests\")\n",
        "def fixed_tests():\n",
        "    @test.it('Basic Test Cases')\n",
        "    def basic_test_cases():\n",
        "        test.assert_equals(get_even_numbers([2,4,5,6]), [2,4,6], \"Returned list is incorrect\")\n",
        "        test.assert_equals(get_even_numbers([]), [], \"Returned list is incorrect\")\n",
        "        test.assert_equals(get_even_numbers([1]), [], \"Returned list is incorrect\")\n",
        "        test.assert_equals(get_even_numbers([1,2]), [2], \"Returned list is incorrect\")\n",
        "        test.assert_equals(get_even_numbers([1,2,3,4,5]), [2,4], \"Returned list is incorrect\")\n",
        "        test.assert_equals(get_even_numbers([2,4,6,8]), [2,4,6,8], \"Returned list is incorrect\")"
      ],
      "metadata": {
        "id": "3P3iQ2WRGkCo"
      },
      "execution_count": null,
      "outputs": []
    },
    {
      "cell_type": "markdown",
      "source": [
        "# **Stanton measure**\n",
        "\n",
        "Count the number of 1s in the array. Let this count be n. The Stanton measure is the number of times that n appears in the array."
      ],
      "metadata": {
        "id": "wNgHV6AxJwTH"
      }
    },
    {
      "cell_type": "code",
      "source": [
        "\n",
        "import numpy as np\n",
        "def stanton_measure(arr):\n",
        "    return arr.count(arr.count(1))"
      ],
      "metadata": {
        "id": "bJSXrk-aJuro"
      },
      "execution_count": null,
      "outputs": []
    },
    {
      "cell_type": "code",
      "source": [
        "#@title Sample Tests { vertical-output: true, display-mode: \"form\" }\n",
        "test.assert_equals(stanton_measure([1, 4, 3, 2, 1, 2, 3, 2]), 2)"
      ],
      "metadata": {
        "id": "VjtQYNm_J9Xd"
      },
      "execution_count": null,
      "outputs": []
    },
    {
      "cell_type": "markdown",
      "source": [
        "# **Chicken Sexing**\n",
        "\n",
        "Bob is a chicken sexer.\n",
        "All of Bob's decisions will be checked against an expert's choices to generate a correctness score.\n",
        "\n",
        "Scoring Rules\n",
        "When they agree, he gets 1 point.\n",
        "When they disagree but one has said '?' (can't guess), he gets 0.5 points.\n",
        "When they disagree completely, he gets 0 points."
      ],
      "metadata": {
        "id": "qVpQFBh9J9xP"
      }
    },
    {
      "cell_type": "code",
      "source": [
        "def correctness(bobs_decisions, expert_decisions):   \n",
        "    return sum([1 if bob_d==expert_d else 0.5*int(bob_d==\"?\" or expert_d==\"?\") for bob_d,expert_d in zip(bobs_decisions, expert_decisions)])"
      ],
      "metadata": {
        "id": "giy0iKoJKCnD"
      },
      "execution_count": null,
      "outputs": []
    },
    {
      "cell_type": "code",
      "source": [
        "#@title Sample Tests { vertical-output: true, display-mode: \"form\" }\n",
        "test.assert_equals(correctness(('M', 'F', '?'), ('M', 'F', '?')), 3)\n",
        "test.assert_equals(correctness(('M', '?', 'M'), ('M', 'F', '?')), 2)\n",
        "test.assert_equals(correctness(('F', 'M', 'F'), ('M', 'F', 'M')), 0)"
      ],
      "metadata": {
        "id": "Fyob4E67KCTV"
      },
      "execution_count": null,
      "outputs": []
    },
    {
      "cell_type": "markdown",
      "source": [
        "# **Meeting**\n",
        "\n",
        "s = \"Fred:Corwill;Wilfred:Corwill;Barney:Tornbull;Betty:Tornbull;Bjon:Tornbull;Raphael:Corwill;Alfred:Corwill\";\n",
        "\n",
        "The program makes this string uppercase and sorts it in alphabetical order by last name. When the last names are the same, sort them by first name.\n",
        "\n",
        "meeting(s)\n",
        "\n",
        "\"(CORWILL, ALFRED)(CORWILL, FRED)(CORWILL, RAPHAEL)(CORWILL, WILFRED)(TORNBULL, BARNEY)(TORNBULL, BETTY)(TORNBULL, BJON)\"\n"
      ],
      "metadata": {
        "id": "3QBGP7Z8rIay"
      }
    },
    {
      "cell_type": "code",
      "source": [
        "import numpy as np\n",
        "def meeting(s):\n",
        "    attendee_list = np.array([((i[i.index(\":\")+1:]).upper(),(i[:i.index(\":\")]).upper()) for  i in s.split(';')], dtype=[('last_name','U100'),('first_name','U100')])\n",
        "    l=np.sort(attendee_list,order=['last_name','first_name'])\n",
        "    return (\"\".join(i for i in list(filter(lambda x:x not in ('\\'','\\n','[',']') ,str(l))))).replace(\") (\",\")(\")"
      ],
      "metadata": {
        "id": "pvGU0KOZ5O1k"
      },
      "execution_count": null,
      "outputs": []
    },
    {
      "cell_type": "code",
      "source": [
        "#@title Sample Tests { vertical-output: true, display-mode: \"form\" }\n",
        "def testing(s, exp):\n",
        "    print(\"Testing:\\n\" + s)\n",
        "    ans = meeting(s)\n",
        "    print(\"ACTUAL =\\n%s\" % (ans))\n",
        "    print(\"EXPECT =\\n%s\" % (exp))\n",
        "    print(ans == exp)\n",
        "    test.assert_equals(ans, exp)\n",
        "\n",
        "test.describe(\"meeting\")\n",
        "test.it(\"Basic tests\")\n",
        "def tests():\n",
        "    testing(\"Alexis:Wahl;John:Bell;Victoria:Schwarz;Abba:Dorny;Grace:Meta;Ann:Arno;Madison:STAN;Alex:Cornwell;Lewis:Kern;Megan:Stan;Alex:Korn\", \n",
        "            \"(ARNO, ANN)(BELL, JOHN)(CORNWELL, ALEX)(DORNY, ABBA)(KERN, LEWIS)(KORN, ALEX)(META, GRACE)(SCHWARZ, VICTORIA)(STAN, MADISON)(STAN, MEGAN)(WAHL, ALEXIS)\")\n",
        "    testing(\"John:Gates;Michael:Wahl;Megan:Bell;Paul:Dorries;James:Dorny;Lewis:Steve;Alex:Meta;Elizabeth:Russel;Anna:Korn;Ann:Kern;Amber:Cornwell\", \n",
        "        \"(BELL, MEGAN)(CORNWELL, AMBER)(DORNY, JAMES)(DORRIES, PAUL)(GATES, JOHN)(KERN, ANN)(KORN, ANNA)(META, ALEX)(RUSSEL, ELIZABETH)(STEVE, LEWIS)(WAHL, MICHAEL)\")\n",
        "    testing(\"Alex:Arno;Alissa:Cornwell;Sarah:Bell;Andrew:Dorries;Ann:Kern;Haley:Arno;Paul:Dorny;Madison:Kern\", \n",
        "        \"(ARNO, ALEX)(ARNO, HALEY)(BELL, SARAH)(CORNWELL, ALISSA)(DORNY, PAUL)(DORRIES, ANDREW)(KERN, ANN)(KERN, MADISON)\")\n",
        "\n",
        "tests()\n",
        "print(\"<COMPLETEDIN::>\")\n",
        "print(\"<COMPLETEDIN::>\")"
      ],
      "metadata": {
        "id": "BR3deRXmrFhH"
      },
      "execution_count": null,
      "outputs": []
    },
    {
      "cell_type": "markdown",
      "source": [
        "# **Alphabetical Grid**\n",
        "Grid returns an alphabetical grid of size NxN, where a = 0, b = 1, c = 2...\n",
        "After \"z\" comes \"a\"\n",
        "\n",
        "grid(4)\n",
        "```\n",
        "a b c d\n",
        "b c d e\n",
        "c d e f\n",
        "d e f g\n",
        "\n",
        "```\n",
        "\n"
      ],
      "metadata": {
        "id": "XqB06N24C9Hm"
      }
    },
    {
      "cell_type": "code",
      "source": [
        "def grid(N):\n",
        "    return None if N<0 else  \"\\n\".join(\" \".join(chr(97+i%26) for i in range(j,N+j)) for j in range(N))"
      ],
      "metadata": {
        "id": "0CdArMqnC7t_"
      },
      "execution_count": null,
      "outputs": []
    },
    {
      "cell_type": "code",
      "source": [
        "#@title Sample Tests { vertical-output: true, display-mode: \"form\" }\n",
        "\n",
        "test.assert_equals(grid(0), '')\n",
        "test.assert_equals(grid(1), 'a')\n",
        "test.assert_equals(grid(2), 'a b\\nb c')\n",
        "test.assert_equals(grid(4), 'a b c d\\nb c d e\\nc d e f\\nd e f g')\n",
        "test.assert_equals(grid(6), 'a b c d e f\\nb c d e f g\\nc d e f g h\\nd e f g h i\\ne f g h i j\\nf g h i j k')\n",
        "\n",
        "test.assert_equals(grid(-1), None)\n",
        "test.assert_equals(grid(-5), None)"
      ],
      "metadata": {
        "id": "cqqeqoK5C7Yp"
      },
      "execution_count": null,
      "outputs": []
    },
    {
      "cell_type": "markdown",
      "source": [
        "# **Design an Automaton (Finite State Machine)**\n",
        "q1 is our start state, we begin reading commands from here\n",
        "\n",
        "q2 is our accept state, we return true if this is our last state\n",
        "\n",
        "*   q1 moves to q2 when given a 1, and stays at q1 when given a 0\n",
        "\n",
        "*   q2 moves to q3 when given a 0, and stays at q2 when given a 1\n",
        "\n",
        "*   q3 moves to q2 when given a 0 or 1\n",
        "\n"
      ],
      "metadata": {
        "id": "wPQskkoAH3Yi"
      }
    },
    {
      "cell_type": "code",
      "source": [
        "class Automaton(object):\n",
        "\n",
        "    def __init__(self):\n",
        "        self.states = []\n",
        "    \n",
        "    def q2_strikes_back(self,s):\n",
        "        if len(s)==1: return True\n",
        "        if len(s)==0: return False    \n",
        "        transition2q3=s.find('0')+1\n",
        "        return self.q2_strikes_back(s[transition2q3:]) \n",
        "    \n",
        "    def read_commands(self, commands):\n",
        "        cmd=\"\".join(i for i in commands)\n",
        "        transition2q2=cmd.find('1')+1                      # In case \"1\" is the first char, the result is False => +1  \n",
        "        transition2q3=cmd.find('0',transition2q2)+1    # A zero modulo 2 is True whereas it is False for python => no -1\n",
        "\n",
        "        return  bool(transition2q2 and not (transition2q3)) or bool(transition2q2*transition2q3 and self.q2_strikes_back(cmd[transition2q3:]))\n",
        "my_automaton = Automaton()"
      ],
      "metadata": {
        "id": "IQSZS6kdH3LD"
      },
      "execution_count": null,
      "outputs": []
    },
    {
      "cell_type": "code",
      "source": [
        "#@title Sample Tests { vertical-output: true, display-mode: \"form\" }\n",
        "\n",
        "test.assert_equals(my_automaton.read_commands([\"1\"]), True)\n",
        "test.assert_equals(my_automaton.read_commands([\"1\", \"0\", \"0\", \"1\"]), True)"
      ],
      "metadata": {
        "id": "BEs6PnBAH2pd"
      },
      "execution_count": null,
      "outputs": []
    },
    {
      "cell_type": "markdown",
      "source": [
        "# **Phone Numbers**  Ascending difficulty\n",
        "\n",
        "**Create Phone Number**\n",
        "\n",
        "A function that accepts an array of 10 integers (between 0 and 9), that returns a string of those numbers in the form of a phone number.\n",
        "\n",
        "**Valid Phone Number**\n",
        "\n",
        "A function that accepts a string, and returns true if it is in the form of a phone number.\n",
        "Assume that any integer from 0-9 in any of the spots will produce a valid phone number.\n",
        "\n",
        "**Is that a real phone number? (British version)**\n",
        "\n",
        "A UK mobile numbers begin with '07' followed by 9 other digits\n",
        "\n",
        "Sometimes the number is preceded by the country code, the prefix '+44', which replaces the '0' in ‘07’, e.g. '+447454876120'.\n",
        "\n",
        "Some other times the numbers can be seperated with dashes.\n",
        "\n",
        "If valid, return 'In with a chance' else return 'Plenty more fish in the sea'.\n",
        "\n",
        "**Duplicate Phone Numbers**\n",
        "\n",
        "Businesses like to have memorable telephone numbers. One way to make a telephone number memorable is to have it spell a memorable word or phrase.\n",
        "\n",
        "\n",
        "\n",
        "```\n",
        "A, B, and C map to 2\n",
        "D, E, and F map to 3\n",
        "G, H, and I map to 4\n",
        "J, K, and L map to 5\n",
        "M, N, and O map to 6\n",
        "P, R, and S map to 7\n",
        "T, U, and V map to 8\n",
        "W, X, and Y map to 9\n",
        "letters can be uppercase or lowercase\n",
        "There is no mapping for Q(q) or Z(z)\n",
        "```\n",
        "Output: The duplicate telephone number list. Arrange the output string by telephone number in ascending lexicographical order. If there are no duplicates in the input return []\n",
        "\n",
        "**Saving memory by acting on contacts numbers**\n",
        "\n",
        "The goal is to save the phone numbers by keeping in common the same parts thus reducing the total size of the repertory.\n",
        "\n",
        "\n",
        "\n",
        "```\n",
        "0123456789 0123987654 0123987456 2365498756 2365498765\n",
        "\n",
        "               4 - 5 - 6 - 7 - 8 - 9           \n",
        "0 - 1 - 2 - 3 <\n",
        "                \\            4 - 5 - 6\n",
        "                  9 - 8 - 7 < \n",
        "                             6 - 5 - 4\n",
        "  \n",
        "                               6 - 5\n",
        "2 - 3 - 6 - 5 - 4 - 9 - 8 - 7 <\n",
        "                               5 - 6\n",
        "```\n",
        "\n",
        "**Regular Expressions (groups): Splitting phone numbers into their separate parts.**\n",
        "\n",
        "The assignment will be to create a regular expression that will match with (dutch) phone numbers.\n",
        "\n",
        "These phone numbers can be written, using the ITU-recommendation, as:\n",
        "\n",
        "(00 or +)12 34 567890: to dial a number in another nation\n",
        "\n",
        "034 567890: to dial a number in the same nation\n",
        "\n",
        "567890: to a number in the same area\n",
        "\n",
        "\n",
        "The nation code, area code and local number may never contain a 0 at the start unless it is the prefix \n",
        "\n",
        "\n",
        "\n",
        "\n",
        "\n"
      ],
      "metadata": {
        "id": "bot97ura5xh_"
      }
    },
    {
      "cell_type": "code",
      "source": [
        "def create_phone_number(n):\n",
        "    return \"(\"+\"\".join(str(i) for i in n[:3])+\") \"+\"\".join(str(i) for i in n[3:6])+\"-\"+\"\".join(str(i) for i in n[6:])\n",
        "\n",
        "def valid_phone_number(phone_number):\n",
        "    return len(phone_number)==14 and re.findall(\"\\(\\d{3}\\)\\ \\d{3}-\\d{4}\",phone_number)!=[]\n",
        "\n",
        "def validate_number(string): # Is that a real phone number? (British version)\n",
        "    string=string.replace(\"-\",\"\")\n",
        "    return \"In with a chance\" if ( (len(string[string.find('7')+1:])==9) and ((re.findall(\"07\\d{9}\",string)!=[]) or (re.findall(\"\\+447\\d{9}\",string)!=[])) )  else \"Plenty more fish in the sea\"\n",
        "\n",
        "def find_duplicate_phone_numbers(phone_numbers):\n",
        "    phone_numbers_restored=[\"\".join( j if j.isnumeric()  else ( str((ord(j.lower())-97)//3 +2) if (ord(j.lower())<114) else str((ord(j.lower())-98)//3 +2) )  for j in i if j!=\"-\") for i in phone_numbers]\n",
        "    return list(np.sort([f'{i[:3]}-{i[3:]}:{phone_numbers_restored.count(i)}' for i in np.unique(phone_numbers_restored) if phone_numbers_restored.count(i)>1 ]))\n",
        "# Sort and delete all occurence while looping"
      ],
      "metadata": {
        "id": "qma7uUUX5x81"
      },
      "execution_count": null,
      "outputs": []
    },
    {
      "cell_type": "code",
      "source": [
        "def phone_number(phone_numbers):\n",
        "    return len({num[:i] for num in phone_numbers for i in range(1, len(num)+1)})\n",
        "# def common_simplification(cur,target):\n",
        "#     if target==\"\": return ''\n",
        "#     i=0\n",
        "#     while(  (i <len(cur)) and (cur[i]==target[i])  ):\n",
        "#         i+=1\n",
        "#     return target[i:]\n",
        "\n",
        "# def phone_number(phone_numbers):\n",
        "#     if (len(phone_numbers)==1): return len(phone_numbers[0])\n",
        " \n",
        "#     cur=phone_numbers.pop(0)\n",
        "\n",
        "#     phone_numbers=[*map(common_simplification,[cur]*len(phone_numbers),phone_numbers)]\n",
        "    \n",
        "#     return len(cur)+phone_number(phone_numbers)\n"
      ],
      "metadata": {
        "id": "Kev0l5yaiLHF"
      },
      "execution_count": null,
      "outputs": []
    },
    {
      "cell_type": "code",
      "source": [
        "import re\n",
        "\n",
        "regex_str=\"abc z\"\n",
        "# https://www.codewars.com/kata/57a492607cb1f315ec0000bb"
      ],
      "metadata": {
        "id": "g9uYNlpULJs0"
      },
      "execution_count": null,
      "outputs": []
    },
    {
      "cell_type": "code",
      "source": [
        "#@title Sample Tests : Regular Expressions (groups): Splitting phone numbers into their separate parts. { vertical-output: true, display-mode: \"form\" }\n",
        "\n",
        "\n",
        "print(re.match(r'(?:\\+|00)[1-9]{1}\\d [1-9]{1}\\d [1-9]{1}\\d{5}\\b|^(?:0)[1-9]{1}\\d [1-9]{1}\\d{5}\\b|^[1-9]{1}\\d{5}\\b',\"034 567890\"))\n",
        "re.findall(r\"(?<=\\s)\\d\",\"2\")\n",
        "m=str(list(filter(lambda x: True if x else False,(re.findall(r'(?:\\+|00)([1-9]{1}\\d) ([1-9]{1}\\d) ([1-9]{1}\\d{5})$|^0([1-9]{1}\\d) ([1-9]{1}\\d{5})$|^([1-9]{1}\\d{5})$',\"900000\"))[0]\n",
        ")))\n",
        "regex_str=r'[\\+,00,0]?([1-9]{1}\\d{1,5}) ?([1-9]{1}\\d)? ?([1-9]{1}\\d{5})$'\n",
        "PATTERN = re.compile(regex_str)\n",
        "\n",
        "def assert_regexp(numLst):\n",
        "    \n",
        "    num, gps, isMatch = numLst\n",
        "    m = PATTERN.match(num)\n",
        "    \n",
        "    test.it(\"Matching test for '{}'\".format(m))\n",
        "    print(\"<COMPLETEDIN::>\")\n",
        "    \n",
        "    if isMatch:\n",
        "        test.it(\"Matching groups\")\n",
        "        print(m.groups())\n",
        "        for i,g in enumerate(gps, 1):\n",
        "            test.assert_equals(m.group(i), g, \"Couldn't match group {} for '{}'\".format(i, num))\n",
        "        print(\"<COMPLETEDIN::>\")\n",
        "config = [ [\"567890\", [\"567890\"], True     ],\n",
        "          [\"034 567890\", [\"34\", \"567890\"], True     ],\n",
        "          [\"+12 34 567890\", [\"12\", \"34\", \"567890\"], True     ],\n",
        "           [\"+abcdlkjhg\",    [],                     False    ]\n",
        "         ]\n",
        "\n",
        "for numLst in config: assert_regexp(numLst)\n"
      ],
      "metadata": {
        "id": "7X3VWkJdvl0h"
      },
      "execution_count": null,
      "outputs": []
    },
    {
      "cell_type": "code",
      "source": [
        "#@title Sample Tests : Create Phone Number { vertical-output: true, display-mode: \"form\" }\n",
        "@test.describe(\"Create Phone Number\")\n",
        "def fixed_tests():\n",
        "    @test.it('Basic Test Cases')\n",
        "    def basic_test_cases():\n",
        "        test.assert_equals(create_phone_number([1, 2, 3, 4, 5, 6, 7, 8, 9, 0]), \"(123) 456-7890\")\n",
        "        test.assert_equals(create_phone_number([1, 1, 1, 1, 1, 1, 1, 1, 1, 1]), \"(111) 111-1111\")\n",
        "        test.assert_equals(create_phone_number([1, 2, 3, 4, 5, 6, 7, 8, 9, 0]), \"(123) 456-7890\")\n",
        "        test.assert_equals(create_phone_number([0, 2, 3, 0, 5, 6, 0, 8, 9, 0]), \"(023) 056-0890\")\n",
        "        test.assert_equals(create_phone_number([0, 0, 0, 0, 0, 0, 0, 0, 0, 0]), \"(000) 000-0000\")\n"
      ],
      "metadata": {
        "id": "5Hx7GeSE5yZE"
      },
      "execution_count": null,
      "outputs": []
    },
    {
      "cell_type": "code",
      "source": [
        "#@title Sample Tests : Valid Phone Number { vertical-output: true, display-mode: \"form\" }\n",
        "\n",
        "test.assert_equals(valid_phone_number(\"(123) 456-7890\"),       True)\n",
        "test.assert_equals(valid_phone_number(\"(1111)555 2345\"),       False)\n",
        "test.assert_equals(valid_phone_number(\"(098) 123 4567\"),       False)\n",
        "test.assert_equals(valid_phone_number(\"(123)456-7890\"),        False)\n",
        "test.assert_equals(valid_phone_number(\"abc(123)456-7890\"),     False)\n",
        "test.assert_equals(valid_phone_number(\"(123)456-7890abc\"),     False)\n",
        "test.assert_equals(valid_phone_number(\"abc(123)456-7890abc\"),  False)\n",
        "test.assert_equals(valid_phone_number(\"abc(123) 456-7890\"),    False)\n",
        "test.assert_equals(valid_phone_number(\"(123) 456-7890abc\"),    False)\n",
        "test.assert_equals(valid_phone_number(\"abc(123) 456-7890abc\"), False)\n",
        "test.assert_equals(valid_phone_number(\"(333) 185-0594\"),       True)"
      ],
      "metadata": {
        "id": "ZxZgUY_HA_Ne"
      },
      "execution_count": null,
      "outputs": []
    },
    {
      "cell_type": "code",
      "source": [
        "valid_phone_number(create_phone_number([random.randint(0,9) for _ in range(10) ]))"
      ],
      "metadata": {
        "id": "le8ka-RvBPq7"
      },
      "execution_count": null,
      "outputs": []
    },
    {
      "cell_type": "code",
      "source": [
        "#@title Sample Tests : Is that a real phone number? (British version){ vertical-output: true, display-mode: \"form\" }\n",
        "\n",
        "test.describe(\"Basic tests\")\n",
        "test.assert_equals(validate_number(\"07454876120\"), \"In with a chance\")\n",
        "test.assert_equals(validate_number(\"0754876120\"), \"Plenty more fish in the sea\")\n",
        "test.assert_equals(validate_number(\"0745--487-61-20\"), \"In with a chance\")\n",
        "test.assert_equals(validate_number(\"+447535514555\"), \"In with a chance\")\n",
        "test.assert_equals(validate_number(\"-07599-51-4555\"), \"In with a chance\")\n",
        "test.assert_equals(validate_number(\"075335440555\"), \"Plenty more fish in the sea\")\n",
        "test.assert_equals(validate_number(\"+337535512555\"), \"Plenty more fish in the sea\")\n",
        "test.assert_equals(validate_number(\"00535514555\"), \"Plenty more fish in the sea\")\n",
        "test.assert_equals(validate_number(\"+447+4435512555\"), \"Plenty more fish in the sea\", \"Not a Briish prefix\")\n",
        "test.assert_equals(validate_number(\"+44\"), \"Plenty more fish in the sea\", \"Not a Briish prefix\")"
      ],
      "metadata": {
        "id": "uf-PJvXYpeNO"
      },
      "execution_count": null,
      "outputs": []
    },
    {
      "cell_type": "code",
      "source": [
        "#@title Sample Tests : Duplicate Phone Numbers { vertical-output: true, display-mode: \"form\" }\n",
        "\n",
        "test.it(\"Basic Tests\")\n",
        "testarr = [\n",
        "\"7399425\",\n",
        "\"SEXY-GAL\",\n",
        "\"Sexy-GAL\",\n",
        "\"sexy-gal\",\n",
        "\"SEXY-425\",\n",
        "\"S-E-X-Y-G-A-L\"\n",
        "]\n",
        "result = [\n",
        "\"739-9425:6\"]\n",
        "test.assert_equals(find_duplicate_phone_numbers(testarr),result)\n",
        "\n",
        "\n",
        "testarr = [\n",
        "\"4873279\",\n",
        "\"ITS-EASY\",\n",
        "\"888-4567\",\n",
        "\"3-10-10-10\",\n",
        "\"888-GLOP\",\n",
        "\"TUT-GLOP\",\n",
        "\"967-11-11\",\n",
        "\"310-GINO\",\n",
        "\"F101010\",\n",
        "\"888-1200\",\n",
        "\"-4-8-7-3-2-7-9-\",\n",
        "\"487-3279\"]\n",
        "result = [\n",
        "\"310-1010:2\",\n",
        "\"487-3279:4\",\n",
        "\"888-4567:3\"]\n",
        "test.assert_equals(find_duplicate_phone_numbers(testarr),result)"
      ],
      "metadata": {
        "id": "-g78tS47Rfew"
      },
      "execution_count": null,
      "outputs": []
    },
    {
      "cell_type": "code",
      "source": [
        "#@title Sample Tests : Saving memory by acting on contacts numbers { vertical-output: true, display-mode: \"form\" }\n",
        "\n",
        "\n",
        "sample_test_cases = [\n",
        "#          phone_numbers         result\n",
        "    ('Basic tests', [\n",
        "        (['0', '1'],                2),\n",
        "        (['01', '02', '03'],        4),\n",
        "        (['012', '0123', '01234'],  5),\n",
        "        (['111', '112', '113',\n",
        "          '121', '122', '123'],     9),\n",
        "    ]),\n",
        "    ('Example in description', [\n",
        "        ([\n",
        "            '0123456789',\n",
        "            '0123987654',\n",
        "            '0123987456',\n",
        "            '2365498756',\n",
        "            '2365498765'],         31),\n",
        "    ]),\n",
        "    ('Other tests', [\n",
        "        ([\n",
        "            '0136','0137','0138',\n",
        "            '0139','0146','0147',\n",
        "            '0148','0149','0156',\n",
        "            '0157','0158','0159',\n",
        "            '0236','0237','0238',\n",
        "            '0239','0246','0247',\n",
        "            '0248','0249','0256',\n",
        "            '0257','0258','0259'], 33),\n",
        "        ([\n",
        "            '23307055',\n",
        "            '23707015',\n",
        "            '23707055',\n",
        "            '23707955',\n",
        "            '23717055',\n",
        "            '23807055',\n",
        "            '83707055',\n",
        "            '93707055'],           46),\n",
        "        ([\n",
        "            '10548970',\n",
        "            '10946970',\n",
        "            '10948770',\n",
        "            '10948910',\n",
        "            '10948960',\n",
        "            '10948970',\n",
        "            '10948976',\n",
        "            '10948979',\n",
        "            '40948970'],           35),\n",
        "        ([\n",
        "            '476649781929',\n",
        "            '476646281929',\n",
        "            '476649284929',\n",
        "            '476649251929',\n",
        "            '476649281429',\n",
        "            '476649981929',\n",
        "            '476649285929',\n",
        "            '476649281909',\n",
        "            '476649681929'],       53),\n",
        "        ([\n",
        "            '3',\n",
        "            '99635',\n",
        "            '454381',\n",
        "            '45812',\n",
        "            '4039173',\n",
        "            '92',\n",
        "            '777',\n",
        "            '341944727',\n",
        "            '5358',\n",
        "            '882',\n",
        "            '68',\n",
        "            '684671',\n",
        "            '8385687'],            52),\n",
        "    ]),\n",
        "]\n",
        "\n",
        "@test.describe('Sample tests')\n",
        "def sample_tests():\n",
        "    for name, test_cases in sample_test_cases:\n",
        "        @test.it(name)\n",
        "        def tests():\n",
        "            for numbers, expected in test_cases:\n",
        "                test.assert_equals(phone_number(numbers), expected)"
      ],
      "metadata": {
        "id": "B-dfnBdJiyUx"
      },
      "execution_count": null,
      "outputs": []
    },
    {
      "cell_type": "markdown",
      "source": [
        "# **Apparently-Modifying Strings**\n",
        "For every string, after every occurrence of 'and' and/or 'but', insert the substring 'apparently' directly after the occurrence(s).\n",
        "\n",
        "If substring 'apparently' is already directly after an 'and' and/or 'but', do not add another. (Do not add duplicates).\n",
        "An occurrence of 'and' and/or 'but' only counts when it is at least one space separated."
      ],
      "metadata": {
        "id": "xf8hohrNZ-S6"
      }
    },
    {
      "cell_type": "code",
      "source": [
        "import re\n",
        "def apparently(string):\n",
        "    return re.sub(r'(?<=(and|but))\\b(?! apparently\\b)', ' apparently', string)"
      ],
      "metadata": {
        "id": "7Aln78j9WPlA"
      },
      "execution_count": null,
      "outputs": []
    },
    {
      "cell_type": "code",
      "source": [
        "#@title Sample Tests : Apparently-Modifying Strings { vertical-output: true, display-mode: \"form\" }\n",
        "test.assert_equals(apparently('It was great and I have never been on live television before but sometimes I dont watch this.'), 'It was great and apparently I have never been on live television before but apparently sometimes I dont watch this.')\n",
        "test.assert_equals(apparently('and'), 'and apparently')\n",
        "test.assert_equals(apparently('apparently'), 'apparently')\n"
      ],
      "metadata": {
        "id": "aejfNV5XaLRn"
      },
      "execution_count": null,
      "outputs": []
    },
    {
      "cell_type": "markdown",
      "source": [
        "# **Split In Parts**\n",
        "Transform a given string into another one of equally sized regularly interspaced substrings. The rest of a lesser size is added at the end."
      ],
      "metadata": {
        "id": "Xeian8qjltQN"
      }
    },
    {
      "cell_type": "code",
      "source": [
        "def split_in_parts(s, part_length): \n",
        "    return (' ').join(s[i:i+part_length] for i in range(0,len(s),part_length))"
      ],
      "metadata": {
        "id": "AE3_g3yOlsOf"
      },
      "execution_count": null,
      "outputs": []
    },
    {
      "cell_type": "code",
      "source": [
        "#@title Sample Tests : Split In Parts { vertical-output: true, display-mode: \"form\" }\n",
        "\n",
        "test.assert_equals(split_in_parts(\"supercalifragilisticexpialidocious\", 3), \"sup erc ali fra gil ist ice xpi ali doc iou s\")\n",
        "test.assert_equals(split_in_parts(\"HelloKata\", 1), \"H e l l o K a t a\")\n",
        "test.assert_equals(split_in_parts(\"HelloKata\", 9), \"HelloKata\")"
      ],
      "metadata": {
        "id": "PTjrrL4tluJW"
      },
      "execution_count": null,
      "outputs": []
    },
    {
      "cell_type": "markdown",
      "source": [
        "# **Convert string to camel case**\n",
        "\n",
        "Conversion of dash/underscore delimited words into camel casing. The first word within the output should be capitalized only if the original word was capitalized."
      ],
      "metadata": {
        "id": "1DY17lYn7Qle"
      }
    },
    {
      "cell_type": "code",
      "source": [
        "import re\n",
        "def to_camel_case(text):\n",
        "    return re.sub(\"[_,-](.)\",lambda x:(x.groups()[0]).upper(),text)\n"
      ],
      "metadata": {
        "id": "qTp9NdJJ0PNg"
      },
      "execution_count": null,
      "outputs": []
    },
    {
      "cell_type": "code",
      "source": [
        "#@title Sample Tests : Convert string to camel case { vertical-output: true, display-mode: \"form\" }\n",
        "\n",
        "test.assert_equals(to_camel_case(''), '', \"An empty string was provided but not returned\")\n",
        "test.assert_equals(to_camel_case(\"the_stealth_warrior\"), \"theStealthWarrior\", \"to_camel_case('the_stealth_warrior') did not return correct value\")\n",
        "test.assert_equals(to_camel_case(\"The-Stealth-Warrior\"), \"TheStealthWarrior\", \"to_camel_case('The-Stealth-Warrior') did not return correct value\")\n",
        "test.assert_equals(to_camel_case(\"A-B-C\"), \"ABC\", \"to_camel_case('A-B-C') did not return correct value\")"
      ],
      "metadata": {
        "id": "MYVNhMuT7KzT"
      },
      "execution_count": null,
      "outputs": []
    },
    {
      "cell_type": "markdown",
      "source": [
        "# **Hamming Distance**\n",
        "The hamming distance between a pair of numbers is the number of binary bits that differ in their binary notation."
      ],
      "metadata": {
        "id": "sfAA03NbF0X3"
      }
    },
    {
      "cell_type": "code",
      "source": [
        "\n",
        "# def hamming_distance(a, b):\n",
        "#     return str(np.binary_repr(a^b)).count(\"1\")\n",
        "def get_distance(a,i=0):\n",
        "    return get_distance(a-2**np.floor(np.log2(a)),i+1) if a>0 else i\n",
        "def hamming_distance(a, b):\n",
        "    return get_distance(a^b)"
      ],
      "metadata": {
        "id": "POwxpXmO9_S6"
      },
      "execution_count": null,
      "outputs": []
    },
    {
      "cell_type": "code",
      "source": [
        "#@title Sample Tests : Hamming Distance { vertical-output: true, display-mode: \"form\" }\n",
        "test.assert_equals(hamming_distance(25,87),4)\n",
        "test.assert_equals(hamming_distance(256,302),4)\n",
        "test.assert_equals(hamming_distance(543,634),4)\n",
        "test.assert_equals(hamming_distance(34013,702),7)"
      ],
      "metadata": {
        "id": "5bJ9Ay_scraa"
      },
      "execution_count": null,
      "outputs": []
    },
    {
      "cell_type": "markdown",
      "source": [
        "# **The 5 Love Languages**\n",
        "\n",
        "According to Gary Chapman, there are five major ways to express our love towards someone: words of affirmation, quality time, gifts, acts of service, and physical touch. Usually, everyone has a main language.\n",
        "\n",
        "To identify your partner's language, you will be given a partner instance, and n weeks. The partner has a .response method, and the responses may be: \"positive\" or \"neutral\". You can try to get a response once a day to find the main love language of your partner!."
      ],
      "metadata": {
        "id": "gx6UyIccalOA"
      }
    },
    {
      "cell_type": "code",
      "source": [
        "import random\n",
        "\n",
        "class TestPartner:\n",
        "    def __init__(self, main_lang):\n",
        "        self.main = main_lang\n",
        "    def response(self, language):\n",
        "        r = random.random()\n",
        "        if language == self.main:\n",
        "            if r < 0.85: return 'positive'\n",
        "            else:        return 'neutral'\n",
        "        else: # language != self.main\n",
        "            if r < 0.15: return 'positive'\n",
        "            else:        return 'neutral'\n",
        "    \n",
        "\n",
        "def love_language(partner, weeks):\n",
        "    response_chances={\"words\":0, \"acts\":0, \"gifts\":0, \"time\":0, \"touch\":0}\n",
        "    for i in range(weeks*7//5):\n",
        "        response_chances.update({i:response_chances[i]+1 for i in response_chances.keys() if partner.response(i)=='positive' })\n",
        "    m=max(response_chances.values())\n",
        "    return next(i for i in response_chances.keys() if response_chances[i]==m)\n"
      ],
      "metadata": {
        "id": "QPZKlu3bakKW"
      },
      "execution_count": null,
      "outputs": []
    },
    {
      "cell_type": "code",
      "source": [
        "#@title Sample Tests : The 5 Love Languages { vertical-output: true, display-mode: \"form\" }\n",
        "\n",
        "weeks = 6\n",
        "partner = TestPartner('words')\n",
        "test.assert_equals(love_language(partner, weeks), 'words')\n",
        "\n",
        "partner = TestPartner('gifts')\n",
        "test.assert_equals(love_language(partner, weeks), 'gifts')"
      ],
      "metadata": {
        "id": "g54AN_oIrFfa"
      },
      "execution_count": null,
      "outputs": []
    },
    {
      "cell_type": "markdown",
      "metadata": {
        "id": "rolsF_Au0QE3"
      },
      "source": [
        "# **The observed PIN**\n",
        "\n",
        "Input: observed PIN with a length of 1 to 8 digits.\n",
        "\n",
        "Each of the digits could actually be another adjacent digit (horizontally or vertically, but not diagonally)\n",
        "\n",
        "Output: all possible PINs\n",
        "\n",
        "The keypad has the following layout:\n",
        "```\n",
        "┌───┬───┬───┐\n",
        "│ 1 │ 2 │ 3 │\n",
        "├───┼───┼───┤\n",
        "│ 4 │ 5 │ 6 │\n",
        "├───┼───┼───┤\n",
        "│ 7 │ 8 │ 9 │\n",
        "└───┼───┼───┘\n",
        "    │ 0 │\n",
        "    └───┘\n",
        "```\n"
      ]
    },
    {
      "cell_type": "code",
      "metadata": {
        "id": "X6F2_odtAAeL"
      },
      "source": [
        "variations={'0': ['0', '8'],'1': ['1', '2', '4'],'2': ['2', '1', '3', '5'],'3': ['3', '2', '6'],'4': ['4', '5', '1', '7'],'5': ['5', '4', '6', '2', '8'], '6': ['6', '5', '3', '9'],'7': ['7', '8', '4'],'8': ['8', '7', '9', '5', '0'],'9': ['9', '8', '6']}\n",
        "combine=lambda l1,l2:list((\" \".join(i+j for i in l1 for j in l2)).split(\" \"))\n",
        "def get_pins(observed):\n",
        "    if(len(observed)==1):\n",
        "        return variations[(observed[0])]\n",
        "    else :\n",
        "        return combine(variations[(observed[0])],get_pins(observed[1:]))\n",
        "# def variations_generator(l):\n",
        "#     variations={\"0\":[\"0\",\"8\"]}\n",
        "#     for i in range(len(l)-1):\n",
        "#         for j in range(len(l[i])):\n",
        "#             values=[l[i][j]]\n",
        "#             if ((j-1)>=0):  \n",
        "#                 values.append(l[i][j-1])\n",
        "#             if (j<(len(l[i])-1)):  \n",
        "#                 values.append(l[i][j+1])\n",
        "#             if ((i-1)>=0 and j<len(l[i-1])):  \n",
        "#                 values.append(l[i-1][j])\n",
        "#             if ((i+1)<len(l) and j<len(l[i+1]) and l[i+1][j]!=None):  \n",
        "#                 values.append(l[i+1][j])     \n",
        "#             variations.update({l[i][j]:values})\n",
        "#     return variations\n",
        "# l=[[\"1\",\"2\",\"3\"],[\"4\",\"5\",\"6\"],[\"7\",\"8\",\"9\"],[None,\"0\"]]\n",
        "# variations=variations_generator(l) "
      ],
      "execution_count": null,
      "outputs": []
    },
    {
      "cell_type": "code",
      "metadata": {
        "id": "vQzmg4PG_jgP"
      },
      "source": [
        "from itertools import product\n",
        "\n",
        "ADJACENTS = ('08', '124', '2135', '326', '4157', '52468', '6359', '748', '85790', '968')\n",
        "\n",
        "def get_pins(observed):\n",
        "    return [''.join(p) for p in product(*(ADJACENTS[int(d)] for d in observed))]"
      ],
      "execution_count": null,
      "outputs": []
    },
    {
      "cell_type": "code",
      "metadata": {
        "id": "P5lVVr6_04ip"
      },
      "source": [
        "#@title Sample Tests { vertical-output: true, display-mode: \"form\" }\n",
        "test.describe('example tests')\n",
        "expectations = [('8', ['5','7','8','9','0']),\n",
        "                ('11',[\"11\", \"22\", \"44\", \"12\", \"21\", \"14\", \"41\", \"24\", \"42\"]),\n",
        "                ('369', [\"339\",\"366\",\"399\",\"658\",\"636\",\"258\",\"268\",\"669\",\"668\",\"266\",\"369\",\"398\",\"256\",\"296\",\"259\",\"368\",\"638\",\"396\",\"238\",\"356\",\"659\",\"639\",\"666\",\"359\",\"336\",\"299\",\"338\",\"696\",\"269\",\"358\",\"656\",\"698\",\"699\",\"298\",\"236\",\"239\"])]\n",
        "\n",
        "for tup in expectations:\n",
        "    test.assert_equals(sorted(get_pins(tup[0])), sorted(tup[1]), 'PIN: ' + tup[0])"
      ],
      "execution_count": null,
      "outputs": []
    },
    {
      "cell_type": "markdown",
      "metadata": {
        "id": "_T1S4k2m6uOn"
      },
      "source": [
        "\n",
        "# **Pick peaks**\n",
        "A function that returns the positions and the values of the \"peaks\" (or local maxima) of a numeric array. {pos: [], peaks: []}\n",
        "\n",
        "The first and last elements of the array will not be considered as peaks \n",
        "\n",
        "In case of a plateau-peak, only return the position and value of the beginning of the plateau."
      ]
    },
    {
      "cell_type": "code",
      "metadata": {
        "id": "Ts86FC7-6v_s"
      },
      "source": [
        "def pick_peaks(arr):\n",
        "    peaks={'pos': [], 'peaks': []}\n",
        "    i=1\n",
        "    while (i<len(arr)-1):\n",
        "        startingIndex=i\n",
        "        while (i<len(arr)-2 and arr[i]==arr[i+1]):i+=1\n",
        "        if (arr[i]>arr[startingIndex-1] and arr[i]>arr[i+1]) :\n",
        "            (peaks['pos']).append(startingIndex)\n",
        "            (peaks['peaks']).append(arr[startingIndex])\n",
        "        i+=1\n",
        "    return peaks\n",
        "\n"
      ],
      "execution_count": null,
      "outputs": []
    },
    {
      "cell_type": "code",
      "metadata": {
        "id": "toCivwww78DB"
      },
      "source": [
        "#@title Sample Tests { vertical-output: true, display-mode: \"form\" }\n",
        "test.assert_equals(pick_peaks([1,2,3,6,4,1,2,3,2,1]), {\"pos\":[3,7], \"peaks\":[6,3]})\n",
        "test.assert_equals(pick_peaks([3,2,3,6,4,1,2,3,2,1,2,3]), {\"pos\":[3,7], \"peaks\":[6,3]})\n",
        "test.assert_equals(pick_peaks([3,2,3,6,4,1,2,3,2,1,2,2,2,1]), {\"pos\":[3,7,10], \"peaks\":[6,3,2]})\n",
        "test.assert_equals(pick_peaks([2,1,3,1,2,2,2,2,1]), {\"pos\":[2,4], \"peaks\":[3,2]})\n",
        "test.assert_equals(pick_peaks([2,1,3,1,2,2,2,2]), {\"pos\":[2], \"peaks\":[3]})\n",
        "test.assert_equals(pick_peaks([2,1,3,2,2,2,2,5,6]), {\"pos\":[2], \"peaks\":[3]})\n",
        "test.assert_equals(pick_peaks([2,1,3,2,2,2,2,1]), {\"pos\":[2], \"peaks\":[3]})\n",
        "test.assert_equals(pick_peaks([1,2,5,4,3,2,3,6,4,1,2,3,3,4,5,3,2,1,2,3,5,5,4,3]), {\"pos\":[2,7,14,20], \"peaks\":[5,6,5,5]})\n",
        "test.assert_equals(pick_peaks([]),{\"pos\":[],\"peaks\":[]})\n",
        "test.assert_equals(pick_peaks([1,1,1,1]),{\"pos\":[],\"peaks\":[]})"
      ],
      "execution_count": null,
      "outputs": []
    },
    {
      "cell_type": "markdown",
      "metadata": {
        "id": "Co-9IW_uqydG"
      },
      "source": [
        "# **A Chain adding function**\n",
        "\n",
        "A function that will add numbers together when called in succession\n",
        "\n",
        "add(1)(2)(3)(4)(5); // 15"
      ]
    },
    {
      "cell_type": "code",
      "metadata": {
        "id": "TTzYO-EkYVn6"
      },
      "source": [
        "class add(int):\n",
        "    def __call__(self,n):\n",
        "        return add(self+n)\n",
        "# def add(x=0,cnt=0,opcnt=0):\n",
        "#       return lambda y: add(x+y,cnt+1) if cnt<opcnt else x"
      ],
      "execution_count": null,
      "outputs": []
    },
    {
      "cell_type": "code",
      "metadata": {
        "id": "j8ACIcAWbUGm"
      },
      "source": [
        "#@title Sample Tests { vertical-output: true, display-mode: \"form\" }\n",
        "test.assert_equals(add(1), 1)\n",
        "test.assert_equals(add(1)(2), 3)\n",
        "test.assert_equals(add(1)(2)(3), 6)"
      ],
      "execution_count": null,
      "outputs": []
    },
    {
      "cell_type": "markdown",
      "metadata": {
        "id": "7-98zag0Zicz"
      },
      "source": [
        "# **Pete, the baker**\n",
        "\n",
        "how many cakes could be baked with a certain recipe? \n",
        "Input: an object recipe and n object available ingredients"
      ]
    },
    {
      "cell_type": "code",
      "metadata": {
        "id": "ogKxSIRxZKdZ"
      },
      "source": [
        "def cakes(recipe, available):\n",
        "    return min (available.get(key,0) // value for key,value in recipe.items() )\n",
        "\n",
        "def cakes1(recipe, available):\n",
        "    if not ( recipe.keys() <= available.keys() ):\n",
        "        return 0\n",
        "    lastkey,lastvalue=recipe.popitem()\n",
        "    count=available[lastkey] // lastvalue \n",
        "    for key,value in recipe.items():\n",
        "        if ((available[key] / value) < count) : \n",
        "            count=(available[key] // value)\n",
        "    return count"
      ],
      "execution_count": null,
      "outputs": []
    },
    {
      "cell_type": "code",
      "metadata": {
        "id": "mLtSYvGbbccS"
      },
      "source": [
        "#@title Sample Tests { vertical-output: true, display-mode: \"form\" }\n",
        "\n",
        "recipe = {\"flour\": 500, \"sugar\": 200, \"eggs\": 1}\n",
        "available = {\"flour\": 1200, \"sugar\": 1200, \"eggs\": 5, \"milk\": 200}\n",
        "test.assert_equals(cakes(recipe, available), 2, 'example #1')\n",
        "\n",
        "recipe = {\"apples\": 3, \"flour\": 300, \"sugar\": 150, \"milk\": 100, \"oil\": 100}\n",
        "available = {\"sugar\": 500, \"flour\": 2000, \"milk\": 2000}\n",
        "test.assert_equals(cakes(recipe, available), 0, 'example #2')"
      ],
      "execution_count": null,
      "outputs": []
    },
    {
      "cell_type": "markdown",
      "metadata": {
        "id": "oM7I_B9C8ikQ"
      },
      "source": [
        "# **Pete, the baker (part 2)**\n",
        "Pete is now mixing the cake mixture. He also might have added some of the ingredients already, but something is missing. Can you help him to find out?\n",
        "Pete only wants to bake whole cakes. And ingredients, that were added once to the mixture, can't be removed from that.\n",
        "If Pete already added all ingredients for an integer amount of cakes, return an empty hash.\n",
        "If Pete didn't add any ingredients at all, you need to add all ingredients for exactly one cake."
      ]
    },
    {
      "cell_type": "code",
      "source": [
        "import numpy as np\n",
        "import itertools \n",
        "\n",
        "def get_missing_ingredients(recipe, added):\n",
        "\n",
        "    m=max(itertools.chain((np.ceil(added[i]/recipe[i]) for i in added.keys() if i in recipe.keys()),{1}) )\n",
        "    return {i:m*recipe[i] if (i not in added.keys()) else recipe[i]-np.floor(added[i]%recipe[i])+(m-np.floor(added[i]/recipe[i])-1)*recipe[i] for i in recipe.keys() if (i not in added) or ((i in added) and ((added[i]%recipe[i]!=0) or (np.ceil(added[i]/recipe[i])!=m)))  }\n",
        "\n",
        "'''\n",
        "Get the cakes order count \"m\"\n",
        "\n",
        "itertools.chain(...{1}) in case none of the required ingredients are added\n",
        "\"If Pete didn't add any ingredients at all, you need to add all ingredients for exactly one cake.\"\n",
        "\n",
        "If an ingredient is already there -> \n",
        "add an amount so that it is enough for his latest cake \n",
        "add \"m\" minus the count of the already added required amounts\n",
        "\n",
        "If an ingredient isn't, already, added -> \n",
        "add \"m\" of its required amount\n",
        "\n",
        "'''\n",
        "def get_missing_ingredients(recipe, added):\n",
        "    m=max(itertools.chain((np.ceil(added[i]/recipe[i]) for i in added.keys() if i in recipe.keys()),{1}) )\n",
        "\n",
        "    missing={}\n",
        "    for i in recipe.keys() :\n",
        "        if (i in added.keys()) :           \n",
        "            x=recipe[i]-np.floor(added[i]%recipe[i])+(m-np.floor(added[i]/recipe[i])-1)*recipe[i]\n",
        "            if (x!=0):\n",
        "                missing[i]=x\n",
        "                \n",
        "        else :\n",
        "            missing[i]=m*recipe[i]  \n",
        "    return missing\n"
      ],
      "metadata": {
        "id": "zLPOAaLFo2Xb"
      },
      "execution_count": null,
      "outputs": []
    },
    {
      "cell_type": "code",
      "source": [
        "#@title Sample Tests { vertical-output: true, display-mode: \"form\" }\n",
        "# -*- coding: utf-8 -*-\n",
        "recipe = {\"flour\": 200, \"eggs\": 1, \"sugar\": 100}\n",
        "print('should return missing ingredients, when something is missing for 1 cake')\n",
        "test.assert_equals(get_missing_ingredients(recipe, {\"flour\": 100}), {\"flour\": 100, \"eggs\": 1, \"sugar\": 100})\n",
        "test.assert_equals(get_missing_ingredients(recipe, {\"flour\": 200, \"sugar\": 100}), {\"eggs\": 1})\n",
        "  \n",
        "print('should return no missing ingredients, when enough was added for integer amount of cakes')\n",
        "test.assert_equals(get_missing_ingredients(recipe, {\"flour\": 200, \"eggs\": 1, \"sugar\": 100}), {})\n",
        "test.assert_equals(get_missing_ingredients(recipe, {\"flour\": 400, \"eggs\": 2, \"sugar\": 200}), {})\n",
        "test.assert_equals(get_missing_ingredients(recipe, {\"flour\": 1000, \"eggs\": 5, \"sugar\": 500}), {})\n",
        "  \n",
        "recipe = {\"flour\": 200, \"eggs\": 1, \"sugar\": 100}\n",
        "print('should return missing ingredients, when something is missing for 1 cake')\n",
        "test.assert_equals(get_missing_ingredients(recipe, {\"flour\": 100}), {\"flour\": 100, \"eggs\": 1, \"sugar\": 100})\n",
        "test.assert_equals(get_missing_ingredients(recipe, {\"flour\": 200, \"sugar\": 100}), {\"eggs\": 1})\n",
        "  \n",
        "print('should return no missing ingredients, when enough was added for integer amount of cakes')\n",
        "test.assert_equals(get_missing_ingredients(recipe, {\"flour\": 200, \"eggs\": 1, \"sugar\": 100}), {})\n",
        "test.assert_equals(get_missing_ingredients(recipe, {\"flour\": 400, \"eggs\": 2, \"sugar\": 200}), {})\n",
        "test.assert_equals(get_missing_ingredients(recipe, {\"flour\": 1000, \"eggs\": 5, \"sugar\": 500}), {})\n",
        "  \n",
        "print('should return no missing ingredients for next integer amount of cakes')\n",
        "test.assert_equals(get_missing_ingredients(recipe, {\"flour\": 199, \"eggs\": 1, \"sugar\": 100}), {\"flour\": 1})\n",
        "test.assert_equals(get_missing_ingredients(recipe, {\"flour\": 1, \"eggs\": 2, \"sugar\": 200}), {\"flour\": 399})\n",
        "test.assert_equals(get_missing_ingredients(recipe, {\"flour\": 123, \"eggs\": 70}), {\"flour\": 13877, \"sugar\": 7000})\n",
        "print('should return no missing ingredients for next integer amount of cakes')\n",
        "test.assert_equals(get_missing_ingredients(recipe, {\"flour\": 199, \"eggs\": 1, \"sugar\": 100}), {\"flour\": 1})\n",
        "test.assert_equals(get_missing_ingredients(recipe, {\"flour\": 1, \"eggs\": 2, \"sugar\": 200}), {\"flour\": 399})\n",
        "test.assert_equals(get_missing_ingredients(recipe, {\"flour\": 123, \"eggs\": 70}), {\"flour\": 13877, \"sugar\": 7000})"
      ],
      "metadata": {
        "id": "CpkE42Px7KuU"
      },
      "execution_count": null,
      "outputs": []
    },
    {
      "cell_type": "markdown",
      "metadata": {
        "id": "fznt3XpGz4Vq"
      },
      "source": [
        "# **Roman Numerals Helper**\n",
        "\n",
        "Create a RomanNumerals class that can convert a roman numeral to and from an integer value\n",
        "\n",
        "I\t1\n",
        "IV 4\n",
        "V\t5\n",
        "X\t10\n",
        "L\t50\n",
        "C\t100\n",
        "D\t500\n",
        "M\t1000\n",
        "\n",
        "Modern Roman numerals are written by expressing each digit separately starting with the left most digit and skipping any digit with a value of zero. In Roman numerals 1990 is rendered: 1000=M, 900=CM, 90=XC; resulting in MCMXC. 2008 is written as 2000=MM, 8=VIII; or MMVIII. 1666 uses each Roman symbol in descending order: MDCLXVI\n"
      ]
    },
    {
      "cell_type": "code",
      "metadata": {
        "id": "5TlYwWzFz2tc"
      },
      "source": [
        "class RomanNumerals:\n",
        "\n",
        "    def to_roman(val):\n",
        "        return ''\n",
        "\n",
        "    def from_roman(roman_num):\n",
        "        return 0"
      ],
      "execution_count": null,
      "outputs": []
    },
    {
      "cell_type": "code",
      "metadata": {
        "id": "v4UxaKjY1L1r"
      },
      "source": [
        "conversionT={'I':1, 'V':5,'X':10, 'L':50, 'C':100, 'D':500, 'M':1000}\n",
        "class RomanNumerals:\n",
        "    def to_roman(val):\n",
        "        roman=''\n",
        "        for i in [1,10,100,1000] :\n",
        "            under_microscope=(val%(i*10))//i\n",
        "            if not under_microscope:\n",
        "              pass\n",
        "            elif under_microscope==4 or under_microscope==9:\n",
        "              roman+=conversionT[i]+conversionT[i*(under_microscope+1)]\n",
        "            else :\n",
        "              roman+=conversionT[i]*(under_microscope%5)+conversionT.get(conversionT[i],\"\")\n",
        "        return roman\n"
      ],
      "execution_count": null,
      "outputs": []
    },
    {
      "cell_type": "code",
      "metadata": {
        "id": "-IX8RWkz4SXz"
      },
      "source": [
        "https://www.codewars.com/kata/51b66044bce5799a7f000003/train/python"
      ],
      "execution_count": null,
      "outputs": []
    },
    {
      "cell_type": "markdown",
      "metadata": {
        "id": "J486U57qtz4x"
      },
      "source": [
        "# **Permutations**\n",
        "Create all permutations of an input string and remove duplicates, if present. "
      ]
    },
    {
      "cell_type": "code",
      "metadata": {
        "id": "grxJBQdbSIal"
      },
      "source": [
        "import itertools\n",
        "import numpy as np\n",
        "\n",
        "def permutations(string):\n",
        "    return np.unique( list(''.join(i) for i in itertools.permutations(string)) )\n",
        "####################################################################################################################################################################################\n",
        "\n",
        "def permutations(L):\n",
        "    N = len(L)\n",
        "    idx = [0 for i in range(N)]\n",
        "    result = [L]\n",
        "    i = 1\n",
        "    while i < N:\n",
        "        if idx[i] < i:\n",
        "            L = list(L)\n",
        "            swap = i % 2 * idx[i]\n",
        "            L[swap], L[i] = L[i], L[swap]\n",
        "            result.append(L)\n",
        "            idx[i] += 1\n",
        "            i = 1\n",
        "        else:\n",
        "            idx[i] = 0\n",
        "            i += 1\n",
        "    return result\n",
        "##########################################################################################\n",
        "def permutations(s):\n",
        "    if len(s) == 0:\n",
        "        return []\n",
        "    elif len(s) == 1:\n",
        "        return [s]\n",
        "    else:\n",
        "        return set(s[i]+p for i in range(len(s)) for p in permutations(s[:i] + s[i+1:]))\n",
        "\"\"\"\n",
        "k! premières permutations ne change pas les n-k derniers elements\n",
        "\"\"\"\n",
        "\n",
        "\"\"\"\n",
        "def fact(n):\n",
        "  return n*fact(n-1) if n else 1\n",
        "\n",
        "\n",
        "def permut_i(c,output,length,pos):#pos=pos%length  - modification position pour creer un non pattern\n",
        "    m=-1\n",
        "    for i in range(length):    \n",
        "        for j in range(fact(length-1)):\n",
        "            pos+=1\n",
        "            if (pos>=length):\n",
        "                pos=0 \n",
        "            m+=1\n",
        "            print(m,pos)\n",
        "            output[m][pos]=c \n",
        "            output[m+length][pos]=c\n",
        "def permutations(string):\n",
        "    length=len(string)\n",
        "    input=list(string)\n",
        "    output=np.zeros((fact(length),length),dtype=str)\n",
        "    for pos,c in enumerate(string):\n",
        "        permut_i(c,output,length,pos-1)\n",
        "    return output\n",
        "\"\"\""
      ],
      "execution_count": null,
      "outputs": []
    },
    {
      "cell_type": "code",
      "metadata": {
        "id": "Ae4hYPrQbc1X"
      },
      "source": [
        "#@title Sample Tests { vertical-output: true, display-mode: \"form\" }\n",
        "test.assert_equals(sorted(permutations('a')), ['a']);\n",
        "test.assert_equals(sorted(permutations('ab')), ['ab', 'ba'])\n",
        "test.assert_equals(sorted(permutations('aabb')), ['aabb', 'abab', 'abba', 'baab', 'baba', 'bbaa'])"
      ],
      "execution_count": null,
      "outputs": []
    },
    {
      "cell_type": "markdown",
      "metadata": {
        "id": "7B4DeVS_fym5"
      },
      "source": [
        "# **Strip Comments**\n",
        "\n",
        "Complete the solution so that it strips all text that follows any of a set of comment markers passed in. Any whitespace at the end of the line should also be stripped out."
      ]
    },
    {
      "cell_type": "code",
      "metadata": {
        "id": "1qyoHpp5oEZQ"
      },
      "source": [
        "def solution(string,markers):\n",
        "    return \"\\n\".join((line[:min([line.find(i) for i in markers if line.find(i)>=0 ]+[len(line)])]).strip(' ')  for line in list(string.split('\\n')))\n",
        "\n",
        "# def solution(string,markers):\n",
        "#     ch,previous,nextstart=\"\",0,0\n",
        "#     markers=\"\".join(i*string.count(i) for i in markers)\n",
        "#     for i in markers:\n",
        "#           index=string.find(i,previous)\n",
        "#           ch+=(string[nextstart:index]).strip(\" \")\n",
        "#           nextstart=string.find(\"\\n\",index)\n",
        "#           previous=index+1\n",
        "#     return ch"
      ],
      "execution_count": null,
      "outputs": []
    },
    {
      "cell_type": "code",
      "metadata": {
        "id": "LxCKqRQUbc7E"
      },
      "source": [
        "#@title Sample Tests { vertical-output: true, display-mode: \"form\" }\n",
        "# -*- coding: utf-8 -*-\n",
        "test.assert_equals(solution(\"apples, pears # and bananas\\ngrapes\\nbananas !apples\", [\"#\", \"!\"]), \"apples, pears\\ngrapes\\nbananas\")\n",
        "test.assert_equals(solution(\"a #b\\nc\\nd $e f g\", [\"#\", \"$\"]), \"a\\nc\\nd\")"
      ],
      "execution_count": null,
      "outputs": []
    },
    {
      "cell_type": "markdown",
      "source": [
        "# **Perfect power**\n",
        "A perfect power is a positive integer that can be expressed as an integer power of another positive integer. More formally, n is a perfect power if there exist natural numbers m > 1, and k > 1 such that m**k = n."
      ],
      "metadata": {
        "id": "0IXG-gmxMg5H"
      }
    },
    {
      "cell_type": "code",
      "source": [
        "import numpy as np\n",
        "import random\n",
        "\n",
        "def even_odd(n):\n",
        "    s, d = 0, n\n",
        "    while d % 2 == 0:\n",
        "          s += 1\n",
        "          d >>= 1\n",
        "    return s, d\n",
        "\n",
        "def Miller_Rabin(a, p):\n",
        "    s, d = even_odd(p-1)\n",
        "    a = pow(a, d, p)\n",
        "    if a == 1: return True\n",
        "    for i in range(s):\n",
        "        if a == p-1: return True\n",
        "        a = pow(a, 2, p)\n",
        "    return False\n",
        "\n",
        "def is_prime(p):\n",
        "    if p == 2: return True\n",
        "    if p <= 1 or p % 2 == 0: return False\n",
        "    return all(Miller_Rabin(random.randint(2,p-1),p) for _ in range(40))\n",
        "\n",
        "def isPP(n):\n",
        "    l=[]  \n",
        "    common=0\n",
        "    if is_prime(n): return None\n",
        "    for i in range (2,n//2+1):\n",
        "        count=0\n",
        "        if is_prime(i):\n",
        "            while(n%i==0):\n",
        "                n/=i\n",
        "                count+=1   \n",
        "        if count==1: return None\n",
        "        if count>1 :\n",
        "            if common%count==0 and common!=count:\n",
        "                l*=common//count\n",
        "                common=count\n",
        "            elif count%common!=0:  \n",
        "                return None\n",
        "            l.append(i)\n",
        "        if n==1 :break\n",
        "    return [np.prod(l),common]\n",
        "####################################################################################################################################\n",
        "import math\n",
        "def isPP(n):\n",
        "    i=2\n",
        "    while i < n:\n",
        "        if math.log(n, i) < 2:\n",
        "            return None\n",
        "        if i ** round(math.log(n, i)) == n:\n",
        "            return [i, round(math.log(n, i))]\n",
        "        i+=1 "
      ],
      "metadata": {
        "id": "S34b_nW_MgNP"
      },
      "execution_count": null,
      "outputs": []
    },
    {
      "cell_type": "code",
      "metadata": {
        "id": "1VfexPuGbc-W"
      },
      "source": [
        "#@title Sample Tests { vertical-output: true, display-mode: \"form\" }\n",
        "from random import random, randrange\n",
        "from math import log, floor\n",
        "\n",
        "test.describe(\"perfect powers\")\n",
        "test.it(\"should work for some examples\")\n",
        "test.assert_equals(isPP(4), [2,2], \"4 = 2^2\")\n",
        "test.assert_equals(isPP(9), [3,2], \"9 = 3^2\")\n",
        "test.assert_equals(isPP(5), None, \"5 isn't a perfect power\")\n",
        "\n",
        "test.it(\"should work for the first perfect powers\")\n",
        "pp = [4, 8, 9, 16, 25, 27, 32, 36, 49, 64, 81, 100, 121, 125, 128, 144, 169, 196, 216, 225, 243, 256, 289, 324, 343, 361, 400, 441, 484]\n",
        "for item in pp:\n",
        "    test.assert_not_equals(isPP(item), None, \"the perfect power \"+str(item)+\" wasn't recognized as one\")\n",
        "\n",
        "test.it(\"should work for random perfect powers\")\n",
        "for i in range(100):\n",
        "    m = 2 + floor(random() * 255)\n",
        "    k = 2 + floor(random() * log(268435455) / log(m))\n",
        "    l = m**k\n",
        "    r = isPP(l)\n",
        "    if r==None:\n",
        "        test.assert_not_equals(r, None, str(l) + \" is a perfect power\")\n",
        "        break\n",
        "    elif r[0]**r[1] != l:\n",
        "        test.assert_equals(r[0]**r[1], l, \"your pair (\" + str(r[0]) + \", \"+ str(r[1])+ \") doesn't work for \"+ str(l))\n",
        "        break\n",
        "      \n",
        "        \n",
        "test.it(\"should return valid pairs for random inputs\")\n",
        "for i in range(100):\n",
        "    l = randrange(65535);\n",
        "    r = isPP(l);\n",
        "    if r != None and r[0]**r[1] != l:\n",
        "        test.assert_equals(r[0]**r[1], l, \"your pair (\"+str(r[0])+\", \"+str(r[1])+\") doesn't work for \"+str(l))\n",
        "        break\n"
      ],
      "execution_count": null,
      "outputs": []
    },
    {
      "cell_type": "markdown",
      "source": [
        "# **Schrödinger's Boolean**\n",
        "Define omnibool so that it returns True for the following:\n",
        "\n",
        "omnibool == True and omnibool == False"
      ],
      "metadata": {
        "id": "i99i4Icp5y3a"
      }
    },
    {
      "cell_type": "code",
      "source": [
        "class Omnibool:\n",
        "    def __eq__(self, _):\n",
        "        return True\n",
        "omnibool = Omnibool()"
      ],
      "metadata": {
        "id": "6SgdDalO5x8_"
      },
      "execution_count": null,
      "outputs": []
    },
    {
      "cell_type": "code",
      "metadata": {
        "id": "C9U6F1o6bdIw"
      },
      "source": [
        "#@title Sample Tests { vertical-output: true, display-mode: \"form\" }\n",
        "test.describe('Basic Tests')\n",
        "test.assert_equals(omnibool, True)\n",
        "test.assert_equals(omnibool, False)"
      ],
      "execution_count": null,
      "outputs": []
    },
    {
      "cell_type": "markdown",
      "source": [
        "**Encrypt this!**\n",
        "\n",
        "The first letter must be converted to its ASCII code.\n",
        "\n",
        "The second letter must be switched with the last letter"
      ],
      "metadata": {
        "id": "6rWE9CMCHgzE"
      }
    },
    {
      "cell_type": "code",
      "source": [
        "def encrypt_this(text):\n",
        "    return ' '.join(str(ord(i[0]))+i[-1]+i[2:-1]+i[1] if len(i)>2 else str(ord(i[0]))+i[1:] for i in text.split(\" \")   ) if text else \"\"\n"
      ],
      "metadata": {
        "id": "A9GI5xb6HqT2"
      },
      "execution_count": null,
      "outputs": []
    },
    {
      "cell_type": "code",
      "source": [
        "#@title Sample Tests { vertical-output: true, display-mode: \"form\" }\n",
        "\n",
        "tests = [\n",
        "    (\"\", \"\"),\n",
        "    (\"A wise old owl lived in an oak\", \"65 119esi 111dl 111lw 108dvei 105n 97n 111ka\"),\n",
        "    (\"The more he saw the less he spoke\", \"84eh 109ero 104e 115wa 116eh 108sse 104e 115eokp\"),\n",
        "    (\"The less he spoke the more he heard\", \"84eh 108sse 104e 115eokp 116eh 109ero 104e 104dare\"),\n",
        "    (\"Why can we not all be like that wise old bird\", \"87yh 99na 119e 110to 97ll 98e 108eki 116tah 119esi 111dl 98dri\"),\n",
        "    (\"Thank you Piotr for all your help\", \"84kanh 121uo 80roti 102ro 97ll 121ruo 104ple\"),\n",
        "]\n",
        "\n",
        "for t in tests:\n",
        "    inp, exp = t\n",
        "    test.assert_equals(encrypt_this(inp), exp)\n"
      ],
      "metadata": {
        "id": "3rvl-TZqHXue"
      },
      "execution_count": null,
      "outputs": []
    },
    {
      "cell_type": "markdown",
      "source": [
        "**Uncollapse Digits**\n",
        "\n",
        "Input : a string of English digits \"stuck\" together\n",
        "\n",
        "Output : a string with separate digits"
      ],
      "metadata": {
        "id": "xzNJxuOkH8ha"
      }
    },
    {
      "cell_type": "code",
      "source": [
        "import re\n",
        "def uncollapse(digits):\n",
        "    return \" \".join(re.findall(r\"(zero|one|two|three|four|five|six|seven|eight|nine)\",digits))"
      ],
      "metadata": {
        "id": "fVJz20U0Hxfx"
      },
      "execution_count": 64,
      "outputs": []
    },
    {
      "cell_type": "code",
      "source": [
        "#@title Sample Tests { vertical-output: true, display-mode: \"form\" }\n",
        "\n",
        "test.assert_equals(uncollapse(\"three\"), \"three\")\n",
        "test.assert_equals(uncollapse(\"eightsix\"), \"eight six\")\n",
        "test.assert_equals(uncollapse(\"fivefourseven\"), \"five four seven\")\n",
        "test.assert_equals(uncollapse(\"ninethreesixthree\"), \"nine three six three\")\n",
        "test.assert_equals(uncollapse(\"fivethreefivesixthreenineonesevenoneeight\"), \"five three five six three nine one seven one eight\")"
      ],
      "metadata": {
        "id": "jftQiFeoIM5c"
      },
      "execution_count": null,
      "outputs": []
    },
    {
      "cell_type": "markdown",
      "source": [
        "**FIRE and FURY**\n",
        "\n",
        "The President's phone is broken. The only letters still working are uppercase E, F, I, R, U, Y\n",
        "\n",
        "An angry tweet is sent to the department responsible for presidential phone maintenance.\n",
        "\n",
        "If multiple of the same words are found in a row then plural rules apply:\n",
        "\n",
        "\"You (and you)*(count of FIRE-1) are fired!\"\n",
        "\n",
        "\"I am (really)*(count of FURY-1) furious.\"\n",
        "\n",
        "If no known words are found, or unexpected letters are encountered, then it must be a \"Fake tweet.\"\n"
      ],
      "metadata": {
        "id": "PK8ZwckCK4-T"
      }
    },
    {
      "cell_type": "code",
      "source": [
        "import re\n",
        "find= lambda l, e: l.index(e) if e in l else len(l)\n",
        "def Decipher(keywords):\n",
        "    if not keywords: return \"\"\n",
        "    return \"You \"+\"and you \"*(len(keywords[:find(keywords,\"FURY\")])-1)+\"are fired! \"+Decipher(keywords[find(keywords,\"FURY\"):len(keywords)]) if keywords[0]=='FIRE' else \"I am \"+\"really \"*(len(keywords[:find(keywords,\"FIRE\")])-1)+\"furious. \"+Decipher(keywords[find(keywords,\"FIRE\"):len(keywords)])\n",
        "def fire_and_fury(tweet):\n",
        "    meaningful = re.findall(r\"(FIRE|FURY)\",tweet) \n",
        "    if not meaningful or list(filter(lambda x:x not in [\"E\", \"F\", \"I\", \"R\", \"U\", \"Y\"],tweet )): return \"Fake tweet.\"\n",
        "    return Decipher(meaningful)[:-1]"
      ],
      "metadata": {
        "id": "Ab-Tr7VpK4YB"
      },
      "execution_count": 115,
      "outputs": []
    },
    {
      "cell_type": "code",
      "source": [
        "#@title Sample Tests { vertical-output: true, display-mode: \"form\" }\n",
        "test.describe(\"Sample tests\")\n",
        "test.it(\"Ex1\")\n",
        "test.assert_equals(fire_and_fury(\"FURYYYFIREYYFIRE\"), \"I am furious. You and you are fired!\")\n",
        "print('<COMPLETEDIN::>')\n",
        "\n",
        "test.it(\"Ex2\")\n",
        "test.assert_equals(fire_and_fury(\"FIREYYFURYYFURYYFURRYFIRE\"), \"You are fired! I am really furious. You are fired!\")\n",
        "print('<COMPLETEDIN::>')\n",
        "\n",
        "test.it(\"Ex3\")\n",
        "test.assert_equals(fire_and_fury(\"FYRYFIRUFIRUFURE\"), \"Fake tweet.\")\n",
        "print('<COMPLETEDIN::>')\n",
        "print('<COMPLETEDIN::>')"
      ],
      "metadata": {
        "id": "tETEl-pvYKk4"
      },
      "execution_count": null,
      "outputs": []
    },
    {
      "cell_type": "markdown",
      "source": [
        "# **GAMES**\n",
        "**The Shortest Time: walking vs taking the elevator.**\n",
        "\n",
        "Please help John to calculate the shortest time to go downstairs.\n",
        "```\n",
        "n: An integer. The floor of John(0-based).\n",
        "m: An integer. The floor of the elevator(0-based).\n",
        "speeds: An array of integer. It contains four integer [a,b,c,d]\n",
        "        a: The seconds required when the elevator rises or falls 1 floor\n",
        "        b: The seconds required when the elevator open the door\n",
        "        c: The seconds required when the elevator close the door\n",
        "        d: The seconds required when John walks to n-1 or n+1 floor\n",
        "```\n",
        "**Centered pentagonal number**\n",
        "\n",
        "Write a function Pentagonal(n) that takes a positive integer and calculates how many dots exist in a pentagonal shape around the center dot on the Nth iteration.\n",
        "\n",
        "![image.png](data:image/png;base64,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)\n",
        "\n",
        "**Echo**\n",
        "\n",
        "Write a function that returns your solution source code as a string.\n",
        "\n",
        "**Red Knight**\n",
        "\n",
        "Red Knight is chasing two pawns. Which pawn will be caught, and where?\n",
        "\n",
        "Input will be two integers:\n",
        "\n",
        "  N vertical position of Red Knight (0 or 1). (The horizontal position is 0)\n",
        "\n",
        "  P horizontal position of two pawns (between 2 and 1000000).(The white pawn on the vertical position 0)\n",
        "\n",
        "Output:\n",
        "\"Black\" or \"White\" - which pawn was caught\n",
        "\n",
        "Where it was caught (horizontal position)\n",
        "\n",
        "![image.png](data:image/png;base64,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)\n",
        "\n",
        "**Weak Numbers**\n",
        "We define the weakness of number n as the number of positive integers smaller than n that have more divisors than n.\n",
        "\n",
        "For the given integer n, return a tuple of two elements, where the first element is the weakness of the weakest numbers in the range [1, n] and the second element is how many numbers in the range [1, n] have this weakness."
      ],
      "metadata": {
        "id": "PLnDpNhAwP7U"
      }
    },
    {
      "cell_type": "code",
      "source": [
        "def shorterest_time(n, m, speeds):\n",
        "    a,b,c,d=speeds\n",
        "    return min(m*a+2*b+c,n*d) if m>=n else min(n*d,(2*n-m)*a+2*b+c,d*(n-m)+m*a+2*b+c)"
      ],
      "metadata": {
        "id": "UF1f1xT9AXgd"
      },
      "execution_count": null,
      "outputs": []
    },
    {
      "cell_type": "code",
      "source": [
        "#@title Sample Tests -- The Shortest Time: walking vs taking the elevator { vertical-output: true, display-mode: \"form\" }\n",
        "\n",
        "test.assert_equals(shorterest_time(4, 5, [1, 2, 3, 10]), 12)\n",
        "test.assert_equals(shorterest_time(0, 5, [1, 2, 3, 10]), 0)\n",
        "test.assert_equals(shorterest_time(4, 4, [1, 2, 3, 10]), 11)\n",
        "test.assert_equals(shorterest_time(1, 1, [1, 2, 3, 10]), 8)\n",
        "test.assert_equals(shorterest_time(1, 1, [2, 3, 4, 10]), 10)\n",
        "test.assert_equals(shorterest_time(4, 3, [1, 2, 3, 10]), 12)\n",
        "test.assert_equals(shorterest_time(4, 3, [2, 3, 4, 5]), 20)\n",
        "test.assert_equals(shorterest_time(7, 6, [3, 1, 1, 4]), 25)"
      ],
      "metadata": {
        "id": "JicaPz01JRr3"
      },
      "execution_count": null,
      "outputs": []
    },
    {
      "cell_type": "code",
      "source": [
        "def pentagonal(n):\n",
        "    return 5*n*(n-1)//2+1 if n>0 else -1"
      ],
      "metadata": {
        "id": "NlNVmD55DRqN"
      },
      "execution_count": null,
      "outputs": []
    },
    {
      "cell_type": "code",
      "source": [
        "#@title Sample Tests -- Centered pentagonal number { vertical-output: true, display-mode: \"form\" }\n",
        "\n",
        "test.describe(\"Simple tests:\")    \n",
        "test.it(\"should return -1\")\n",
        "test.assert_equals(pentagonal(0),-1 )\n",
        "test.assert_equals(pentagonal(-1),-1 )\n",
        "test.it(\"should return the Expected values\")\n",
        "\n",
        "test.assert_equals(pentagonal(1),1 )\n",
        "test.assert_equals(pentagonal(2),6 )\n",
        "\n",
        "test.assert_equals(pentagonal(8),141 )\n",
        "test.assert_equals(pentagonal(10),226 )\n",
        "\n",
        "test.assert_equals(pentagonal(100), 24751)\n",
        "test.assert_equals(pentagonal(77686), 15087592276)"
      ],
      "metadata": {
        "id": "weRQZFn5DY5z"
      },
      "execution_count": null,
      "outputs": []
    },
    {
      "cell_type": "code",
      "source": [
        "import inspect\n",
        "def echo_program():\n",
        "    return inspect.getsource(echo_program)\n",
        "echo_program()"
      ],
      "metadata": {
        "colab": {
          "base_uri": "https://localhost:8080/",
          "height": 36
        },
        "id": "Rda1a7A9Vhzn",
        "outputId": "84382571-1d15-4b9c-dcc4-4d166a718e5e"
      },
      "execution_count": null,
      "outputs": [
        {
          "output_type": "execute_result",
          "data": {
            "application/vnd.google.colaboratory.intrinsic+json": {
              "type": "string"
            },
            "text/plain": [
              "'def echo_program():\\n    return inspect.getsource(echo_program)\\n'"
            ]
          },
          "metadata": {},
          "execution_count": 126
        }
      ]
    },
    {
      "cell_type": "code",
      "source": [
        "#@title Sample Tests -- Echo { vertical-output: true, display-mode: \"form\" }\n",
        "\n",
        "import types\n",
        "test.expect(isinstance(echo_program, types.FunctionType))\n",
        "test.expect(isinstance(echo_program(), str))\n",
        "echo_program()"
      ],
      "metadata": {
        "id": "Zxv1J5nGo36y"
      },
      "execution_count": null,
      "outputs": []
    },
    {
      "cell_type": "code",
      "source": [
        "def red_knight(N, P):\n",
        "    return (['White','Black'][(N+P%2)%2],P*2)"
      ],
      "metadata": {
        "id": "DyD5THHSspdS"
      },
      "execution_count": null,
      "outputs": []
    },
    {
      "cell_type": "code",
      "source": [
        "#@title Sample Tests -- Red Knight { vertical-output: true, display-mode: \"form\" }\n",
        "\n",
        "\n",
        "test.assert_equals(red_knight(0, 8), ('White', 16))\n",
        "test.assert_equals(red_knight(0, 7), ('Black', 14))\n",
        "test.assert_equals(red_knight(1, 6), ('Black', 12))\n",
        "test.assert_equals(red_knight(1, 5), ('White', 10))"
      ],
      "metadata": {
        "id": "LuU9nZszpVT4"
      },
      "execution_count": null,
      "outputs": []
    },
    {
      "cell_type": "code",
      "source": [
        "def weak_numbers(n):\n",
        "    count_divisors=[len([j for j in range(1,i) if i%j==0]) for i in range(1,n+1)]\n",
        "    '''\n",
        "    Dynamic programming like \n",
        "    => key: divisors count\n",
        "    => value: (last contributor, current_weakness of the last contributor)\n",
        "    '''\n",
        "    guard,weakest_valueNcount={},[0,0]\n",
        "    for i in range(n):\n",
        "        \n",
        "        current_weakness=len([j for j in range(guard.get(count_divisors[i],(0,None))[0],i) if count_divisors[j]>count_divisors[i] ]) + guard.get(count_divisors[i],(None,0))[1]\n",
        "        guard[count_divisors[i]]=(i,current_weakness)\n",
        "        \n",
        "        if (current_weakness>=weakest_valueNcount[0]):\n",
        "            weakest_valueNcount=[current_weakness,(weakest_valueNcount[1])*int(current_weakness==weakest_valueNcount[0])+1]\n",
        "\n",
        "    return  weakest_valueNcount\n",
        "\n"
      ],
      "metadata": {
        "id": "7a8p8kzmkMhY"
      },
      "execution_count": null,
      "outputs": []
    },
    {
      "cell_type": "code",
      "source": [
        "#@title Sample Tests -- Weak Numbers { vertical-output: true, display-mode: \"form\" }\n",
        "test.assert_equals( weak_numbers(9),[2,2])\n",
        "test.assert_equals( weak_numbers(1),[0,1])\n",
        "test.assert_equals( weak_numbers(2),[0,2])\n",
        "test.assert_equals( weak_numbers(7),[2,1])\n",
        "test.assert_equals( weak_numbers(500),[403,1])\n",
        "test.assert_equals( weak_numbers(4),[0,4])"
      ],
      "metadata": {
        "id": "x5kQc1JLwuOA"
      },
      "execution_count": null,
      "outputs": []
    },
    {
      "cell_type": "markdown",
      "source": [
        ""
      ],
      "metadata": {
        "id": "SemkM8iYxFiv"
      }
    },
    {
      "cell_type": "markdown",
      "source": [
        "# **Checkerboard Resolution**\n",
        "Counting the black squares on a special checkerboard. It is special because it has a resolution which determines how the black and white squares are laid out.\n",
        "\n",
        "The resolution refers to the dimensions of squares of a single colour.\n",
        "\n",
        "The top left square is always white, and we are counting the INDIVIDUAL black squares on the board.\n",
        "\n",
        "11 * 6 * 1 \n",
        "\n",
        "Number of black squares = 33\n",
        "\n",
        "![0.jpg](data:image/jpeg;base64,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)\n",
        "\n",
        "11 * 6 * 5\n",
        "\n",
        "Number of black squares = 31\n",
        "\n",
        "![1.jpg](data:image/jpeg;base64,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)"
      ],
      "metadata": {
        "id": "OyFtXJqKD59y"
      }
    },
    {
      "cell_type": "code",
      "source": [
        "import numpy as np\n",
        "\n",
        "def count_checkerboard(h,w,r):\n",
        "\n",
        "    return ((h//r)//2)*r*w+ r*(h%r)*((w//r)//2)+ (h%r)*(w%r) * ((w//r)%2) if (h//r)%2==0 else ((h//r)//2)*r*w + r*r*((w//r)//2) + (h%r)*((w//r)//2+(w//r)%2)*r + r*(w%r)*((w//r)%2)+(h%r)*(w%r)*((w//r+1)%2)\n",
        "\n",
        "# More exhaustive version \n",
        "def count_checkerboard(h,w,r):\n",
        "    x=0 \n",
        "    if (h//r)%2==1  and (w//r)%2==1 :\n",
        "        x=((h//r)//2)*r*w + r*r*((w//r)//2)+ r*(w%r) +(h%r)*((w//r)//2 + 1)*r \n",
        "    if (h//r)%2==1  and (w//r)%2==0 :\n",
        "        x=((h//r)//2)*r*w + r*r*((w//r)//2) + (h%r)*((w//r)//2)*r + (h%r)*(w%r) \n",
        "\n",
        "    if (h//r)%2==0  and (w//r)%2==1 :\n",
        "        x=((h//r)//2)*r*w+ r*(h%r)*((w//r)//2)+ (h%r)*(w%r)\n",
        "    if (h//r)%2==0  and (w//r)%2==0 :\n",
        "        x=((h//r)//2)*r*w+ r*(h%r)*((w//r)//2)\n",
        "    return x"
      ],
      "metadata": {
        "id": "QtHEfbEGD410"
      },
      "execution_count": null,
      "outputs": []
    },
    {
      "cell_type": "code",
      "metadata": {
        "id": "5yMGk2bxbdcp"
      },
      "source": [
        "#@title Sample Tests { vertical-output: true, display-mode: \"form\" }\n",
        "\n",
        "def tests():\n",
        "    @test.it(\"Small examples\")\n",
        "    def small_ex():\n",
        "        # From the description\n",
        "        test.assert_equals(count_checkerboard(11, 6, 1), 33)\n",
        "        test.assert_equals(count_checkerboard(11, 6, 2), 32)\n",
        "        test.assert_equals(count_checkerboard(11, 6, 5), 31)\n",
        "        \n",
        "        # More basic examples\n",
        "        test.assert_equals(count_checkerboard(9, 5, 2), 22)\n",
        "        test.assert_equals(count_checkerboard(9, 5, 4), 21)\n",
        "        test.assert_equals(count_checkerboard(9, 5, 8), 5)\n",
        "        \n",
        "    @test.it(\"Larger examples\")\n",
        "    def larger_ex():\n",
        "        test.assert_equals(count_checkerboard(123456, 7654321, 333), 472485924597)\n",
        "        test.assert_equals(count_checkerboard(10**10, 10, 20), 5*10**10)\n",
        "        test.assert_equals(count_checkerboard(10**10, 11, 21), 54999999978)\n",
        "        test.assert_equals(count_checkerboard(8**5, 7**9, 124), 661153496464)\n",
        "\n",
        "    @test.it(\"Some edge cases?\")\n",
        "    def edge_cases():\n",
        "        test.assert_equals(count_checkerboard(0, 123, 1), 0)\n",
        "        test.assert_equals(count_checkerboard(445, 998, 101010), 0)\n",
        "        test.assert_equals(count_checkerboard(0, 0, 1), 0)\n",
        "tests()"
      ],
      "execution_count": null,
      "outputs": []
    },
    {
      "cell_type": "markdown",
      "metadata": {
        "id": "1vHoPugfZAna"
      },
      "source": [
        "# **Web Scraping and Optimization for REALTY INVESTING** "
      ]
    },
    {
      "cell_type": "code",
      "metadata": {
        "id": "MNNdwiCmZAnb"
      },
      "source": [
        "# %%sh\n",
        "# pip install selenium \n",
        "# pip install webdriver-manager\n",
        "# pip install cloudscraper\n",
        "\n",
        "import html5lib, lxml, requests , re, cloudscraper, os, csv, time, sys, random\n",
        "from bs4 import BeautifulSoup as bs\n",
        "import numpy as np\n",
        "import pandas as pd\n",
        "from time import sleep\n",
        "from selenium import webdriver\n",
        "from selenium.webdriver.common.keys import Keys\n",
        "from webdriver_manager.chrome import ChromeDriverManager\n",
        "from time import sleep\n",
        "import os,sys,shlex,subprocess,argparse,time,pandas\n",
        "from numpy.random import randint\n",
        "from socket import timeout\n",
        "\n",
        "url = \"https://www.logic-immo.com/vente-immobilier-0,1_0/options/groupprptypesids=1\"\n",
        "\n",
        "driver = webdriver.Chrome(ChromeDriverManager().install())\n",
        "driver.get(url)\n",
        "sleep(20)\n",
        "p_element = driver.find_element_by_id(id_=\"add-to-selection\")\n",
        "print(p_element)\n",
        "\n",
        "scraper = cloudscraper.create_scraper()\n",
        "source= scraper.get(url).text\n",
        "\n",
        "#source=requests.get(\"https://scrapeme.live/shop/\").text\n",
        "\n",
        "extacted_data='extacted_data.csv'\n",
        "header=np.where(os.path.exists(extacted_data),0,1)\n",
        "with open(extacted_data, 'a', encoding='UTF8', newline='') as f:\n",
        "    writer = csv.writer(f)\n",
        "\n",
        "    # Other available data: energy_letter, client_type, client_id, position, media\n",
        "    #writer.writerow(['list_name','position','price','estate_type','distribution_type','space','id','id_solo','client_id','photos_nb','estate_postalcode','client_postalcode','country','client_type','parent_site','floor_nb','nb_rooms','nb_bedrooms','energy_letter','product_status','media','product_type']) if header else None\n",
        "    writer.writerow(['price','estate_type','distribution_type','space','id_solo','photos_nb','floor_nb','nb_rooms','nb_bedrooms','estate_postalcode','url2post','region']) if header else None\n",
        "    hourlylimit_supervisor=0\n",
        "    for code_region in range(5,24):\n",
        "        page=0\n",
        "        time.sleep(10)\n",
        "        \n",
        "        annonces=[-1] \n",
        "        while(annonces!=[]):\n",
        "\n",
        "            # to avoid being blocked and having to solve captcha            \n",
        "            # if (hourlylimit_supervisor>390):\n",
        "            #   hourlylimit_supervisor=0\n",
        "            #   sleep(7200)\n",
        "\n",
        "\n",
        "            # random clicks to avoid a detection of a crawling pattern\n",
        "            \n",
        "\n",
        "            random_url = f\"https://www.logic-immo.com/vente-immobilier-0,{random.randint(1,23)}_0/options/groupprptypesids={random.randint(1,23)}/page={random.randint(1,23)}\"\n",
        "            requests.get(random_url).text\n",
        "\n",
        "            # to be gentle with the site and to emulate a human behavior\n",
        "            time.sleep(15) \n",
        "\n",
        "            page+=1\n",
        "            url = f\"https://www.logic-immo.com/vente-immobilier-0,{code_region}_0/options/groupprptypesids=1/page={page}\"\n",
        "            scraper = cloudscraper.create_scraper()\n",
        "            source= scraper.get(url).text\n",
        "\n",
        "            soup=bs(source,'lxml')\n",
        "            annonces=soup.find_all(\"a\", class_=\"add-to-selection\")\n",
        "\n",
        "            for annonce in annonces:    \n",
        "\n",
        "                hourlylimit_supervisor+=1\n",
        "\n",
        "                target_field=str(annonce).split(\"{\")[3]\n",
        "                target_data=re.findall(r':([0-9]+)', target_field)\n",
        "                target_data.pop(0)                  #remove position\n",
        "                target_data.pop()                   #remove media\n",
        "                if (len(target_data)<9):            # -1 if floor_nb is not defined\n",
        "                    target_data.insert(6,-1) \n",
        "                elif (len(target_data)>9):         \n",
        "                    target_data.pop()\n",
        "\n",
        "                target_data+=re.findall(r'.*estate_postalcode.:\\'([\\d]+)', target_field) # Preserve the estate_postalcode\n",
        "                \n",
        "                id=target_field[target_field.find(\"id\")+5:target_field.find(\"id_\")-3]\n",
        "                url2post=\"https://www.logic-immo.com/detail-vente-\"+id+\".htm\"\n",
        "                target_data.append(url2post)\n",
        "                target_data.append(code_region)\n",
        "                writer.writerow(target_data)\n",
        "\n",
        "\"\"\"\n",
        "Variables: proposed_price(), apport_complementaire\n",
        "Input: duree_2possession\n",
        "From databases: id, price, surface, prix_2ref_moyen_m2,val_loc_indicative_m2, url2post,estate_postalcode\n",
        "\n",
        "other existing information \n",
        "        # estate_type\n",
        "        # distribution_type: 1 location, 2 vente\n",
        "        # photos_nb\n",
        "        # floor_nb\n",
        "        # nb_rooms\n",
        "        # nb_bedrooms\n",
        "\n",
        "Might be useful if found: \n",
        "        # historique/ the amount deemed necessary for repairs\n",
        "        # Economy/ Market outlook on real estate\n",
        "        # Future estimations of demographics, Government Policies\n",
        "\n",
        "\"\"\"\n",
        "\n",
        "\n",
        "duree_pret_en_Mois=180\n",
        "interets=1.03\n",
        "interets_mensuel=interets/1200\n",
        "assurance_Pret=0.273\n",
        "caution_PPD,levee_PPD=2500,2500\n",
        "penalités_RA=0.03\n",
        "\n",
        "annuite=interets_mensuel/(1-(1+interets_mensuel)**(-duree_pret_en_Mois))\n",
        "\n",
        "\n",
        "frais_dagence=10000\n",
        "pourcentage_commission=0.0799\n",
        "charge=75\n",
        "taux_fonciere=33.3\n",
        "\n",
        "taux_occupation=0.8\n",
        "\n",
        "class Bien():\n",
        "    def __init__(self,apport_complementaire,price,surface,estate_postalcode,url2post,prix_2ref_moyen_m2,val_loc_indicative_m2):\n",
        "\n",
        "        self.price=price\n",
        "        self.surface=surface\n",
        "        self.estate_postalcode=estate_postalcode\n",
        "        self.url2post=url2post\n",
        "\n",
        "        self.apport_complementaire=apport_complementaire\n",
        "\n",
        "        self.prix_2ref_moyen_m2=int(prix_2ref_moyen_m2)\n",
        "        self.val_loc_indicative_m2=val_loc_indicative_m2\n",
        "\n",
        "    market_value=lambda self:self.prix_2ref_moyen_m2*self.surface \n",
        "    worth_it=lambda self:self.market_value()>0.9*self.price  #True                            # when acquiring more accurate gov data self.market_value()>0.9*self.price \n",
        "\n",
        "    proposed_price=lambda self:  self.market_value()*0.9 #self.price*0.9          # when acquiring more accurate gov data self.market_value()*0.9\n",
        "\n",
        "    get_apport_aubanque=lambda self:0.2*self.proposed_price()+self.apport_complementaire\n",
        "    #+pourcentage_commission*(self.proposed_price()-frais_dagence)\n",
        "\n",
        "    get_emprunte=lambda self:self.proposed_price()-self.get_apport_aubanque()\n",
        "    get_price_per_m2=lambda self:self.price/self.surface\n",
        "    get_prix_propose_par_m2=lambda self:self.proposed_price()/self.surface\n",
        "    get_mensualites_pret=lambda self:self.get_emprunte()*annuite\n",
        "    get_mensualites_assu=lambda self:self.get_emprunte()*assurance_Pret/1200\n",
        "\n",
        "    get_loyer_bas=lambda self:self.surface*self.val_loc_indicative_m2+0.6*charge\n",
        "    get_loyer_haut=lambda self:self.get_loyer_bas()+0.4*charge+taux_fonciere\n",
        "\n",
        "    \n",
        "    \n",
        "    def residuel(self,duree_2possession):\n",
        "        return self.residuel(duree_2possession-1)*(interets_mensuel+1)-annuite*self.get_emprunte() if duree_2possession>=1 else self.get_emprunte()\n",
        "\n",
        "    get_capital_rembourse=lambda self,duree_2possession:self.get_emprunte()-self.residuel(duree_2possession)\n",
        "\n",
        "    get_plus_value=lambda self:0.2*self.proposed_price()\n",
        "    \"\"\"\n",
        "    Assiette pour l'impôt sur le revenu 0% pour une detention de moins de 6 ans, \n",
        "                                        6% pour une detention de la 6e à la 21e année,(pour chaque annee apres la 6e)   \n",
        "                                        4% pour la 22e année\n",
        "                                        Exonération au delà de la 22e année\n",
        "\n",
        "    \"\"\"\n",
        "    abattement=lambda self,detention_enannee: self.get_plus_value()*np.where(detention_enannee<6,0,np.where(detention_enannee<=21,6,4))*(detention_enannee-6+1)/100     \n",
        "    get_impots_plus_value=lambda self,duree_2possession:( self.get_plus_value()-self.abattement(np.floor(duree_2possession/12)))*19/100 if duree_2possession<264 else 0 # Exonération au delà de la 22e année de detention\n",
        "\n",
        "    get_frais_notaire=lambda self:(self.proposed_price()-frais_dagence)*pourcentage_commission # l'historique est indisponible pour le moment pour un np.where(historique==\"Ancien\",0.0799,0.02)\n",
        "   \n",
        "   \n",
        "\n",
        "    get_revenu_aumois_i=lambda self,duree_2possession:taux_occupation*duree_2possession*self.get_loyer_bas()+(2-penalités_RA)*(self.get_emprunte()-self.residuel(duree_2possession))+self.get_plus_value()-self.get_impots_plus_value(duree_2possession)+duree_2possession*(self.get_mensualites_pret()-taux_fonciere-charge)-self.get_mensualites_assu()-self.get_frais_notaire()-frais_dagence-levee_PPD*2\n",
        "\n",
        "\n",
        "\n",
        "# parser = argparse.ArgumentParser()\n",
        "# for i in range(len(parameter_s_keys)):\n",
        "#     parser.add_argument('-'+parameter_s_keys[i])\n",
        "# namespace = parser.parse_args()\n",
        "# parameters=namespace.__dict__\n",
        "# locals().update(parameters)\n",
        "#parameters.pop('x',\"\") x notrequired\n",
        "#check_all(parameters)\n",
        "\n",
        "scrapped_data='scrapped_data.csv'\n",
        "#data=pd.read_csv(\"C:/Apache24/htdocs/EstatEagle/dataset/\"+scrapped_data)\n",
        "data=pd.read_csv(\"/content/\"+scrapped_data)\n",
        "data.columns\n",
        "\n",
        "parameter_s_keys=[\"distribution_type\",\"region\",\"estate_type\",\"nb_rooms\",\"nb_bedrooms\",\"space\",\"price\",\"duree_2possession\"]\n",
        "values=2,[1],[1],1,0,8,None,120\n",
        "parameters = dict(zip(parameter_s_keys, values))\n",
        "\n",
        "\n",
        "scrapped_parameters=parameters\n",
        "scrapped_parameters.pop(\"duree_2possession\")\n",
        "operation=dict(zip(parameter_s_keys, [\"==\",\"in\",\"in\",\"==\",\"==\",\">=\",\">=\",\"==\"]))\n",
        "query='region>0'+\" \".join(\" and \"+key+\" \"+operation[key]+\" \"+str(value) for key,value in scrapped_parameters.items() if value!=None)\n",
        "filtred=data.query(query)\n",
        "\n",
        "prix_moyen_2vente_m2='dvf-communes-2019.csv'\n",
        "#data_ref=pd.read_csv(\"C:/Apache24/htdocs/EstatEagle/dataset/\"+prix_moyen_2vente_m2)\n",
        "data_ref=pd.read_csv(os.getcwd()+'/'+prix_moyen_2vente_m2)\n",
        "\n",
        "lines=data_ref['ID;INSEE_COM;INSEE_DEP;INSEE_REG;CODE_EPCI;NOM_COM_M;POPULATION;Nb_Ventes;PrixMoyen_M2']\n",
        "\n",
        "info={}\n",
        "for i in lines:\n",
        "  prix=i[i.rfind(\";\")+1:]\n",
        "  info[i[18:23]]=int(prix) if (prix!='NA') else 0\n",
        "\n",
        "\n",
        "filtred['prix_2ref_moyen_m2']=[info.get(str(i),0) for i in filtred['estate_postalcode']]\n",
        "\n",
        "#filtred['market_price']=[np.where(int(info.get(str(i),'0'))*j  for i,j in zip(filtred['estate_postalcode'],filtred['space']) ]\n",
        "#second_query='market_price >+0.9*price'\n",
        "#second_filtred=filtred.query(second_query)\n",
        "\n",
        "### to test \n",
        "distribution_type,region,estate_type,nb_rooms,nb_bedrooms,surface,price,duree_2possession=2,1,1,1,0,8,None,120\n",
        "\n",
        "\n",
        "\n",
        "\n",
        "\"\"\"\n",
        "Bien inputs: \n",
        "        market_value,apport_complementaire,price,surface,estate_postalcode,url2post,prix_2ref_moyen_m2,val_loc_indicative_m2\n",
        "\n",
        "UI exec passed parameters: \n",
        "        distribution_type,region,estate_type,nb_rooms,nb_bedrooms,space,price,duree_2possession\n",
        "\n",
        "dataframe columns:(scrapped_data.csv + dvf-communes-2019) filtred.iterrows()\n",
        "        still exist:\n",
        "        ####################################price                                                             \n",
        "        estate_type                                                           \n",
        "        distribution_type                                                    \n",
        "        ####################################space                                                                 \n",
        "        id_solo                                                        \n",
        "        photos_nb                                                            \n",
        "        floor_nb                                                              \n",
        "        nb_rooms                                                              \n",
        "        nb_bedrooms                                                           \n",
        "        estate_postalcode                                                 \n",
        "        ####################################url2post              \n",
        "        region                                                                \n",
        "        ####################################prix_2ref_moyen_m2\n",
        "\"\"\"\n",
        "def final():\n",
        "  for i in filtred.iterrows():\n",
        "      yield (Bien(40000 ,i[1][0],i[1][3],i[1][9],i[1][10],i[1][12],22)).get_(duree_2possession), (Bien(40000 ,i[1][0],i[1][3],i[1][9],i[1][10],i[1][12],22)).worth_it()\n",
        "\n",
        "filtred['gain']=[i[0] for i in final()]\n",
        "filtred['worthit']=[i[1] for i in final()]"
      ],
      "execution_count": null,
      "outputs": []
    }
  ]
}