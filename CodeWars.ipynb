{
  "nbformat": 4,
  "nbformat_minor": 0,
  "metadata": {
    "colab": {
      "name": "CodeWars.ipynb",
      "provenance": [],
      "collapsed_sections": [],
      "include_colab_link": true
    },
    "kernelspec": {
      "display_name": "Python 3",
      "name": "python3"
    },
    "language_info": {
      "name": "python"
    }
  },
  "cells": [
    {
      "cell_type": "markdown",
      "metadata": {
        "id": "view-in-github",
        "colab_type": "text"
      },
      "source": [
        "<a href=\"https://colab.research.google.com/github/IheebM/HQ/blob/master/CodeWars.ipynb\" target=\"_parent\"><img src=\"https://colab.research.google.com/assets/colab-badge.svg\" alt=\"Open In Colab\"/></a>"
      ]
    },
    {
      "cell_type": "code",
      "metadata": {
        "id": "1KKkcen2uO_g"
      },
      "source": [
        "import subprocess,shlex,sys,glob,functools\n",
        "import numpy as np\n",
        "import matplotlib.pyplot as plt"
      ],
      "execution_count": 11,
      "outputs": []
    },
    {
      "cell_type": "code",
      "metadata": {
        "id": "_HgV0FOdUhQS"
      },
      "source": [
        "import scipy.integrate \n",
        "import random\n",
        "import matplotlib.pylab as pylab"
      ],
      "execution_count": 12,
      "outputs": []
    },
    {
      "cell_type": "code",
      "metadata": {
        "id": "Ge-xiZcb8H93"
      },
      "source": [
        "%load_ext google.colab.data_table\n",
        "%load_ext tensorboard"
      ],
      "execution_count": 13,
      "outputs": []
    },
    {
      "cell_type": "code",
      "metadata": {
        "id": "TTeqQAOsEfuA"
      },
      "source": [
        "#@title Python test framework master { display-mode: \"form\" }\n",
        "#@title\n",
        "from __future__ import print_function\n",
        "def expect(passed=None, message=None, allow_raise=False):\n",
        "    if passed:\n",
        "        display('PASSED', 'Test Passed')\n",
        "    else:\n",
        "        message = message or \"Value is not what was expected\"\n",
        "        display('FAILED', message)\n",
        "        if allow_raise:\n",
        "            raise AssertException(message)\n",
        "\n",
        "class test():\n",
        "  class AssertException(Exception):\n",
        "      pass\n",
        "\n",
        "\n",
        "  def format_message(message):\n",
        "      return message.replace(\"\\n\", \"<:LF:>\")\n",
        "\n",
        "\n",
        "  def display(type, message, label=\"\", mode=\"\"):\n",
        "      print(\"\\n<{0}:{1}:{2}>{3}\".format(\n",
        "          type.upper(), mode.upper(), label, format_message(message)))\n",
        "\n",
        "\n",
        "  def assert_equals(actual, expected, message=None, allow_raise=False):\n",
        "      equals_msg = \"{0} should equal {1}\".format(repr(actual), repr(expected))\n",
        "      if message is None:\n",
        "          message = equals_msg\n",
        "      else:\n",
        "          message += \": \" + equals_msg\n",
        "      expect(actual == expected, message, allow_raise)\n",
        "\n",
        "\n",
        "  def assert_not_equals(actual, expected, message=None, allow_raise=False):\n",
        "      r_actual, r_expected = repr(actual), repr(expected)\n",
        "      equals_msg = \"{0} should not equal {1}\".format(r_actual, r_expected)\n",
        "      if message is None:\n",
        "          message = equals_msg\n",
        "      else:\n",
        "          message += \": \" + equals_msg\n",
        "\n",
        "      expect(not (actual == expected), message, allow_raise)\n",
        "\n",
        "\n",
        "  def expect_error(message, function, exception=Exception):\n",
        "      passed = False\n",
        "      try:\n",
        "          function()\n",
        "      except exception:\n",
        "          passed = True\n",
        "      except Exception as e:\n",
        "          message = \"{}: {} should be {}\".format(message or \"Unexpected exception\", repr(e), repr(exception))\n",
        "      expect(passed, message)\n",
        "\n",
        "\n",
        "  def expect_no_error(message, function, exception=BaseException):\n",
        "      try:\n",
        "          function()\n",
        "      except exception as e:\n",
        "          fail(\"{}: {}\".format(message or \"Unexpected exception\", repr(e)))\n",
        "          return\n",
        "      except:\n",
        "          pass\n",
        "      pass_()\n",
        "\n",
        "\n",
        "  def pass_(): expect(True)\n",
        "\n",
        "\n",
        "  def fail(message): expect(False, message)\n",
        "\n",
        "\n",
        "  def assert_approx_equals(\n",
        "          actual, expected, margin=1e-9, message=None, allow_raise=False):\n",
        "      msg = \"{0} should be close to {1} with absolute or relative margin of {2}\"\n",
        "      equals_msg = msg.format(repr(actual), repr(expected), repr(margin))\n",
        "      if message is None:\n",
        "          message = equals_msg\n",
        "      else:\n",
        "          message += \": \" + equals_msg\n",
        "      div = max(abs(actual), abs(expected), 1)\n",
        "      expect(abs((actual - expected) / div) < margin, message, allow_raise)\n",
        "\n",
        "\n",
        "  '''\n",
        "  Usage:\n",
        "  @describe('describe text')\n",
        "  def describe1():\n",
        "      @it('it text')\n",
        "      def it1():\n",
        "          # some test cases...\n",
        "  '''\n",
        "\n",
        "\n",
        "  def _timed_block_factory(opening_text):\n",
        "      from timeit import default_timer as timer\n",
        "      from traceback import format_exception\n",
        "      from sys import exc_info\n",
        "\n",
        "      def _timed_block_decorator(s, before=None, after=None):\n",
        "          display(opening_text, s)\n",
        "\n",
        "          def wrapper(func):\n",
        "              if callable(before):\n",
        "                  before()\n",
        "              time = timer()\n",
        "              try:\n",
        "                  func()\n",
        "              except AssertionError as e:\n",
        "                  display('FAILED', str(e))\n",
        "              except Exception:\n",
        "                  fail('Unexpected exception raised')\n",
        "                  tb_str = ''.join(format_exception(*exc_info()))\n",
        "                  display('ERROR', tb_str)\n",
        "              display('COMPLETEDIN', '{:.2f}'.format((timer() - time) * 1000))\n",
        "              if callable(after):\n",
        "                  after()\n",
        "          return wrapper\n",
        "      return _timed_block_decorator\n",
        "\n",
        "\n",
        "  describe = _timed_block_factory('DESCRIBE')\n",
        "  it = _timed_block_factory('IT')\n",
        "\n",
        "\n",
        "  '''\n",
        "  Timeout utility\n",
        "  Usage:\n",
        "  @timeout(sec)\n",
        "  def some_t\n",
        "\n",
        "      any code block...\n",
        "  Note: Timeout value can be a float.\n",
        "  '''\n",
        "\n",
        "\n",
        "  def timeout(sec):\n",
        "      def wrapper(func):\n",
        "          from multiprocessing import Process\n",
        "          msg = 'Should not throw any exceptions inside timeout'\n",
        "\n",
        "          def wrapped():\n",
        "              expect_no_error(msg, func)\n",
        "          process = Process(target=wrapped)\n",
        "          process.start()\n",
        "          process.join(sec)\n",
        "          if process.is_alive():\n",
        "              fail('Exceeded time limit of {:.3f} seconds'.format(sec))\n",
        "              process.terminate()\n",
        "              process.join()\n",
        "      return wrapper\n"
      ],
      "execution_count": 14,
      "outputs": []
    },
    {
      "cell_type": "code",
      "metadata": {
        "id": "2SuZvJp0b9C1"
      },
      "source": [
        "import time\n",
        "def running_time(fun,*argv):\n",
        "  start_time = time.time()\n",
        "  print(fun(*argv),\"--- %s seconds ---\" % (time.time() - start_time))"
      ],
      "execution_count": 15,
      "outputs": []
    },
    {
      "cell_type": "markdown",
      "metadata": {
        "id": "3GQu5tWnv0AS"
      },
      "source": [
        "# **Sort list without using list.sort**"
      ]
    },
    {
      "cell_type": "code",
      "metadata": {
        "id": "f59boWQtvwPn"
      },
      "source": [
        "def bubbleSort(t):\n",
        "    i,sorted=0,False\n",
        "    while (i<len(t)-1 and not sorted):\n",
        "        sorted,j=True,0\n",
        "        while (j<len(t)-i-1):\n",
        "            if (t[j]>t[j+1]):\n",
        "                t[j],t[j+1]=t[j+1],t[j]\n",
        "                sorted=False\n",
        "            j+=1\n",
        "        i+=1\n",
        "    return t\n",
        "####################################################################################################################################################################################################################################################\n",
        "def combSort(t):\n",
        "    gap,sorted=len(t)-1,False\n",
        "    while(not sorted):\n",
        "        gap=int(gap/1.3)\n",
        "        if(gap<=1):\n",
        "            gap,sorted=int(max(gap,1)),True\n",
        "        j=0\n",
        "        while(j<len(t)-gap):\n",
        "            if (t[j]>t[j+gap]):\n",
        "                t[j],t[j+gap]=t[j+gap],t[j]\n",
        "                sorted=False\n",
        "            j+=1\n",
        "    return t\n",
        "\n",
        "####################################################################################################################################################################################################################################################\n",
        "def partition(array, start, end):\n",
        "    pivot = array[start]\n",
        "    low = start + 1\n",
        "    high = end\n",
        "    while True:\n",
        "        while low <= high and array[high] >= pivot:\n",
        "            high = high - 1\n",
        "        while low <= high and array[low] <= pivot:\n",
        "            low = low + 1\n",
        "        if low <= high:\n",
        "            array[low], array[high] = array[high], array[low]\n",
        "        else:\n",
        "            break\n",
        "    array[start], array[high] = array[high], array[start]\n",
        "    return high\n",
        "def quick_sort(array, start, end):\n",
        "    if start >= end:\n",
        "        return\n",
        "    p = partition(array, start, end)\n",
        "    quick_sort(array, start, p-1)\n",
        "    quick_sort(array, p+1, end)"
      ],
      "execution_count": null,
      "outputs": []
    },
    {
      "cell_type": "markdown",
      "metadata": {
        "id": "YUUZZ_uHGZDR"
      },
      "source": [
        "**Replace With Alphabet Position**\n",
        "\n",
        "Given a string, replace every letter with its position in the alphabet. (ignore non alphabetic characters)"
      ]
    },
    {
      "cell_type": "code",
      "metadata": {
        "id": "4MRY9GTBxz40"
      },
      "source": [
        "# def alphabet_position1(text):\n",
        "#     print(functools.reduce(lambda x,y:x+' '+str(ord(y.lower())-96), list(text)))\n",
        "def alphabet_position(text):\n",
        "    text=text.lower()\n",
        "    if (len(text)>1):\n",
        "        return alphabet_position(text[:-1:])+' '+str(ord(text[-1])-96) if (text[-1]).isalpha() else alphabet_position(text[:-1:])\n",
        "    else :\n",
        "        return str(ord(text[-1])-96) if (text[-1]).isalpha() else ''"
      ],
      "execution_count": null,
      "outputs": []
    },
    {
      "cell_type": "code",
      "metadata": {
        "id": "Fh0_dXl3Ge6U"
      },
      "source": [
        "#@title Sample Tests { display-mode: \"form\" }\n",
        "from random import randint\n",
        "test.assert_equals(alphabet_position(\"The sunset sets at twelve o' clock.\"), \"20 8 5 19 21 14 19 5 20 19 5 20 19 1 20 20 23 5 12 22 5 15 3 12 15 3 11\")\n",
        "test.assert_equals(alphabet_position(\"The narwhal bacons at midnight.\"), \"20 8 5 14 1 18 23 8 1 12 2 1 3 15 14 19 1 20 13 9 4 14 9 7 8 20\")\n",
        "\n",
        "number_test = \"\"\n",
        "for item in range(10):\n",
        "    number_test += str(randint(1, 9))\n",
        "test.assert_equals(alphabet_position(number_test), \"\")"
      ],
      "execution_count": null,
      "outputs": []
    },
    {
      "cell_type": "markdown",
      "metadata": {
        "id": "oWHcAZjLkKwi"
      },
      "source": [
        "**Find The Parity Outlier**\n",
        "\n",
        "You are given an array (which will have a length of at least 3, but could be very large) containing integers. The array is either entirely comprised of odd integers or entirely comprised of even integers except for a single integer N. Write a method that takes the array as an argument and returns this \"outlier\" N."
      ]
    },
    {
      "cell_type": "code",
      "metadata": {
        "id": "klfh7Bbd9H5y"
      },
      "source": [
        "def find_outlier(integers):\n",
        "    mod2=lambda x:x%2\n",
        "    regular=np.where(mod2(integers[0])+mod2(integers[1])+mod2(integers[2])<2,0,1)\n",
        "    i=0\n",
        "    while ((integers[i])%2==regular):\n",
        "        i+=1\n",
        "    return integers[i]"
      ],
      "execution_count": null,
      "outputs": []
    },
    {
      "cell_type": "code",
      "metadata": {
        "id": "FJzsYlJOGgOo"
      },
      "source": [
        "#@title Sample Tests { display-mode: \"form\" }\n",
        "test.assert_equals(find_outlier([2, 4, 6, 8, 10, 3]), 3)\n",
        "test.assert_equals(find_outlier([2, 4, 0, 100, 4, 11, 2602, 36]), 11)\n",
        "test.assert_equals(find_outlier([160, 3, 1719, 19, 11, 13, -21]), 160)"
      ],
      "execution_count": null,
      "outputs": []
    },
    {
      "cell_type": "markdown",
      "metadata": {
        "id": "9qmut-i3OGek"
      },
      "source": [
        "**Pig Latin**\n",
        "\n",
        "Move the first letter of each word to the end of it, then add \"ay\" to the end of the word. Leave punctuation marks untouched."
      ]
    },
    {
      "cell_type": "code",
      "metadata": {
        "id": "MP4PR24Z1sXk"
      },
      "source": [
        "def pig_it(text):\n",
        "  return  \" \".join(i[1::]+i[0]+\"ay\" if i.isalpha() else i for i in list(text.split(' ')))  "
      ],
      "execution_count": null,
      "outputs": []
    },
    {
      "cell_type": "code",
      "metadata": {
        "id": "io-Wq8wUGhcX"
      },
      "source": [
        "#@title Sample Tests { display-mode: \"form\" }\n",
        "test.assert_equals(pig_it('Pig latin is cool'),'igPay atinlay siay oolcay')\n",
        "test.assert_equals(pig_it('This is my string'),'hisTay siay ymay tringsay')"
      ],
      "execution_count": null,
      "outputs": []
    },
    {
      "cell_type": "markdown",
      "metadata": {
        "id": "4DRfsC_m_D4A"
      },
      "source": [
        "**Is a number prime?**\n",
        "\n",
        "Define a function that takes one integer argument(positive or negative) and returns logical value true or false depending on if the integer is a prime."
      ]
    },
    {
      "cell_type": "code",
      "metadata": {
        "id": "jDeDWbpmXIBH"
      },
      "source": [
        "def is_prime(num):\n",
        "    if (num<2 or num%2==0):\n",
        "        return False or num==2\n",
        "    for i in range(3,np.int(np.sqrt(np.float(num)))+1,2): # Explicit float casting to handle large numbers \n",
        "        if (num%i==0):\n",
        "            return False\n",
        "    return True"
      ],
      "execution_count": null,
      "outputs": []
    },
    {
      "cell_type": "code",
      "metadata": {
        "colab": {
          "base_uri": "https://localhost:8080/"
        },
        "id": "DnLZyBhJNsTz",
        "outputId": "15cdd3b7-bdb1-4fe8-a08b-b36afa2de987"
      },
      "source": [
        "largeNotPrime=238962445015\n",
        "Product2LargePrime=8843789*1099859\n",
        "\n",
        "running_time(is_prime,largePrime)\n",
        "running_time(is_prime,largeNotPrime)\n",
        "running_time(is_prime,Product2LargePrime)"
      ],
      "execution_count": null,
      "outputs": [
        {
          "output_type": "stream",
          "text": [
            "True --- 0.041315555572509766 seconds ---\n",
            "False --- 3.8623809814453125e-05 seconds ---\n",
            "False --- 0.07434391975402832 seconds ---\n"
          ],
          "name": "stdout"
        }
      ]
    },
    {
      "cell_type": "code",
      "metadata": {
        "id": "Rj0wvO2eFu5V"
      },
      "source": [
        "import random\n",
        "\n",
        "def even_odd(n):\n",
        "    s, d = 0, n\n",
        "    while d % 2 == 0:\n",
        "          s += 1\n",
        "          d >>= 1\n",
        "    return s, d\n",
        "\n",
        "def Miller_Rabin(a, p):\n",
        "    s, d = even_odd(p-1)\n",
        "    a = pow(a, d, p)\n",
        "    if a == 1: return True\n",
        "    for i in range(s):\n",
        "        if a == p-1: return True\n",
        "        a = pow(a, 2, p)\n",
        "    return False\n",
        "\n",
        "def is_prime_Miller_Rabin(p):\n",
        "    if p == 2: return True\n",
        "    if p <= 1 or p % 2 == 0: return False\n",
        "    return all(Miller_Rabin(random.randint(2,p-1),p) for _ in range(40))\n",
        "is_prime_Miller_Rabin(7193460161740708249)"
      ],
      "execution_count": null,
      "outputs": []
    },
    {
      "cell_type": "code",
      "metadata": {
        "id": "s2XZMRjpD106"
      },
      "source": [
        "#@title Sample Tests { display-mode: \"form\" }\n",
        "@test.it(\"Basic tests\")\n",
        "def basic_tests():\n",
        "    test.assert_equals(is_prime(0),  False, \"0  is not prime\")\n",
        "    test.assert_equals(is_prime(1),  False, \"1  is not prime\")\n",
        "    test.assert_equals(is_prime(2),  True, \"2  is prime\")\n",
        "    test.assert_equals(is_prime(73), True, \"73 is prime\")\n",
        "    test.assert_equals(is_prime(75), False, \"75 is not prime\")\n",
        "    test.assert_equals(is_prime(-1), False, \"-1 is not prime\")\n",
        "\n",
        "\n",
        "@test.it(\"Test prime\")\n",
        "def test_prime():\n",
        "    test.assert_equals(is_prime(3),  True, \"3  is prime\");\n",
        "    test.assert_equals(is_prime(5),  True, \"5  is prime\");\n",
        "    test.assert_equals(is_prime(7),  True, \"7  is prime\");\n",
        "    test.assert_equals(is_prime(41), True, \"41 is prime\");\n",
        "    test.assert_equals(is_prime(5099), True, \"5099 is prime\");\n",
        "    \n",
        "@test.it(\"Test not prime\")\n",
        "def test_not_prime():\n",
        "    test.assert_equals(is_prime(4),  False, \"4  is not prime\");\n",
        "    test.assert_equals(is_prime(6),  False, \"6  is not prime\");\n",
        "    test.assert_equals(is_prime(8),  False, \"8  is not prime\");\n",
        "    test.assert_equals(is_prime(9), False, \"9 is not prime\");\n",
        "    test.assert_equals(is_prime(45), False, \"45 is not prime\");\n",
        "    test.assert_equals(is_prime(-5), False, \"-5 is not prime\");\n",
        "    test.assert_equals(is_prime(-8), False, \"-8 is not prime\");\n",
        "    test.assert_equals(is_prime(-41), False, \"-41 is not prime\");"
      ],
      "execution_count": null,
      "outputs": []
    },
    {
      "cell_type": "markdown",
      "metadata": {
        "id": "8g4nuRk6An-_"
      },
      "source": [
        "# **The GCF (Greatest Common Factor) of any two numbers**"
      ]
    },
    {
      "cell_type": "code",
      "metadata": {
        "id": "masWXSC3AkxN"
      },
      "source": [
        "def find_GCF(n1,n2):\n",
        "  return find_GCF(min(n1,n2),max(n1,n2)-min(n1,n2)) if n1!=n2 else n1\n",
        "def find_GCF(a, b):\n",
        "    return find_GCF(b,a%b) if b else a"
      ],
      "execution_count": null,
      "outputs": []
    },
    {
      "cell_type": "code",
      "metadata": {
        "cellView": "form",
        "id": "sDAMyF-7zfj1"
      },
      "source": [
        "#@title Sample Tests { vertical-output: true }\n",
        "test.assert_equals(find_GCF(2, 4), 2)\n",
        "test.assert_equals(find_GCF(8,20), 4);\n",
        "test.assert_equals(find_GCF(5,13), 1);\n",
        "test.assert_equals(find_GCF(100,100), 100);"
      ],
      "execution_count": null,
      "outputs": []
    },
    {
      "cell_type": "markdown",
      "metadata": {
        "id": "khqZg-Su2H4V"
      },
      "source": [
        "# **Get the numbers from given GCD sum**\n",
        "Given the sum and gcd of two numbers, return those two numbers in ascending order."
      ]
    },
    {
      "cell_type": "code",
      "metadata": {
        "id": "1E6oMA5g3BLj"
      },
      "source": [
        "def find_GCF(a, b):\n",
        "    return find_GCF(b,a%b) if b else a\n",
        "\n",
        "def solve(sum,gcf,index=0):\n",
        "    return solve(sum-1,gcf,index+1) if (find_GCF(sum,index)!=gcf and index<=sum) else ((index,sum) if index<=sum else -1)\n",
        "\n",
        "def solve1(sum,gcf):\n",
        "    i=1\n",
        "    while(find_GCF(sum-i,i)!=gcf and i<=sum/2):\n",
        "        i+=1\n",
        "    return (i,sum-i) if i<=sum/2 else -1\n",
        "\n"
      ],
      "execution_count": null,
      "outputs": []
    },
    {
      "cell_type": "code",
      "metadata": {
        "cellView": "form",
        "id": "ULuwCbdv2HQi"
      },
      "source": [
        "#@title Sample Tests { vertical-output: true }\n",
        "test.assert_equals(solve(6,3), (3,3))\n",
        "test.assert_equals(solve(8,2), (2,6))\n",
        "test.assert_equals(solve(10,3), -1)\n",
        "test.assert_equals(solve(12,4), (4,8))\n",
        "test.assert_equals(solve(12,5), -1)   "
      ],
      "execution_count": null,
      "outputs": []
    },
    {
      "cell_type": "markdown",
      "metadata": {
        "id": "3V1KqwiAJEDV"
      },
      "source": [
        "\n",
        "**Multiples of 3 or 5 below the number passed in**\n",
        "\n",
        "If the number is negative, return 0.\n",
        "If the number is a multiple of both 3 and 5, only count it once."
      ]
    },
    {
      "cell_type": "code",
      "metadata": {
        "id": "mP9r28LHI3xU"
      },
      "source": [
        "def solution(number):\n",
        "    return (int)(sum(np.concatenate((np.arange(3,number,3) , np.arange(5,number,5), -(np.arange(5,number,5)[2::3])),axis=0)))  if number>3 else 0\n",
        "def solution1(number):\n",
        "  return sum(x for x in range(number) if not (x%3 and x%5))"
      ],
      "execution_count": null,
      "outputs": []
    },
    {
      "cell_type": "code",
      "metadata": {
        "id": "ZimD9NAxJbDL"
      },
      "source": [
        "#@title Sample Tests { display-mode: \"form\" }\n",
        "\n",
        "test.assert_equals(solution(4), 3)\n",
        "\n",
        "\n",
        "test.assert_equals(solution(6), 8)\n",
        "\n",
        "\n",
        "test.assert_equals(solution(16), 60)\n",
        "\n",
        "\n",
        "test.assert_equals(solution(3), 0)\n",
        "\n",
        "\n",
        "test.assert_equals(solution(5), 3)\n",
        "\n",
        "\n",
        "test.assert_equals(solution(15), 45)\n",
        "\n",
        "\n",
        "test.assert_equals(solution(0), 0)\n",
        "\n",
        "\n",
        "test.assert_equals(solution(-1), 0)\n",
        "\n",
        "\n",
        "test.assert_equals(solution(10), 23)\n",
        "\n",
        "\n",
        "test.assert_equals(solution(20), 78)\n",
        "\n",
        "\n",
        "test.assert_equals(solution(200), 9168)\n"
      ],
      "execution_count": null,
      "outputs": []
    },
    {
      "cell_type": "markdown",
      "metadata": {
        "id": "yrlujhO01UxI"
      },
      "source": [
        "**Calculating with Functions**\n",
        "\n",
        "seven(times(five())) # must return 35"
      ]
    },
    {
      "cell_type": "code",
      "metadata": {
        "id": "9URUCZm3i-iu"
      },
      "source": [
        "identity=lambda a:a\n",
        "number= lambda i:lambda f=identity:f(i)\n",
        "zero, one, two, three, four, five, six, seven, eight, nine = map(number, range(10))\n",
        "plus = lambda x: lambda y: y + x\n",
        "minus = lambda x: lambda y: y - x\n",
        "times = lambda x: lambda y: y * x\n",
        "divided_by = lambda x: lambda y: y // x\n"
      ],
      "execution_count": null,
      "outputs": []
    },
    {
      "cell_type": "code",
      "metadata": {
        "id": "NCgLvwFRpwMn"
      },
      "source": [
        "#@title Sample Tests { vertical-output: true, display-mode: \"form\" }\n",
        "test.describe('Basic Tests')\n",
        "test.assert_equals(seven(times(five())), 35)\n",
        "test.assert_equals(four(plus(nine())), 13)\n",
        "test.assert_equals(eight(minus(three())), 5)\n",
        "test.assert_equals(six(divided_by(two())), 3)"
      ],
      "execution_count": null,
      "outputs": []
    },
    {
      "cell_type": "markdown",
      "metadata": {
        "id": "m3aPwMgHw6on"
      },
      "source": [
        "**Valid Braces**\n",
        "\n",
        "An input is a nonempty string, and it will only consist of parentheses, brackets and curly braces: ()[]{}\n",
        "\n",
        "A string of braces is considered valid if all braces are matched with the correct brace."
      ]
    },
    {
      "cell_type": "code",
      "metadata": {
        "colab": {
          "base_uri": "https://localhost:8080/",
          "height": 35
        },
        "id": "Mq9noUgow7CP",
        "outputId": "0873e2be-5f98-4ffb-d5f7-ad291cd41f92"
      },
      "source": [
        "# First solution\n",
        "def validBraces(string):\n",
        "    matched = {\"(\": \")\", \"[\": \"]\", \"{\": \"}\"}\n",
        "    closing=matched.values()\n",
        "    accumulated=string[0]\n",
        "    for i in string:\n",
        "      if ((i in closing) and matched[accumulated[-1]]!=curChr):\n",
        "\n",
        "\n",
        "    accumulated,current,length=string[0],1,len(string)\n",
        "    while (current<length):\n",
        "        curChr=string[current]\n",
        "        if :\n",
        "          return False\n",
        "        current+=1\n",
        "        if (accumulated==\"\" or matched[accumulated[-1]] in matched.values()):\n",
        "            accumulated+=curChr\n",
        "        else:\n",
        "            accumulated=accumulated[:-1]\n",
        "    return accumulated==\"\"\n",
        "# Second solution\n",
        "def validBraces1(string):\n",
        "    braces = {\"(\": \")\", \"[\": \"]\"}\n",
        "    stack = []\n",
        "    for character in string:\n",
        "        if character in braces.keys():\n",
        "            stack.append(character)\n",
        "        else:\n",
        "            if len(stack) == 0 or bractextstack.pop()] != character:\n",
        "                return False\n",
        "    return len(stack) == 0 \n",
        "\"\"\"\n",
        "tree -> child or brother\n",
        "string walk\n",
        "math +-\n",
        "from inside 2,4,6\n",
        "\"\"\""
      ],
      "execution_count": null,
      "outputs": [
        {
          "output_type": "execute_result",
          "data": {
            "application/vnd.google.colaboratory.intrinsic+json": {
              "type": "string"
            },
            "text/plain": [
              "'\\ntree -> child or brother\\nstring walk\\nmath +-\\nfrom inside 2,4,6\\n'"
            ]
          },
          "metadata": {},
          "execution_count": 14
        }
      ]
    },
    {
      "cell_type": "code",
      "metadata": {
        "id": "jGbeiKPCbYwF"
      },
      "source": [
        "running_time(validBraces1,1000*'([])')\n",
        "running_time(validBraces,1000*'([])')"
      ],
      "execution_count": null,
      "outputs": []
    },
    {
      "cell_type": "code",
      "metadata": {
        "colab": {
          "base_uri": "https://localhost:8080/"
        },
        "id": "e80O2Sq-KvTI",
        "outputId": "39aeebf4-07fc-4955-8a47-a5b0c55da666"
      },
      "source": [
        "running_time(validBraces1,'([])')\n",
        "running_time(validBraces,'([])')\n",
        "\n",
        "running_time(validBraces1,')'+10000000000000*'([])')\n",
        "running_time(validBraces,')'+100*'([])')\n",
        "\n",
        "running_time(validBraces1,'[({})](][({})](][({})](]')\n",
        "running_time(validBraces,'[({})](][({})](][({})](]')"
      ],
      "execution_count": null,
      "outputs": [
        {
          "output_type": "stream",
          "text": [
            "True --- 1.1444091796875e-05 seconds ---\n",
            "True --- 1.0728836059570312e-05 seconds ---\n",
            "False --- 5.9604644775390625e-06 seconds ---\n",
            "False --- 0.0002105236053466797 seconds ---\n",
            "False --- 9.5367431640625e-06 seconds ---\n",
            "False --- 1.6927719116210938e-05 seconds ---\n"
          ],
          "name": "stdout"
        }
      ]
    },
    {
      "cell_type": "code",
      "metadata": {
        "id": "zxknvhU92xxf"
      },
      "source": [
        "#@title Sample Tests { vertical-output: true, display-mode: \"form\" }\n",
        "test.assert_equals(validBraces(\"()\"), True);\n",
        "test.assert_equals(validBraces(\"[(])\"), False);"
      ],
      "execution_count": null,
      "outputs": []
    },
    {
      "cell_type": "markdown",
      "metadata": {
        "id": "VIG3naXJmdTb"
      },
      "source": [
        "# **Count the number of Duplicates**\n",
        "\n",
        "A function that returns the count of distinct case-insensitive alphabetic characters and numeric digits that occur more than once in the input string. \n",
        "e.g. \"indivisibility\" -> 1 and \"Indivisibilities\" -> 2"
      ]
    },
    {
      "cell_type": "code",
      "metadata": {
        "id": "9eGWx5ZJ0Lwl"
      },
      "source": [
        "guard={'0': 0,'1': 0,'2': 0,'3': 0,'4': 0,'5': 0,'6': 0,'7': 0,'8': 0,'9': 0,'a': 0,'b': 0,'c': 0,'d': 0,'e': 0,'f': 0,'g': 0,'h': 0,'i': 0,'j': 0,'k': 0,'l': 0,'m': 0,'n': 0,'o': 0,'p': 0,'q': 0,'r': 0,'s': 0,'t': 0,'u': 0,'v': 0,'w': 0,'x': 0,'y': 0,'z': 0}\n",
        "def duplicate_count1(text):\n",
        "    return sum(1 for i in guard.keys() if text.lower().count(i)>1 )\n",
        "def duplicate_count(text):\n",
        "    for i in text.lower():\n",
        "        if (guard.get(i)==None):\n",
        "            pass\n",
        "        elif (guard[i]==1):\n",
        "            guard.pop(i) \n",
        "        else:\n",
        "            guard[i]+=1\n",
        "    return 36-len(guard)\n",
        "'''\n",
        "Two bits per letter to store its state\n",
        "count(i), ∀i€{A..Z}\n",
        "Dict(i:{0,1}), ∀i€{A..Z} --> Drop i when found for the second time: text with card(different letter) is high, and the letters are redundant\n",
        "Dict --> Add i when found, i€{A..Z}: text with card(different letter) is low\n",
        "'''"
      ],
      "execution_count": null,
      "outputs": []
    },
    {
      "cell_type": "code",
      "metadata": {
        "id": "5TWKPv_f0MA9"
      },
      "source": [
        "#@title Sample Tests { vertical-output: true, display-mode: \"form\" }\n",
        "@test.describe(\"Fixed Tests\")\n",
        "def fixed_tests():\n",
        "    @test.it(\"Basic Tests\")\n",
        "    def basic_tests():\n",
        "        test.assert_equals(duplicate_count(\"\"), 0)\n",
        "        test.assert_equals(duplicate_count(\"abcde\"), 0)\n",
        "        test.assert_equals(duplicate_count(\"abcdeaa\"), 1)\n",
        "        test.assert_equals(duplicate_count(\"abcdeaB\"), 2)\n",
        "        test.assert_equals(duplicate_count(\"Indivisibilities\"), 2)"
      ],
      "execution_count": null,
      "outputs": []
    },
    {
      "cell_type": "markdown",
      "metadata": {
        "id": "rolsF_Au0QE3"
      },
      "source": [
        "# **The observed PIN**\n",
        "\n",
        "Input: observed PIN with a length of 1 to 8 digits.\n",
        "\n",
        "Each of the digits could actually be another adjacent digit (horizontally or vertically, but not diagonally)\n",
        "\n",
        "Output: all possible PINs\n",
        "\n",
        "The keypad has the following layout:\n",
        "```\n",
        "┌───┬───┬───┐\n",
        "│ 1 │ 2 │ 3 │\n",
        "├───┼───┼───┤\n",
        "│ 4 │ 5 │ 6 │\n",
        "├───┼───┼───┤\n",
        "│ 7 │ 8 │ 9 │\n",
        "└───┼───┼───┘\n",
        "    │ 0 │\n",
        "    └───┘\n",
        "```\n"
      ]
    },
    {
      "cell_type": "code",
      "metadata": {
        "id": "X6F2_odtAAeL"
      },
      "source": [
        "variations={'0': ['0', '8'],'1': ['1', '2', '4'],'2': ['2', '1', '3', '5'],'3': ['3', '2', '6'],'4': ['4', '5', '1', '7'],'5': ['5', '4', '6', '2', '8'], '6': ['6', '5', '3', '9'],'7': ['7', '8', '4'],'8': ['8', '7', '9', '5', '0'],'9': ['9', '8', '6']}\n",
        "combine=lambda l1,l2:list((\" \".join(i+j for i in l1 for j in l2)).split(\" \"))\n",
        "def get_pins(observed):\n",
        "    if(len(observed)==1):\n",
        "        return variations[(observed[0])]\n",
        "    else :\n",
        "        return combine(variations[(observed[0])],get_pins(observed[1:]))\n",
        "# def variations_generator(l):\n",
        "#     variations={\"0\":[\"0\",\"8\"]}\n",
        "#     for i in range(len(l)-1):\n",
        "#         for j in range(len(l[i])):\n",
        "#             values=[l[i][j]]\n",
        "#             if ((j-1)>=0):  \n",
        "#                 values.append(l[i][j-1])\n",
        "#             if (j<(len(l[i])-1)):  \n",
        "#                 values.append(l[i][j+1])\n",
        "#             if ((i-1)>=0 and j<len(l[i-1])):  \n",
        "#                 values.append(l[i-1][j])\n",
        "#             if ((i+1)<len(l) and j<len(l[i+1]) and l[i+1][j]!=None):  \n",
        "#                 values.append(l[i+1][j])     \n",
        "#             variations.update({l[i][j]:values})\n",
        "#     return variations\n",
        "# l=[[\"1\",\"2\",\"3\"],[\"4\",\"5\",\"6\"],[\"7\",\"8\",\"9\"],[None,\"0\"]]\n",
        "# variations=variations_generator(l) "
      ],
      "execution_count": null,
      "outputs": []
    },
    {
      "cell_type": "code",
      "metadata": {
        "id": "vQzmg4PG_jgP"
      },
      "source": [
        "from itertools import product\n",
        "\n",
        "ADJACENTS = ('08', '124', '2135', '326', '4157', '52468', '6359', '748', '85790', '968')\n",
        "\n",
        "def get_pins(observed):\n",
        "    return [''.join(p) for p in product(*(ADJACENTS[int(d)] for d in observed))]"
      ],
      "execution_count": null,
      "outputs": []
    },
    {
      "cell_type": "code",
      "metadata": {
        "id": "P5lVVr6_04ip"
      },
      "source": [
        "#@title Sample Tests { vertical-output: true, display-mode: \"form\" }\n",
        "test.describe('example tests')\n",
        "expectations = [('8', ['5','7','8','9','0']),\n",
        "                ('11',[\"11\", \"22\", \"44\", \"12\", \"21\", \"14\", \"41\", \"24\", \"42\"]),\n",
        "                ('369', [\"339\",\"366\",\"399\",\"658\",\"636\",\"258\",\"268\",\"669\",\"668\",\"266\",\"369\",\"398\",\"256\",\"296\",\"259\",\"368\",\"638\",\"396\",\"238\",\"356\",\"659\",\"639\",\"666\",\"359\",\"336\",\"299\",\"338\",\"696\",\"269\",\"358\",\"656\",\"698\",\"699\",\"298\",\"236\",\"239\"])]\n",
        "\n",
        "for tup in expectations:\n",
        "    test.assert_equals(sorted(get_pins(tup[0])), sorted(tup[1]), 'PIN: ' + tup[0])"
      ],
      "execution_count": null,
      "outputs": []
    },
    {
      "cell_type": "markdown",
      "metadata": {
        "id": "_T1S4k2m6uOn"
      },
      "source": [
        "\n",
        "# **Pick peaks**\n",
        "A function that returns the positions and the values of the \"peaks\" (or local maxima) of a numeric array. {pos: [], peaks: []}\n",
        "\n",
        "The first and last elements of the array will not be considered as peaks \n",
        "\n",
        "In case of a plateau-peak, only return the position and value of the beginning of the plateau."
      ]
    },
    {
      "cell_type": "code",
      "metadata": {
        "id": "Ts86FC7-6v_s"
      },
      "source": [
        "def pick_peaks(arr):\n",
        "    peaks={'pos': [], 'peaks': []}\n",
        "    i=1\n",
        "    while (i<len(arr)-1):\n",
        "        startingIndex=i\n",
        "        while (i<len(arr)-2 and arr[i]==arr[i+1]):i+=1\n",
        "        if (arr[i]>arr[startingIndex-1] and arr[i]>arr[i+1]) :\n",
        "            (peaks['pos']).append(startingIndex)\n",
        "            (peaks['peaks']).append(arr[startingIndex])\n",
        "        i+=1\n",
        "    return peaks\n",
        "\n"
      ],
      "execution_count": null,
      "outputs": []
    },
    {
      "cell_type": "code",
      "metadata": {
        "id": "toCivwww78DB"
      },
      "source": [
        "#@title Sample Tests { vertical-output: true, display-mode: \"form\" }\n",
        "test.assert_equals(pick_peaks([1,2,3,6,4,1,2,3,2,1]), {\"pos\":[3,7], \"peaks\":[6,3]})\n",
        "test.assert_equals(pick_peaks([3,2,3,6,4,1,2,3,2,1,2,3]), {\"pos\":[3,7], \"peaks\":[6,3]})\n",
        "test.assert_equals(pick_peaks([3,2,3,6,4,1,2,3,2,1,2,2,2,1]), {\"pos\":[3,7,10], \"peaks\":[6,3,2]})\n",
        "test.assert_equals(pick_peaks([2,1,3,1,2,2,2,2,1]), {\"pos\":[2,4], \"peaks\":[3,2]})\n",
        "test.assert_equals(pick_peaks([2,1,3,1,2,2,2,2]), {\"pos\":[2], \"peaks\":[3]})\n",
        "test.assert_equals(pick_peaks([2,1,3,2,2,2,2,5,6]), {\"pos\":[2], \"peaks\":[3]})\n",
        "test.assert_equals(pick_peaks([2,1,3,2,2,2,2,1]), {\"pos\":[2], \"peaks\":[3]})\n",
        "test.assert_equals(pick_peaks([1,2,5,4,3,2,3,6,4,1,2,3,3,4,5,3,2,1,2,3,5,5,4,3]), {\"pos\":[2,7,14,20], \"peaks\":[5,6,5,5]})\n",
        "test.assert_equals(pick_peaks([]),{\"pos\":[],\"peaks\":[]})\n",
        "test.assert_equals(pick_peaks([1,1,1,1]),{\"pos\":[],\"peaks\":[]})"
      ],
      "execution_count": null,
      "outputs": []
    },
    {
      "cell_type": "markdown",
      "metadata": {
        "id": "Co-9IW_uqydG"
      },
      "source": [
        "# **A Chain adding function**\n",
        "\n",
        "A function that will add numbers together when called in succession\n",
        "\n",
        "add(1)(2)(3)(4)(5); // 15"
      ]
    },
    {
      "cell_type": "code",
      "metadata": {
        "id": "TTzYO-EkYVn6"
      },
      "source": [
        "class add(int):\n",
        "    def __call__(self,n):\n",
        "        return add(self+n)\n",
        "# def add(x=0,cnt=0,opcnt=0):\n",
        "#       return lambda y: add(x+y,cnt+1) if cnt<opcnt else x"
      ],
      "execution_count": null,
      "outputs": []
    },
    {
      "cell_type": "code",
      "metadata": {
        "id": "j8ACIcAWbUGm"
      },
      "source": [
        "#@title Sample Tests { vertical-output: true, display-mode: \"form\" }\n",
        "test.assert_equals(add(1), 1)\n",
        "test.assert_equals(add(1)(2), 3)\n",
        "test.assert_equals(add(1)(2)(3), 6)"
      ],
      "execution_count": null,
      "outputs": []
    },
    {
      "cell_type": "markdown",
      "metadata": {
        "id": "7-98zag0Zicz"
      },
      "source": [
        "# **Pete, the baker**\n",
        "\n",
        "how many cakes could be baked with a certain recipe? \n",
        "Input: an object recipe and n object available ingredients"
      ]
    },
    {
      "cell_type": "code",
      "metadata": {
        "id": "ogKxSIRxZKdZ"
      },
      "source": [
        "def cakes(recipe, available):\n",
        "    return min (available.get(key,0) // value for key,value in recipe.items() )\n",
        "\n",
        "def cakes1(recipe, available):\n",
        "    if not ( recipe.keys() <= available.keys() ):\n",
        "        return 0\n",
        "    lastkey,lastvalue=recipe.popitem()\n",
        "    count=available[lastkey] // lastvalue \n",
        "    for key,value in recipe.items():\n",
        "        if ((available[key] / value) < count) : \n",
        "            count=(available[key] // value)\n",
        "    return count"
      ],
      "execution_count": null,
      "outputs": []
    },
    {
      "cell_type": "code",
      "metadata": {
        "id": "mLtSYvGbbccS"
      },
      "source": [
        "#@title Sample Tests { vertical-output: true, display-mode: \"form\" }\n",
        "\n",
        "recipe = {\"flour\": 500, \"sugar\": 200, \"eggs\": 1}\n",
        "available = {\"flour\": 1200, \"sugar\": 1200, \"eggs\": 5, \"milk\": 200}\n",
        "test.assert_equals(cakes(recipe, available), 2, 'example #1')\n",
        "\n",
        "recipe = {\"apples\": 3, \"flour\": 300, \"sugar\": 150, \"milk\": 100, \"oil\": 100}\n",
        "available = {\"sugar\": 500, \"flour\": 2000, \"milk\": 2000}\n",
        "test.assert_equals(cakes(recipe, available), 0, 'example #2')"
      ],
      "execution_count": null,
      "outputs": []
    },
    {
      "cell_type": "markdown",
      "metadata": {
        "id": "oM7I_B9C8ikQ"
      },
      "source": [
        "# **Pete, the baker (part 2)**\n",
        "Pete is now mixing the cake mixture. He also might have added some of the ingredients already, but something is missing. Can you help him to find out?\n",
        "Pete only wants to bake whole cakes. And ingredients, that were added once to the mixture, can't be removed from that.\n",
        "If Pete already added all ingredients for an integer amount of cakes, return an empty hash.\n",
        "If Pete didn't add any ingredients at all, you need to add all ingredients for exactly one cake."
      ]
    },
    {
      "cell_type": "code",
      "source": [
        "import numpy as np\n",
        "import itertools \n",
        "\n",
        "def get_missing_ingredients(recipe, added):\n",
        "\n",
        "    m=max(itertools.chain((np.ceil(added[i]/recipe[i]) for i in added.keys() if i in recipe.keys()),{1}) )\n",
        "    return {i:m*recipe[i] if (i not in added.keys()) else recipe[i]-np.floor(added[i]%recipe[i])+(m-np.floor(added[i]/recipe[i])-1)*recipe[i] for i in recipe.keys() if (i not in added) or ((i in added) and ((added[i]%recipe[i]!=0) or (np.ceil(added[i]/recipe[i])!=m)))  }\n",
        "\n",
        "'''\n",
        "Get the cakes order count \"m\"\n",
        "\n",
        "itertools.chain(...{1}) in case none of the required ingredients are added\n",
        "\"If Pete didn't add any ingredients at all, you need to add all ingredients for exactly one cake.\"\n",
        "\n",
        "If an ingredient is already there -> \n",
        "add an amount so that it is enough for his latest cake \n",
        "add \"m\" minus the count of the already added required amounts\n",
        "\n",
        "If an ingredient isn't, already, added -> \n",
        "add \"m\" of its required amount\n",
        "\n",
        "'''\n",
        "def get_missing_ingredients(recipe, added):\n",
        "    m=max(itertools.chain((np.ceil(added[i]/recipe[i]) for i in added.keys() if i in recipe.keys()),{1}) )\n",
        "\n",
        "    missing={}\n",
        "    for i in recipe.keys() :\n",
        "        if (i in added.keys()) :           \n",
        "            x=recipe[i]-np.floor(added[i]%recipe[i])+(m-np.floor(added[i]/recipe[i])-1)*recipe[i]\n",
        "            if (x!=0):\n",
        "                missing[i]=x\n",
        "                \n",
        "        else :\n",
        "            missing[i]=m*recipe[i]  \n",
        "    return missing\n"
      ],
      "metadata": {
        "id": "zLPOAaLFo2Xb"
      },
      "execution_count": null,
      "outputs": []
    },
    {
      "cell_type": "code",
      "source": [
        "#@title Sample Tests { vertical-output: true, display-mode: \"form\" }\n",
        "# -*- coding: utf-8 -*-\n",
        "recipe = {\"flour\": 200, \"eggs\": 1, \"sugar\": 100}\n",
        "print('should return missing ingredients, when something is missing for 1 cake')\n",
        "test.assert_equals(get_missing_ingredients(recipe, {\"flour\": 100}), {\"flour\": 100, \"eggs\": 1, \"sugar\": 100})\n",
        "test.assert_equals(get_missing_ingredients(recipe, {\"flour\": 200, \"sugar\": 100}), {\"eggs\": 1})\n",
        "  \n",
        "print('should return no missing ingredients, when enough was added for integer amount of cakes')\n",
        "test.assert_equals(get_missing_ingredients(recipe, {\"flour\": 200, \"eggs\": 1, \"sugar\": 100}), {})\n",
        "test.assert_equals(get_missing_ingredients(recipe, {\"flour\": 400, \"eggs\": 2, \"sugar\": 200}), {})\n",
        "test.assert_equals(get_missing_ingredients(recipe, {\"flour\": 1000, \"eggs\": 5, \"sugar\": 500}), {})\n",
        "  \n",
        "recipe = {\"flour\": 200, \"eggs\": 1, \"sugar\": 100}\n",
        "print('should return missing ingredients, when something is missing for 1 cake')\n",
        "test.assert_equals(get_missing_ingredients(recipe, {\"flour\": 100}), {\"flour\": 100, \"eggs\": 1, \"sugar\": 100})\n",
        "test.assert_equals(get_missing_ingredients(recipe, {\"flour\": 200, \"sugar\": 100}), {\"eggs\": 1})\n",
        "  \n",
        "print('should return no missing ingredients, when enough was added for integer amount of cakes')\n",
        "test.assert_equals(get_missing_ingredients(recipe, {\"flour\": 200, \"eggs\": 1, \"sugar\": 100}), {})\n",
        "test.assert_equals(get_missing_ingredients(recipe, {\"flour\": 400, \"eggs\": 2, \"sugar\": 200}), {})\n",
        "test.assert_equals(get_missing_ingredients(recipe, {\"flour\": 1000, \"eggs\": 5, \"sugar\": 500}), {})\n",
        "  \n",
        "print('should return no missing ingredients for next integer amount of cakes')\n",
        "test.assert_equals(get_missing_ingredients(recipe, {\"flour\": 199, \"eggs\": 1, \"sugar\": 100}), {\"flour\": 1})\n",
        "test.assert_equals(get_missing_ingredients(recipe, {\"flour\": 1, \"eggs\": 2, \"sugar\": 200}), {\"flour\": 399})\n",
        "test.assert_equals(get_missing_ingredients(recipe, {\"flour\": 123, \"eggs\": 70}), {\"flour\": 13877, \"sugar\": 7000})\n",
        "print('should return no missing ingredients for next integer amount of cakes')\n",
        "test.assert_equals(get_missing_ingredients(recipe, {\"flour\": 199, \"eggs\": 1, \"sugar\": 100}), {\"flour\": 1})\n",
        "test.assert_equals(get_missing_ingredients(recipe, {\"flour\": 1, \"eggs\": 2, \"sugar\": 200}), {\"flour\": 399})\n",
        "test.assert_equals(get_missing_ingredients(recipe, {\"flour\": 123, \"eggs\": 70}), {\"flour\": 13877, \"sugar\": 7000})"
      ],
      "metadata": {
        "id": "CpkE42Px7KuU"
      },
      "execution_count": null,
      "outputs": []
    },
    {
      "cell_type": "markdown",
      "metadata": {
        "id": "fznt3XpGz4Vq"
      },
      "source": [
        "# **Roman Numerals Helper**\n",
        "\n",
        "Create a RomanNumerals class that can convert a roman numeral to and from an integer value\n",
        "\n",
        "I\t1\n",
        "IV 4\n",
        "V\t5\n",
        "X\t10\n",
        "L\t50\n",
        "C\t100\n",
        "D\t500\n",
        "M\t1000\n",
        "\n",
        "Modern Roman numerals are written by expressing each digit separately starting with the left most digit and skipping any digit with a value of zero. In Roman numerals 1990 is rendered: 1000=M, 900=CM, 90=XC; resulting in MCMXC. 2008 is written as 2000=MM, 8=VIII; or MMVIII. 1666 uses each Roman symbol in descending order: MDCLXVI\n"
      ]
    },
    {
      "cell_type": "code",
      "metadata": {
        "id": "5TlYwWzFz2tc"
      },
      "source": [
        "class RomanNumerals:\n",
        "\n",
        "    def to_roman(val):\n",
        "        return ''\n",
        "\n",
        "    def from_roman(roman_num):\n",
        "        return 0"
      ],
      "execution_count": null,
      "outputs": []
    },
    {
      "cell_type": "code",
      "metadata": {
        "id": "v4UxaKjY1L1r"
      },
      "source": [
        "conversionT={'I':1, 'V':5,'X':10, 'L':50, 'C':100, 'D':500, 'M':1000}\n",
        "class RomanNumerals:\n",
        "    def to_roman(val):\n",
        "        roman=''\n",
        "        for i in [1,10,100,1000] :\n",
        "            under_microscope=(val%(i*10))//i\n",
        "            if not under_microscope:\n",
        "              pass\n",
        "            elif under_microscope==4 or under_microscope==9:\n",
        "              roman+=conversionT[i]+conversionT[i*(under_microscope+1)]\n",
        "            else :\n",
        "              roman+=conversionT[i]*(under_microscope%5)+conversionT.get(conversionT[i],\"\")\n",
        "        return roman\n"
      ],
      "execution_count": null,
      "outputs": []
    },
    {
      "cell_type": "code",
      "metadata": {
        "id": "-IX8RWkz4SXz"
      },
      "source": [
        "https://www.codewars.com/kata/51b66044bce5799a7f000003/train/python"
      ],
      "execution_count": null,
      "outputs": []
    },
    {
      "cell_type": "markdown",
      "metadata": {
        "id": "J486U57qtz4x"
      },
      "source": [
        "# **Permutations**\n",
        "Create all permutations of an input string and remove duplicates, if present. "
      ]
    },
    {
      "cell_type": "code",
      "metadata": {
        "id": "grxJBQdbSIal"
      },
      "source": [
        "import itertools\n",
        "import numpy as np\n",
        "\n",
        "def permutations(string):\n",
        "    return np.unique( list(''.join(i) for i in itertools.permutations(string)) )\n",
        "####################################################################################################################################################################################\n",
        "\n",
        "def permutations(L):\n",
        "    N = len(L)\n",
        "    idx = [0 for i in range(N)]\n",
        "    result = [L]\n",
        "    i = 1\n",
        "    while i < N:\n",
        "        if idx[i] < i:\n",
        "            L = list(L)\n",
        "            swap = i % 2 * idx[i]\n",
        "            L[swap], L[i] = L[i], L[swap]\n",
        "            result.append(L)\n",
        "            idx[i] += 1\n",
        "            i = 1\n",
        "        else:\n",
        "            idx[i] = 0\n",
        "            i += 1\n",
        "    return result\n",
        "##########################################################################################\n",
        "def permutations(s):\n",
        "    if len(s) == 0:\n",
        "        return []\n",
        "    elif len(s) == 1:\n",
        "        return [s]\n",
        "    else:\n",
        "        return set(s[i]+p for i in range(len(s)) for p in permutations(s[:i] + s[i+1:]))\n",
        "\"\"\"\n",
        "k! premières permutations ne change pas les n-k derniers elements\n",
        "\"\"\"\n",
        "\n",
        "\"\"\"\n",
        "def fact(n):\n",
        "  return n*fact(n-1) if n else 1\n",
        "\n",
        "\n",
        "def permut_i(c,output,length,pos):#pos=pos%length  - modification position pour creer un non pattern\n",
        "    m=-1\n",
        "    for i in range(length):    \n",
        "        for j in range(fact(length-1)):\n",
        "            pos+=1\n",
        "            if (pos>=length):\n",
        "                pos=0 \n",
        "            m+=1\n",
        "            print(m,pos)\n",
        "            output[m][pos]=c \n",
        "            output[m+length][pos]=c\n",
        "def permutations(string):\n",
        "    length=len(string)\n",
        "    input=list(string)\n",
        "    output=np.zeros((fact(length),length),dtype=str)\n",
        "    for pos,c in enumerate(string):\n",
        "        permut_i(c,output,length,pos-1)\n",
        "    return output\n",
        "\"\"\""
      ],
      "execution_count": null,
      "outputs": []
    },
    {
      "cell_type": "code",
      "metadata": {
        "id": "Ae4hYPrQbc1X"
      },
      "source": [
        "#@title Sample Tests { vertical-output: true, display-mode: \"form\" }\n",
        "test.assert_equals(sorted(permutations('a')), ['a']);\n",
        "test.assert_equals(sorted(permutations('ab')), ['ab', 'ba'])\n",
        "test.assert_equals(sorted(permutations('aabb')), ['aabb', 'abab', 'abba', 'baab', 'baba', 'bbaa'])"
      ],
      "execution_count": null,
      "outputs": []
    },
    {
      "cell_type": "markdown",
      "metadata": {
        "id": "7B4DeVS_fym5"
      },
      "source": [
        "# **Strip Comments**\n",
        "\n",
        "Complete the solution so that it strips all text that follows any of a set of comment markers passed in. Any whitespace at the end of the line should also be stripped out."
      ]
    },
    {
      "cell_type": "code",
      "metadata": {
        "id": "1qyoHpp5oEZQ"
      },
      "source": [
        "def solution(string,markers):\n",
        "    return \"\\n\".join((line[:min([line.find(i) for i in markers if line.find(i)>=0 ]+[len(line)])]).strip(' ')  for line in list(string.split('\\n')))\n",
        "\n",
        "# def solution(string,markers):\n",
        "#     ch,previous,nextstart=\"\",0,0\n",
        "#     markers=\"\".join(i*string.count(i) for i in markers)\n",
        "#     for i in markers:\n",
        "#           index=string.find(i,previous)\n",
        "#           ch+=(string[nextstart:index]).strip(\" \")\n",
        "#           nextstart=string.find(\"\\n\",index)\n",
        "#           previous=index+1\n",
        "#     return ch"
      ],
      "execution_count": null,
      "outputs": []
    },
    {
      "cell_type": "code",
      "metadata": {
        "id": "LxCKqRQUbc7E"
      },
      "source": [
        "#@title Sample Tests { vertical-output: true, display-mode: \"form\" }\n",
        "# -*- coding: utf-8 -*-\n",
        "test.assert_equals(solution(\"apples, pears # and bananas\\ngrapes\\nbananas !apples\", [\"#\", \"!\"]), \"apples, pears\\ngrapes\\nbananas\")\n",
        "test.assert_equals(solution(\"a #b\\nc\\nd $e f g\", [\"#\", \"$\"]), \"a\\nc\\nd\")"
      ],
      "execution_count": null,
      "outputs": []
    },
    {
      "cell_type": "markdown",
      "metadata": {
        "id": "hgGWkaGQMmPI"
      },
      "source": [
        "# **Web Scraping and Optimization for REALTY INVESTING** "
      ]
    },
    {
      "cell_type": "code",
      "metadata": {
        "id": "UFpaYRMrMiNv"
      },
      "source": [
        "# %%sh\n",
        "# pip install selenium \n",
        "# pip install webdriver-manager\n",
        "# pip install cloudscraper\n",
        "\n",
        "import html5lib, lxml, requests , re, cloudscraper, os, csv, time, sys, random\n",
        "from bs4 import BeautifulSoup as bs\n",
        "import numpy as np\n",
        "import pandas as pd\n",
        "from time import sleep\n",
        "from selenium import webdriver\n",
        "from selenium.webdriver.common.keys import Keys\n",
        "from webdriver_manager.chrome import ChromeDriverManager\n",
        "from time import sleep\n",
        "import os,sys,shlex,subprocess,argparse,time,pandas\n",
        "from numpy.random import randint\n",
        "from socket import timeout\n",
        "\n",
        "\n",
        "url = \"https://www.logic-immo.com/vente-immobilier-0,1_0/options/groupprptypesids=1\"\n",
        "\n",
        "driver = webdriver.Chrome(ChromeDriverManager().install())\n",
        "driver.get(url)\n",
        "sleep(20)\n",
        "p_element = driver.find_element_by_id(id_=\"add-to-selection\")\n",
        "print(p_element)\n",
        "\n",
        "scraper = cloudscraper.create_scraper()\n",
        "source= scraper.get(url).text\n",
        "\n",
        "#source=requests.get(\"https://scrapeme.live/shop/\").text\n",
        "\n",
        "extacted_data='extacted_data.csv'\n",
        "header=np.where(os.path.exists(extacted_data),0,1)\n",
        "with open(extacted_data, 'a', encoding='UTF8', newline='') as f:\n",
        "    writer = csv.writer(f)\n",
        "\n",
        "    # Other available data: energy_letter, client_type, client_id, position, media\n",
        "    #writer.writerow(['list_name','position','price','estate_type','distribution_type','space','id','id_solo','client_id','photos_nb','estate_postalcode','client_postalcode','country','client_type','parent_site','floor_nb','nb_rooms','nb_bedrooms','energy_letter','product_status','media','product_type']) if header else None\n",
        "    writer.writerow(['price','estate_type','distribution_type','space','id_solo','photos_nb','floor_nb','nb_rooms','nb_bedrooms','estate_postalcode','url2post','region']) if header else None\n",
        "    hourlylimit_supervisor=0\n",
        "    for code_region in range(5,24):\n",
        "        page=0\n",
        "        time.sleep(10)\n",
        "        \n",
        "        annonces=[-1] \n",
        "        while(annonces!=[]):\n",
        "\n",
        "            # to avoid being blocked and having to solve captcha            \n",
        "            # if (hourlylimit_supervisor>390):\n",
        "            #   hourlylimit_supervisor=0\n",
        "            #   sleep(7200)\n",
        "\n",
        "\n",
        "            # random clicks to avoid a detection of a crawling pattern\n",
        "            \n",
        "\n",
        "            random_url = f\"https://www.logic-immo.com/vente-immobilier-0,{random.randint(1,23)}_0/options/groupprptypesids={random.randint(1,23)}/page={random.randint(1,23)}\"\n",
        "            requests.get(random_url).text\n",
        "\n",
        "            # to be gentle with the site and to emulate a human behavior\n",
        "            time.sleep(15) \n",
        "\n",
        "            page+=1\n",
        "            url = f\"https://www.logic-immo.com/vente-immobilier-0,{code_region}_0/options/groupprptypesids=1/page={page}\"\n",
        "            scraper = cloudscraper.create_scraper()\n",
        "            source= scraper.get(url).text\n",
        "\n",
        "            soup=bs(source,'lxml')\n",
        "            annonces=soup.find_all(\"a\", class_=\"add-to-selection\")\n",
        "\n",
        "            for annonce in annonces:    \n",
        "\n",
        "                hourlylimit_supervisor+=1\n",
        "\n",
        "                target_field=str(annonce).split(\"{\")[3]\n",
        "                target_data=re.findall(r':([0-9]+)', target_field)\n",
        "                target_data.pop(0)                  #remove position\n",
        "                target_data.pop()                   #remove media\n",
        "                if (len(target_data)<9):            # -1 if floor_nb is not defined\n",
        "                    target_data.insert(6,-1) \n",
        "                elif (len(target_data)>9):         \n",
        "                    target_data.pop()\n",
        "\n",
        "                target_data+=re.findall(r'.*estate_postalcode.:\\'([\\d]+)', target_field) # Preserve the estate_postalcode\n",
        "                \n",
        "                id=target_field[target_field.find(\"id\")+5:target_field.find(\"id_\")-3]\n",
        "                url2post=\"https://www.logic-immo.com/detail-vente-\"+id+\".htm\"\n",
        "                target_data.append(url2post)\n",
        "                target_data.append(code_region)\n",
        "                writer.writerow(target_data)\n",
        "\n",
        "\"\"\"\n",
        "Variables: proposed_price(), apport_complementaire\n",
        "Input: duree_2possession\n",
        "From databases: id, price, surface, prix_2ref_moyen_m2,val_loc_indicative_m2, url2post,estate_postalcode\n",
        "\n",
        "other existing information \n",
        "        # estate_type\n",
        "        # distribution_type: 1 location, 2 vente\n",
        "        # photos_nb\n",
        "        # floor_nb\n",
        "        # nb_rooms\n",
        "        # nb_bedrooms\n",
        "\n",
        "Might be useful if found: \n",
        "        # historique/ the amount deemed necessary for repairs\n",
        "        # Economy/ Market outlook on real estate\n",
        "        # Future estimations of demographics, Government Policies\n",
        "\n",
        "\"\"\"\n",
        "\n",
        "\n",
        "duree_pret_en_Mois=180\n",
        "interets=1.03\n",
        "interets_mensuel=interets/1200\n",
        "assurance_Pret=0.273\n",
        "caution_PPD,levee_PPD=2500,2500\n",
        "penalités_RA=0.03\n",
        "\n",
        "annuite=interets_mensuel/(1-(1+interets_mensuel)**(-duree_pret_en_Mois))\n",
        "\n",
        "\n",
        "frais_dagence=10000\n",
        "pourcentage_commission=0.0799\n",
        "charge=75\n",
        "taux_fonciere=33.3\n",
        "\n",
        "taux_occupation=0.8\n",
        "\n",
        "class Bien():\n",
        "    def __init__(self,apport_complementaire,price,surface,estate_postalcode,url2post,prix_2ref_moyen_m2,val_loc_indicative_m2):\n",
        "\n",
        "        self.price=price\n",
        "        self.surface=surface\n",
        "        self.estate_postalcode=estate_postalcode\n",
        "        self.url2post=url2post\n",
        "\n",
        "        self.apport_complementaire=apport_complementaire\n",
        "\n",
        "        self.prix_2ref_moyen_m2=int(prix_2ref_moyen_m2)\n",
        "        self.val_loc_indicative_m2=val_loc_indicative_m2\n",
        "\n",
        "    market_value=lambda self:self.prix_2ref_moyen_m2*self.surface \n",
        "    worth_it=lambda self:self.market_value()>0.9*self.price  #True                            # when acquiring more accurate gov data self.market_value()>0.9*self.price \n",
        "\n",
        "    proposed_price=lambda self:  self.market_value()*0.9 #self.price*0.9          # when acquiring more accurate gov data self.market_value()*0.9\n",
        "\n",
        "    get_apport_aubanque=lambda self:0.2*self.proposed_price()+self.apport_complementaire\n",
        "    #+pourcentage_commission*(self.proposed_price()-frais_dagence)\n",
        "\n",
        "    get_emprunte=lambda self:self.proposed_price()-self.get_apport_aubanque()\n",
        "    get_price_per_m2=lambda self:self.price/self.surface\n",
        "    get_prix_propose_par_m2=lambda self:self.proposed_price()/self.surface\n",
        "    get_mensualites_pret=lambda self:self.get_emprunte()*annuite\n",
        "    get_mensualites_assu=lambda self:self.get_emprunte()*assurance_Pret/1200\n",
        "\n",
        "    get_loyer_bas=lambda self:self.surface*self.val_loc_indicative_m2+0.6*charge\n",
        "    get_loyer_haut=lambda self:self.get_loyer_bas()+0.4*charge+taux_fonciere\n",
        "\n",
        "    \n",
        "    \n",
        "    def residuel(self,duree_2possession):\n",
        "        return self.residuel(duree_2possession-1)*(interets_mensuel+1)-annuite*self.get_emprunte() if duree_2possession>=1 else self.get_emprunte()\n",
        "\n",
        "    get_capital_rembourse=lambda self,duree_2possession:self.get_emprunte()-self.residuel(duree_2possession)\n",
        "\n",
        "    get_plus_value=lambda self:0.2*self.proposed_price()\n",
        "    \"\"\"\n",
        "    Assiette pour l'impôt sur le revenu 0% pour une detention de moins de 6 ans, \n",
        "                                        6% pour une detention de la 6e à la 21e année,(pour chaque annee apres la 6e)   \n",
        "                                        4% pour la 22e année\n",
        "                                        Exonération au delà de la 22e année\n",
        "\n",
        "    \"\"\"\n",
        "    abattement=lambda self,detention_enannee: self.get_plus_value()*np.where(detention_enannee<6,0,np.where(detention_enannee<=21,6,4))*(detention_enannee-6+1)/100     \n",
        "    get_impots_plus_value=lambda self,duree_2possession:( self.get_plus_value()-self.abattement(np.floor(duree_2possession/12)))*19/100 if duree_2possession<264 else 0 # Exonération au delà de la 22e année de detention\n",
        "\n",
        "    get_frais_notaire=lambda self:(self.proposed_price()-frais_dagence)*pourcentage_commission # l'historique est indisponible pour le moment pour un np.where(historique==\"Ancien\",0.0799,0.02)\n",
        "   \n",
        "   \n",
        "\n",
        "    get_revenu_aumois_i=lambda self,duree_2possession:taux_occupation*duree_2possession*self.get_loyer_bas()+(2-penalités_RA)*(self.get_emprunte()-self.residuel(duree_2possession))+self.get_plus_value()-self.get_impots_plus_value(duree_2possession)+duree_2possession*(self.get_mensualites_pret()-taux_fonciere-charge)-self.get_mensualites_assu()-self.get_frais_notaire()-frais_dagence-levee_PPD*2\n",
        "\n",
        "\n",
        "\n",
        "# parser = argparse.ArgumentParser()\n",
        "# for i in range(len(parameter_s_keys)):\n",
        "#     parser.add_argument('-'+parameter_s_keys[i])\n",
        "# namespace = parser.parse_args()\n",
        "# parameters=namespace.__dict__\n",
        "# locals().update(parameters)\n",
        "#parameters.pop('x',\"\") x notrequired\n",
        "#check_all(parameters)\n",
        "\n",
        "scrapped_data='scrapped_data.csv'\n",
        "#data=pd.read_csv(\"C:/Apache24/htdocs/EstatEagle/dataset/\"+scrapped_data)\n",
        "data=pd.read_csv(\"/content/\"+scrapped_data)\n",
        "data.columns\n",
        "\n",
        "parameter_s_keys=[\"distribution_type\",\"region\",\"estate_type\",\"nb_rooms\",\"nb_bedrooms\",\"space\",\"price\",\"duree_2possession\"]\n",
        "values=2,[1],[1],1,0,8,None,120\n",
        "parameters = dict(zip(parameter_s_keys, values))\n",
        "\n",
        "\n",
        "scrapped_parameters=parameters\n",
        "scrapped_parameters.pop(\"duree_2possession\")\n",
        "operation=dict(zip(parameter_s_keys, [\"==\",\"in\",\"in\",\"==\",\"==\",\">=\",\">=\",\"==\"]))\n",
        "query='region>0'+\" \".join(\" and \"+key+\" \"+operation[key]+\" \"+str(value) for key,value in scrapped_parameters.items() if value!=None)\n",
        "filtred=data.query(query)\n",
        "\n",
        "prix_moyen_2vente_m2='dvf-communes-2019.csv'\n",
        "#data_ref=pd.read_csv(\"C:/Apache24/htdocs/EstatEagle/dataset/\"+prix_moyen_2vente_m2)\n",
        "data_ref=pd.read_csv(os.getcwd()+'/'+prix_moyen_2vente_m2)\n",
        "\n",
        "lines=data_ref['ID;INSEE_COM;INSEE_DEP;INSEE_REG;CODE_EPCI;NOM_COM_M;POPULATION;Nb_Ventes;PrixMoyen_M2']\n",
        "\n",
        "info={}\n",
        "for i in lines:\n",
        "  prix=i[i.rfind(\";\")+1:]\n",
        "  info[i[18:23]]=int(prix) if (prix!='NA') else 0\n",
        "\n",
        "\n",
        "filtred['prix_2ref_moyen_m2']=[info.get(str(i),0) for i in filtred['estate_postalcode']]\n",
        "\n",
        "#filtred['market_price']=[np.where(int(info.get(str(i),'0'))*j  for i,j in zip(filtred['estate_postalcode'],filtred['space']) ]\n",
        "#second_query='market_price >+0.9*price'\n",
        "#second_filtred=filtred.query(second_query)\n",
        "\n",
        "### to test \n",
        "distribution_type,region,estate_type,nb_rooms,nb_bedrooms,surface,price,duree_2possession=2,1,1,1,0,8,None,120\n",
        "\n",
        "\n",
        "\n",
        "\n",
        "\"\"\"\n",
        "Bien inputs: \n",
        "        market_value,apport_complementaire,price,surface,estate_postalcode,url2post,prix_2ref_moyen_m2,val_loc_indicative_m2\n",
        "\n",
        "UI exec passed parameters: \n",
        "        distribution_type,region,estate_type,nb_rooms,nb_bedrooms,space,price,duree_2possession\n",
        "\n",
        "dataframe columns:(scrapped_data.csv + dvf-communes-2019) filtred.iterrows()\n",
        "        still exist:\n",
        "        ####################################price                                                             \n",
        "        estate_type                                                           \n",
        "        distribution_type                                                    \n",
        "        ####################################space                                                                 \n",
        "        id_solo                                                        \n",
        "        photos_nb                                                            \n",
        "        floor_nb                                                              \n",
        "        nb_rooms                                                              \n",
        "        nb_bedrooms                                                           \n",
        "        estate_postalcode                                                 \n",
        "        ####################################url2post              \n",
        "        region                                                                \n",
        "        ####################################prix_2ref_moyen_m2\n",
        "\"\"\"\n",
        "def final():\n",
        "  for i in filtred.iterrows():\n",
        "      yield (Bien(40000 ,i[1][0],i[1][3],i[1][9],i[1][10],i[1][12],22)).get_(duree_2possession), (Bien(40000 ,i[1][0],i[1][3],i[1][9],i[1][10],i[1][12],22)).worth_it()\n",
        "\n",
        "filtred['gain']=[i[0] for i in final()]\n",
        "filtred['worthit']=[i[1] for i in final()]"
      ],
      "execution_count": null,
      "outputs": []
    },
    {
      "cell_type": "markdown",
      "source": [
        "# **Perfect power**\n",
        "A perfect power is a positive integer that can be expressed as an integer power of another positive integer. More formally, n is a perfect power if there exist natural numbers m > 1, and k > 1 such that m**k = n."
      ],
      "metadata": {
        "id": "0IXG-gmxMg5H"
      }
    },
    {
      "cell_type": "code",
      "source": [
        "import numpy as np\n",
        "import random\n",
        "\n",
        "def even_odd(n):\n",
        "    s, d = 0, n\n",
        "    while d % 2 == 0:\n",
        "          s += 1\n",
        "          d >>= 1\n",
        "    return s, d\n",
        "\n",
        "def Miller_Rabin(a, p):\n",
        "    s, d = even_odd(p-1)\n",
        "    a = pow(a, d, p)\n",
        "    if a == 1: return True\n",
        "    for i in range(s):\n",
        "        if a == p-1: return True\n",
        "        a = pow(a, 2, p)\n",
        "    return False\n",
        "\n",
        "def is_prime(p):\n",
        "    if p == 2: return True\n",
        "    if p <= 1 or p % 2 == 0: return False\n",
        "    return all(Miller_Rabin(random.randint(2,p-1),p) for _ in range(40))\n",
        "\n",
        "def isPP(n):\n",
        "    l=[]  \n",
        "    common=0\n",
        "    if is_prime(n): return None\n",
        "    for i in range (2,n//2+1):\n",
        "        count=0\n",
        "        if is_prime(i):\n",
        "            while(n%i==0):\n",
        "                n/=i\n",
        "                count+=1   \n",
        "        if count==1: return None\n",
        "        if count>1 :\n",
        "            if common%count==0 and common!=count:\n",
        "                l*=common//count\n",
        "                common=count\n",
        "            elif count%common!=0:  \n",
        "                return None\n",
        "            l.append(i)\n",
        "        if n==1 :break\n",
        "    return [np.prod(l),common]\n",
        "####################################################################################################################################\n",
        "import math\n",
        "def isPP(n):\n",
        "    i=2\n",
        "    while i < n:\n",
        "        if math.log(n, i) < 2:\n",
        "            return None\n",
        "        if i ** round(math.log(n, i)) == n:\n",
        "            return [i, round(math.log(n, i))]\n",
        "        i+=1 "
      ],
      "metadata": {
        "id": "S34b_nW_MgNP"
      },
      "execution_count": 10,
      "outputs": []
    },
    {
      "cell_type": "code",
      "metadata": {
        "id": "1VfexPuGbc-W"
      },
      "source": [
        "#@title Sample Tests { vertical-output: true, display-mode: \"form\" }\n",
        "from random import random, randrange\n",
        "from math import log, floor\n",
        "\n",
        "test.describe(\"perfect powers\")\n",
        "test.it(\"should work for some examples\")\n",
        "test.assert_equals(isPP(4), [2,2], \"4 = 2^2\")\n",
        "test.assert_equals(isPP(9), [3,2], \"9 = 3^2\")\n",
        "test.assert_equals(isPP(5), None, \"5 isn't a perfect power\")\n",
        "\n",
        "test.it(\"should work for the first perfect powers\")\n",
        "pp = [4, 8, 9, 16, 25, 27, 32, 36, 49, 64, 81, 100, 121, 125, 128, 144, 169, 196, 216, 225, 243, 256, 289, 324, 343, 361, 400, 441, 484]\n",
        "for item in pp:\n",
        "    test.assert_not_equals(isPP(item), None, \"the perfect power \"+str(item)+\" wasn't recognized as one\")\n",
        "\n",
        "test.it(\"should work for random perfect powers\")\n",
        "for i in range(100):\n",
        "    m = 2 + floor(random() * 255)\n",
        "    k = 2 + floor(random() * log(268435455) / log(m))\n",
        "    l = m**k\n",
        "    r = isPP(l)\n",
        "    if r==None:\n",
        "        test.assert_not_equals(r, None, str(l) + \" is a perfect power\")\n",
        "        break\n",
        "    elif r[0]**r[1] != l:\n",
        "        test.assert_equals(r[0]**r[1], l, \"your pair (\" + str(r[0]) + \", \"+ str(r[1])+ \") doesn't work for \"+ str(l))\n",
        "        break\n",
        "      \n",
        "        \n",
        "test.it(\"should return valid pairs for random inputs\")\n",
        "for i in range(100):\n",
        "    l = randrange(65535);\n",
        "    r = isPP(l);\n",
        "    if r != None and r[0]**r[1] != l:\n",
        "        test.assert_equals(r[0]**r[1], l, \"your pair (\"+str(r[0])+\", \"+str(r[1])+\") doesn't work for \"+str(l))\n",
        "        break\n"
      ],
      "execution_count": null,
      "outputs": []
    },
    {
      "cell_type": "markdown",
      "source": [
        "# **Schrödinger's Boolean**\n",
        "Define omnibool so that it returns True for the following:\n",
        "\n",
        "omnibool == True and omnibool == False"
      ],
      "metadata": {
        "id": "i99i4Icp5y3a"
      }
    },
    {
      "cell_type": "code",
      "source": [
        "class Omnibool:\n",
        "    def __eq__(self, _):\n",
        "        return True\n",
        "omnibool = Omnibool()"
      ],
      "metadata": {
        "id": "6SgdDalO5x8_"
      },
      "execution_count": 73,
      "outputs": []
    },
    {
      "cell_type": "code",
      "metadata": {
        "id": "C9U6F1o6bdIw"
      },
      "source": [
        "#@title Sample Tests { vertical-output: true, display-mode: \"form\" }\n",
        "test.describe('Basic Tests')\n",
        "test.assert_equals(omnibool, True)\n",
        "test.assert_equals(omnibool, False)"
      ],
      "execution_count": null,
      "outputs": []
    },
    {
      "cell_type": "markdown",
      "source": [
        "# **Checkerboard Resolution**\n",
        "Counting the black squares on a special checkerboard. It is special because it has a resolution which determines how the black and white squares are laid out.\n",
        "\n",
        "The resolution refers to the dimensions of squares of a single colour.\n",
        "\n",
        "The top left square is always white, and we are counting the INDIVIDUAL black squares on the board.\n",
        "\n",
        "11 * 6 * 1 \n",
        "\n",
        "Number of black squares = 33\n",
        "\n",
        "![0.jpg](data:image/jpeg;base64,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)\n",
        "\n",
        "11 * 6 * 5\n",
        "\n",
        "Number of black squares = 31\n",
        "\n",
        "![1.jpg](data:image/jpeg;base64,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)"
      ],
      "metadata": {
        "id": "OyFtXJqKD59y"
      }
    },
    {
      "cell_type": "code",
      "source": [
        "import numpy as np\n",
        "\n",
        "def count_checkerboard(h,w,r):\n",
        "\n",
        "    return ((h//r)//2)*r*w+ r*(h%r)*((w//r)//2)+ (h%r)*(w%r) * ((w//r)%2) if (h//r)%2==0 else ((h//r)//2)*r*w + r*r*((w//r)//2) + (h%r)*((w//r)//2+(w//r)%2)*r + r*(w%r)*((w//r)%2)+(h%r)*(w%r)*((w//r+1)%2)\n",
        "\n",
        "# More exhaustive version \n",
        "def count_checkerboard(h,w,r):\n",
        "    x=0 \n",
        "    if (h//r)%2==1  and (w//r)%2==1 :\n",
        "        x=((h//r)//2)*r*w + r*r*((w//r)//2)+ r*(w%r) +(h%r)*((w//r)//2 + 1)*r \n",
        "    if (h//r)%2==1  and (w//r)%2==0 :\n",
        "        x=((h//r)//2)*r*w + r*r*((w//r)//2) + (h%r)*((w//r)//2)*r + (h%r)*(w%r) \n",
        "\n",
        "    if (h//r)%2==0  and (w//r)%2==1 :\n",
        "        x=((h//r)//2)*r*w+ r*(h%r)*((w//r)//2)+ (h%r)*(w%r)\n",
        "    if (h//r)%2==0  and (w//r)%2==0 :\n",
        "        x=((h//r)//2)*r*w+ r*(h%r)*((w//r)//2)\n",
        "    return x"
      ],
      "metadata": {
        "id": "QtHEfbEGD410"
      },
      "execution_count": 17,
      "outputs": []
    },
    {
      "cell_type": "code",
      "metadata": {
        "id": "5yMGk2bxbdcp"
      },
      "source": [
        "#@title Sample Tests { vertical-output: true, display-mode: \"form\" }\n",
        "\n",
        "def tests():\n",
        "    @test.it(\"Small examples\")\n",
        "    def small_ex():\n",
        "        # From the description\n",
        "        test.assert_equals(count_checkerboard(11, 6, 1), 33)\n",
        "        test.assert_equals(count_checkerboard(11, 6, 2), 32)\n",
        "        test.assert_equals(count_checkerboard(11, 6, 5), 31)\n",
        "        \n",
        "        # More basic examples\n",
        "        test.assert_equals(count_checkerboard(9, 5, 2), 22)\n",
        "        test.assert_equals(count_checkerboard(9, 5, 4), 21)\n",
        "        test.assert_equals(count_checkerboard(9, 5, 8), 5)\n",
        "        \n",
        "    @test.it(\"Larger examples\")\n",
        "    def larger_ex():\n",
        "        test.assert_equals(count_checkerboard(123456, 7654321, 333), 472485924597)\n",
        "        test.assert_equals(count_checkerboard(10**10, 10, 20), 5*10**10)\n",
        "        test.assert_equals(count_checkerboard(10**10, 11, 21), 54999999978)\n",
        "        test.assert_equals(count_checkerboard(8**5, 7**9, 124), 661153496464)\n",
        "\n",
        "    @test.it(\"Some edge cases?\")\n",
        "    def edge_cases():\n",
        "        test.assert_equals(count_checkerboard(0, 123, 1), 0)\n",
        "        test.assert_equals(count_checkerboard(445, 998, 101010), 0)\n",
        "        test.assert_equals(count_checkerboard(0, 0, 1), 0)\n",
        "tests()"
      ],
      "execution_count": null,
      "outputs": []
    }
  ]
}